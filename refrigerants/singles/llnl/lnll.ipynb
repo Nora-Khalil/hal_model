{
 "cells": [
  {
   "cell_type": "markdown",
   "id": "26b00893",
   "metadata": {},
   "source": [
    "# Flame Speed with Sensitivity Analysis"
   ]
  },
  {
   "cell_type": "markdown",
   "id": "95c43501",
   "metadata": {},
   "source": [
    "### Import Modules"
   ]
  },
  {
   "cell_type": "code",
   "execution_count": 1,
   "id": "af966f25",
   "metadata": {},
   "outputs": [
    {
     "name": "stdout",
     "output_type": "stream",
     "text": [
      "Running Cantera Version: 2.5.1\n"
     ]
    }
   ],
   "source": [
    "from __future__ import print_function\n",
    "from __future__ import division\n",
    "\n",
    "import cantera as ct\n",
    "import numpy as np\n",
    "\n",
    "print(\"Running Cantera Version: \" + str(ct.__version__))"
   ]
  },
  {
   "cell_type": "code",
   "execution_count": 2,
   "id": "f2f65e97",
   "metadata": {},
   "outputs": [],
   "source": [
    "# Import plotting modules and define plotting preference\n",
    "%matplotlib notebook\n",
    "import matplotlib.pylab as plt\n",
    "\n",
    "plt.rcParams['axes.labelsize'] = 14\n",
    "plt.rcParams['xtick.labelsize'] = 12\n",
    "plt.rcParams['ytick.labelsize'] = 12\n",
    "plt.rcParams['legend.fontsize'] = 10\n",
    "plt.rcParams['figure.figsize'] = (8,6)\n",
    "\n",
    "# Get the best of both ggplot and seaborn\n",
    "plt.style.use('ggplot')\n",
    "plt.style.use('seaborn-deep')\n",
    "\n",
    "plt.rcParams['figure.autolayout'] = True\n",
    "\n",
    "# Import Pandas for DataFrames\n",
    "import pandas as pd"
   ]
  },
  {
   "cell_type": "markdown",
   "id": "fd020b5e",
   "metadata": {},
   "source": [
    "### Define the reactant conditions, gas mixture and kinetic mechanism associated with the gas"
   ]
  },
  {
   "cell_type": "markdown",
   "id": "d6d8fe4e",
   "metadata": {},
   "source": [
    "## Inlet Temperature in Kelvin and Inlet Pressure in Pascals\n",
    "#In this case we are setting the inlet T and P to room temperature conditions\n",
    "To = 298\n",
    "Po = 100000\n",
    "\n",
    "#Define the gas-mixutre and kinetics\n",
    "#In this case, we are choosing a GRI3.0 gas\n",
    "gas = ct.Solution('c2h6/cantera/chem.cti')\n",
    "i = 0; list = []\n",
    "while i < .0525: \n",
    "    list.append(i)\n",
    "    i += 0.0025\n",
    "for x in list: \n",
    "    dict = {':x}\n",
    "    y = 'C2H6(1):%(mole)d, O2(2):(1-%(mole)d)*.21, N2:(1-%(mole)d)*0.79' %dict\n",
    "    gas.set_equivalence_ratio(1.0, y,'O2(2):0.21, N2:0.79') \n",
    "    gas.TP = To, Po\n",
    "    width = 0.014\n",
    "    flame = ct.FreeFlame(gas, width=width)\n",
    "    flame.set_refine_criteria(ratio=3, slope=0.1, curve=0.1)\n",
    "    loglevel = 1\n",
    "    flame.solve(loglevel=loglevel, auto=True)\n",
    "# Create a stoichiometric C2H6/Air premixed mixture \n",
    "#gas.set_equivalence_ratio(1.0, 'C2H6(1):1.0','O2(2):0.21, N2:0.79')\n",
    "#gas.TP = To, Po"
   ]
  },
  {
   "cell_type": "code",
   "execution_count": 3,
   "id": "83792e03",
   "metadata": {
    "scrolled": false
   },
   "outputs": [
    {
     "ename": "CanteraError",
     "evalue": "\n***********************************************************************\nCanteraError thrown by Application::findInputFile:\n\nInput file ./llnl/llnl/llnl.inp.cti not found in directories \n'.', \n'/home/khalil.nor/.conda/envs/cantera_env/lib/python3.9/site-packages/cantera/data', \n'/home/khalil.nor/.conda/envs/cantera_env/share/cantera/data'\n\nTo fix this problem, either:\n    a) move the missing files into the local directory;\n    b) define environment variable CANTERA_DATA to\n         point to the directory containing the file.\n***********************************************************************\n",
     "output_type": "error",
     "traceback": [
      "\u001b[0;31m---------------------------------------------------------------------------\u001b[0m",
      "\u001b[0;31mCanteraError\u001b[0m                              Traceback (most recent call last)",
      "\u001b[0;32m/tmp/ipykernel_16712/1252085664.py\u001b[0m in \u001b[0;36m<module>\u001b[0;34m\u001b[0m\n\u001b[1;32m      3\u001b[0m \u001b[0;34m\u001b[0m\u001b[0m\n\u001b[1;32m      4\u001b[0m \u001b[0;34m\u001b[0m\u001b[0m\n\u001b[0;32m----> 5\u001b[0;31m \u001b[0mgas\u001b[0m \u001b[0;34m=\u001b[0m \u001b[0mct\u001b[0m\u001b[0;34m.\u001b[0m\u001b[0mSolution\u001b[0m\u001b[0;34m(\u001b[0m\u001b[0;34m'./llnl/llnl/llnl.inp.cti'\u001b[0m\u001b[0;34m)\u001b[0m\u001b[0;34m\u001b[0m\u001b[0;34m\u001b[0m\u001b[0m\n\u001b[0m\u001b[1;32m      6\u001b[0m \u001b[0mi\u001b[0m \u001b[0;34m=\u001b[0m \u001b[0;36m0.025\u001b[0m\u001b[0;34m;\u001b[0m \u001b[0mmole_frac_list\u001b[0m \u001b[0;34m=\u001b[0m \u001b[0;34m[\u001b[0m\u001b[0;34m]\u001b[0m\u001b[0;34m\u001b[0m\u001b[0;34m\u001b[0m\u001b[0m\n\u001b[1;32m      7\u001b[0m \u001b[0;32mwhile\u001b[0m \u001b[0mi\u001b[0m \u001b[0;34m<\u001b[0m \u001b[0;36m.5\u001b[0m\u001b[0;34m:\u001b[0m\u001b[0;34m\u001b[0m\u001b[0;34m\u001b[0m\u001b[0m\n",
      "\u001b[0;32minterfaces/cython/cantera/base.pyx\u001b[0m in \u001b[0;36mcantera._cantera._SolutionBase.__cinit__\u001b[0;34m()\u001b[0m\n",
      "\u001b[0;32minterfaces/cython/cantera/base.pyx\u001b[0m in \u001b[0;36mcantera._cantera._SolutionBase._init_cti_xml\u001b[0;34m()\u001b[0m\n",
      "\u001b[0;31mCanteraError\u001b[0m: \n***********************************************************************\nCanteraError thrown by Application::findInputFile:\n\nInput file ./llnl/llnl/llnl.inp.cti not found in directories \n'.', \n'/home/khalil.nor/.conda/envs/cantera_env/lib/python3.9/site-packages/cantera/data', \n'/home/khalil.nor/.conda/envs/cantera_env/share/cantera/data'\n\nTo fix this problem, either:\n    a) move the missing files into the local directory;\n    b) define environment variable CANTERA_DATA to\n         point to the directory containing the file.\n***********************************************************************\n"
     ]
    }
   ],
   "source": [
    "\n",
    "To = 298\n",
    "Po = 1e5 # ct.one_atm\n",
    "\n",
    "\n",
    "gas = ct.Solution('./llnl/llnl/llnl.inp.cti') \n",
    "i = 0.025; mole_frac_list = []\n",
    "while i < .5: \n",
    "    mole_frac_list.append(i) \n",
    "    i += 0.0025 \n",
    "results = {}\n",
    "results_final = {}\n",
    "\n",
    "mole_frac_list"
   ]
  },
  {
   "cell_type": "code",
   "execution_count": null,
   "id": "8f99b50f",
   "metadata": {},
   "outputs": [],
   "source": [
    "mole_frac_list = [0.01, 0.0566, 0.1]\n",
    "# stoichiometric"
   ]
  },
  {
   "cell_type": "code",
   "execution_count": null,
   "id": "b7e93403",
   "metadata": {},
   "outputs": [],
   "source": [
    "\n",
    "'''\n",
    "mole_frac_dict = {'c2h6':x, 'O2':(1-x)*.21, 'N2':(1-x)*0.79 }\n",
    "ratio = (mole_frac_dict['c2h6']/mole_frac_dict['O2'])/(1/3.5)\n",
    "print(ratio)\n",
    "gas.set_equivalence_ratio(0.041771094402673355, 'C2H6(1)','O2(2):0.21, N2:0.79') \n",
    "gas.TP = To, Po \n",
    "width = 0.08\n",
    "flame = ct.FreeFlame(gas, width=width)\n",
    "flame.set_refine_criteria(ratio=3, slope=0.1, curve=0.1) \n",
    "loglevel = 1 \n",
    "flame.solve(loglevel=loglevel, auto=True)\n",
    "Su = flame.u[0]\n",
    "results[x] = Su\n",
    "sltn = flame.to_solution_array()\n",
    "pd = sltn.to_pandas()\n",
    "print(pd)\n",
    "print(Su)\n",
    "\n",
    "'''\n",
    "for x in mole_frac_list: \n",
    "    mole_frac_dict = {'c2h6':x, 'O2':(1-x)*.21, 'N2':(1-x)*0.79 }\n",
    "    ratio = (mole_frac_dict['c2h6']/mole_frac_dict['O2'])/(1/3.5)\n",
    "    print(ratio)\n",
    "    gas.set_equivalence_ratio(ratio, 'C2H6','O2:0.21, N2:0.79') \n",
    "    gas.TP = To, Po \n",
    "    width = 0.08\n",
    "    flame = ct.FreeFlame(gas, width=width)\n",
    "    flame.set_refine_criteria(ratio=3, slope=0.1, curve=0.1) \n",
    "    loglevel = 1 \n",
    "    flame.solve(loglevel=loglevel, auto=True)\n",
    "    Su = flame.u[0]\n",
    "    Su_final = flame.u[-1]\n",
    "    results[x] = Su\n",
    "    results_final[x] = Su_final\n",
    "    sltn = flame.to_solution_array()\n",
    "    pd = sltn.to_pandas()\n",
    "    print(pd)\n",
    "\n"
   ]
  },
  {
   "cell_type": "code",
   "execution_count": null,
   "id": "2c439ce0",
   "metadata": {},
   "outputs": [],
   "source": [
    "flame.velocity"
   ]
  },
  {
   "cell_type": "code",
   "execution_count": null,
   "id": "898807a0",
   "metadata": {},
   "outputs": [],
   "source": [
    "pd.plot('grid')"
   ]
  },
  {
   "cell_type": "code",
   "execution_count": null,
   "id": "602dfc88",
   "metadata": {},
   "outputs": [],
   "source": [
    "results"
   ]
  },
  {
   "cell_type": "markdown",
   "id": "10317c90",
   "metadata": {},
   "source": [
    "### Define flame simulation conditions"
   ]
  },
  {
   "cell_type": "code",
   "execution_count": null,
   "id": "f92f509d",
   "metadata": {},
   "outputs": [],
   "source": [
    "#plotting \n",
    "xresults = list(results.keys())\n",
    "yresults = list(results.values())\n",
    "\n",
    "plt.figure()\n",
    "\n",
    "plt.plot(xresults, yresults, '-o')\n",
    "#plt.xlabel('Distance (cm)')\n",
    "#plt.ylabel('Temperature (K)');"
   ]
  },
  {
   "cell_type": "code",
   "execution_count": null,
   "id": "616b4317",
   "metadata": {},
   "outputs": [],
   "source": [
    "# Domain width in metres\n",
    "#width = 0.014\n",
    "\n",
    "# Create the flame object\n",
    "#flame = ct.FreeFlame(gas, width=width)\n",
    "\n",
    "# Define tolerances for the solver\n",
    "#flame.set_refine_criteria(ratio=3, slope=0.1, curve=0.1)\n",
    "\n",
    "# Define logging level\n",
    "#loglevel = 1"
   ]
  },
  {
   "cell_type": "markdown",
   "id": "977ca223",
   "metadata": {},
   "source": [
    "### Solve"
   ]
  },
  {
   "cell_type": "code",
   "execution_count": null,
   "id": "3726c939",
   "metadata": {},
   "outputs": [],
   "source": [
    "#flame.solve(loglevel=loglevel, auto=True)\n",
    "#Su0 = flame.u[0]\n",
    "print(\"Flame Speed is: {:.2f} cm/s\".format(Su0*100))\n",
    "\n",
    "# Note that the variable Su0 will also be used downsteam in the sensitivity analysis"
   ]
  },
  {
   "cell_type": "code",
   "execution_count": null,
   "id": "e167d94a",
   "metadata": {},
   "outputs": [],
   "source": [
    "plt.figure()\n",
    "\n",
    "plt.plot(flame.u, flame.T, '-o')\n",
    "plt.xlabel('Distance (cm)')\n",
    "plt.ylabel('Temperature (K)');"
   ]
  },
  {
   "cell_type": "markdown",
   "id": "08d250d6",
   "metadata": {},
   "source": [
    "### Plot figures\n",
    "\n",
    "Check and see if all has gone well. Plot temperature and species fractions to see\n",
    "\n",
    "#### Temperature Plot"
   ]
  },
  {
   "cell_type": "code",
   "execution_count": null,
   "id": "5657257d",
   "metadata": {},
   "outputs": [],
   "source": [
    "plt.figure()\n",
    "\n",
    "plt.plot(flame.grid*100, flame.T, '-o')\n",
    "plt.xlabel('Distance (cm)')\n",
    "plt.ylabel('Temperature (K)');"
   ]
  },
  {
   "cell_type": "markdown",
   "id": "78ad00d0",
   "metadata": {},
   "source": [
    "#### Major species' plot"
   ]
  },
  {
   "cell_type": "markdown",
   "id": "2b152e8b",
   "metadata": {},
   "source": [
    "To plot species, we first have to identify the index of the species in the array\n",
    "For this, cut & paste the following lines and run in a new cell to get the index\n",
    "\n",
    "    for i, specie in enumerate(gas.species()):\n",
    "        print(str(i) + '. ' + str(specie))"
   ]
  },
  {
   "cell_type": "code",
   "execution_count": null,
   "id": "3dfb1098",
   "metadata": {
    "scrolled": true
   },
   "outputs": [],
   "source": [
    "for i, specie in enumerate(gas.species()):\n",
    "    print(str(i) + '. ' + str(specie))"
   ]
  },
  {
   "cell_type": "code",
   "execution_count": null,
   "id": "a05951e6",
   "metadata": {},
   "outputs": [],
   "source": [
    "# Extract concentration data\n",
    "X_C2H6 = flame.X[4]\n",
    "X_CO2 = flame.X[48]\n",
    "\n",
    "\n",
    "plt.figure()\n",
    "\n",
    "plt.plot(flame.grid*100, X_CH4, '-o', label=r'$CH_{4}$')\n",
    "plt.plot(flame.grid*100, X_CO2, '-s', label=r'$CO_{2}$')\n",
    "plt.plot(flame.grid*100, X_H2O, '-<', label=r'$H_{2}O$')\n",
    "\n",
    "plt.legend(loc=2)\n",
    "plt.xlabel('Distance (cm)')\n",
    "plt.ylabel('MoleFractions');"
   ]
  },
  {
   "cell_type": "markdown",
   "id": "aadcf358",
   "metadata": {},
   "source": [
    "## Sensitivity Analysis\n",
    "\n",
    "See which reactions effect the flame speed the most"
   ]
  },
  {
   "cell_type": "code",
   "execution_count": null,
   "id": "65e034a3",
   "metadata": {},
   "outputs": [],
   "source": [
    "# Create a dataframe to store sensitivity-analysis data\n",
    "sensitivities = pd.DataFrame(data=[], index=gas.reaction_equations(range(gas.n_reactions)))"
   ]
  },
  {
   "cell_type": "markdown",
   "id": "9dd22b23",
   "metadata": {},
   "source": [
    "### Compute sensitivities"
   ]
  },
  {
   "cell_type": "code",
   "execution_count": null,
   "id": "c5763ba6",
   "metadata": {},
   "outputs": [],
   "source": [
    "# Set the value of the perturbation\n",
    "dk = 1e-2\n",
    "\n",
    "# Create an empty column to store the sensitivities data\n",
    "sensitivities[\"baseCase\"] = \"\""
   ]
  },
  {
   "cell_type": "code",
   "execution_count": null,
   "id": "afdd8fcf",
   "metadata": {},
   "outputs": [],
   "source": [
    "for m in range(gas.n_reactions):\n",
    "    gas.set_multiplier(1.0) # reset all multipliers                                                                     \n",
    "    gas.set_multiplier(1+dk, m) # perturb reaction m   \n",
    "    \n",
    "    # Always force loglevel=0 for this\n",
    "    # Make sure the grid is not refined, otherwise it won't strictly \n",
    "    # be a small perturbation analysis\n",
    "    flame.solve(loglevel=0, refine_grid=False)\n",
    "    \n",
    "    # The new flame speed\n",
    "    Su = flame.u[0]\n",
    "    \n",
    "    sensitivities[\"baseCase\"][m] = (Su-Su0)/(Su0*dk)\n",
    "\n",
    "# This step is essential, otherwise the mechanism will have been altered\n",
    "gas.set_multiplier(1.0)"
   ]
  },
  {
   "cell_type": "code",
   "execution_count": null,
   "id": "e7e044eb",
   "metadata": {},
   "outputs": [],
   "source": [
    "sensitivities.head()"
   ]
  },
  {
   "cell_type": "markdown",
   "id": "62ad7d2b",
   "metadata": {},
   "source": [
    "### Make plots"
   ]
  },
  {
   "cell_type": "code",
   "execution_count": null,
   "id": "d96ef998",
   "metadata": {},
   "outputs": [],
   "source": [
    "# Reaction mechanisms can contains thousands of elementary steps. Choose a threshold\n",
    "# to see only the top few\n",
    "threshold = 0.03\n",
    "\n",
    "firstColumn = sensitivities.columns[0]\n",
    "\n",
    "# For plotting, collect only those steps that are above the threshold\n",
    "# Otherwise, the y-axis gets crowded and illegible\n",
    "sensitivitiesSubset = sensitivities[sensitivities[firstColumn].abs() > threshold]\n",
    "indicesMeetingThreshold = sensitivitiesSubset[firstColumn].abs().sort_values(ascending=False).index\n",
    "sensitivitiesSubset.loc[indicesMeetingThreshold].plot.barh(title=\"Sensitivities for GRI 3.0\",\n",
    "                                                          legend=None)\n",
    "plt.gca().invert_yaxis()\n",
    "\n",
    "plt.rcParams.update({'axes.labelsize': 20})\n",
    "plt.xlabel(r'Sensitivity: $\\frac{\\partial\\:\\ln{S_{u}}}{\\partial\\:\\ln{k}}$');\n",
    "\n",
    "# Uncomment the following to save the plot. A higher than usual resolution (dpi) helps\n",
    "# plt.savefig('sensitivityPlot', dpi=300)"
   ]
  },
  {
   "cell_type": "code",
   "execution_count": null,
   "id": "e62c71c5",
   "metadata": {},
   "outputs": [],
   "source": [
    "# Flame Speed with Sensitivity Analysis\n",
    "\n",
    "In this example we simulate a freely-propagating, adiabatic, 1-D flame and\n",
    "* Calculate its laminar burning velocity\n",
    "* Perform a sensitivity analysis of its kinetics\n",
    "\n",
    "The figure below illustrates the setup, in a flame-fixed co-ordinate system. The reactants enter with density $\\rho_{u}$, temperature $T_{u}$ and speed $S_{u}$. The products exit the flame at speed $S_{b}$, density $\\rho_{b}$ and temperature $T_{b}$.\n",
    "\n",
    "<img src=\"images/flameSpeed.png\" alt=\"Freely Propagating Flame\" style=\"width: 300px;\"/>\n",
    "\n",
    "### Import Modules\n",
    "\n",
    "from __future__ import print_function\n",
    "from __future__ import division\n",
    "\n",
    "import cantera as ct\n",
    "import numpy as np\n",
    "\n",
    "print(\"Running Cantera Version: \" + str(ct.__version__))\n",
    "\n",
    "# Import plotting modules and define plotting preference\n",
    "%matplotlib notebook\n",
    "import matplotlib.pylab as plt\n",
    "\n",
    "plt.rcParams['axes.labelsize'] = 14\n",
    "plt.rcParams['xtick.labelsize'] = 12\n",
    "plt.rcParams['ytick.labelsize'] = 12\n",
    "plt.rcParams['legend.fontsize'] = 10\n",
    "plt.rcParams['figure.figsize'] = (8,6)\n",
    "\n",
    "# Get the best of both ggplot and seaborn\n",
    "plt.style.use('ggplot')\n",
    "plt.style.use('seaborn-deep')\n",
    "\n",
    "plt.rcParams['figure.autolayout'] = True\n",
    "\n",
    "# Import Pandas for DataFrames\n",
    "import pandas as pd\n",
    "\n",
    "### Define the reactant conditions, gas mixture and kinetic mechanism associated with the gas\n",
    "\n",
    "#Inlet Temperature in Kelvin and Inlet Pressure in Pascals\n",
    "#In this case we are setting the inlet T and P to room temperature conditions\n",
    "To = 300\n",
    "Po = 101325\n",
    "\n",
    "#Define the gas-mixutre and kinetics\n",
    "#In this case, we are choosing a GRI3.0 gas\n",
    "gas = ct.Solution('gri30.cti')\n",
    "\n",
    "# Create a stoichiometric CH4/Air premixed mixture \n",
    "gas.set_equivalence_ratio(1.0, 'CH4', {'O2':1.0, 'N2':3.76})\n",
    "gas.TP = To, Po\n",
    "\n",
    "### Define flame simulation conditions\n",
    "\n",
    "# Domain width in metres\n",
    "width = 0.014\n",
    "\n",
    "# Create the flame object\n",
    "flame = ct.FreeFlame(gas, width=width)\n",
    "\n",
    "# Define tolerances for the solver\n",
    "flame.set_refine_criteria(ratio=3, slope=0.1, curve=0.1)\n",
    "\n",
    "# Define logging level\n",
    "loglevel = 1\n",
    "\n",
    "### Solve\n",
    "\n",
    "flame.solve(loglevel=loglevel, auto=True)\n",
    "Su0 = flame.u[0]\n",
    "print(\"Flame Speed is: {:.2f} cm/s\".format(Su0*100))\n",
    "\n",
    "# Note that the variable Su0 will also be used downsteam in the sensitivity analysis\n",
    "\n",
    "### Plot figures\n",
    "\n",
    "Check and see if all has gone well. Plot temperature and species fractions to see\n",
    "\n",
    "#### Temperature Plot\n",
    "\n",
    "plt.figure()\n",
    "\n",
    "plt.plot(flame.grid*100, flame.T, '-o')\n",
    "plt.xlabel('Distance (cm)')\n",
    "plt.ylabel('Temperature (K)');\n",
    "\n",
    "#### Major species' plot\n",
    "\n",
    "To plot species, we first have to identify the index of the species in the array\n",
    "For this, cut & paste the following lines and run in a new cell to get the index\n",
    "\n",
    "    for i, specie in enumerate(gas.species()):\n",
    "        print(str(i) + '. ' + str(specie))\n",
    "\n",
    "# Extract concentration data\n",
    "X_CH4 = flame.X[13]\n",
    "X_CO2 = flame.X[15]\n",
    "X_H2O = flame.X[5]\n",
    "\n",
    "plt.figure()\n",
    "\n",
    "plt.plot(flame.grid*100, X_CH4, '-o', label=r'$CH_{4}$')\n",
    "plt.plot(flame.grid*100, X_CO2, '-s', label=r'$CO_{2}$')\n",
    "plt.plot(flame.grid*100, X_H2O, '-<', label=r'$H_{2}O$')\n",
    "\n",
    "plt.legend(loc=2)\n",
    "plt.xlabel('Distance (cm)')\n",
    "plt.ylabel('MoleFractions');\n",
    "\n",
    "## Sensitivity Analysis\n",
    "\n",
    "See which reactions effect the flame speed the most\n",
    "\n",
    "# Create a dataframe to store sensitivity-analysis data\n",
    "sensitivities = pd.DataFrame(data=[], index=gas.reaction_equations(range(gas.n_reactions)))\n",
    "\n",
    "### Compute sensitivities\n",
    "\n",
    "# Set the value of the perturbation\n",
    "dk = 1e-2\n",
    "\n",
    "# Create an empty column to store the sensitivities data\n",
    "sensitivities[\"baseCase\"] = \"\"\n",
    "\n",
    "for m in range(gas.n_reactions):\n",
    "    gas.set_multiplier(1.0) # reset all multipliers                                                                     \n",
    "    gas.set_multiplier(1+dk, m) # perturb reaction m   \n",
    "    \n",
    "    # Always force loglevel=0 for this\n",
    "    # Make sure the grid is not refined, otherwise it won't strictly \n",
    "    # be a small perturbation analysis\n",
    "    flame.solve(loglevel=0, refine_grid=False)\n",
    "    \n",
    "    # The new flame speed\n",
    "    Su = flame.u[0]\n",
    "    \n",
    "    sensitivities[\"baseCase\"][m] = (Su-Su0)/(Su0*dk)\n",
    "\n",
    "# This step is essential, otherwise the mechanism will have been altered\n",
    "gas.set_multiplier(1.0)\n",
    "\n",
    "sensitivities.head()\n",
    "\n",
    "### Make plots\n",
    "\n",
    "# Reaction mechanisms can contains thousands of elementary steps. Choose a threshold\n",
    "# to see only the top few\n",
    "threshold = 0.03\n",
    "\n",
    "firstColumn = sensitivities.columns[0]\n",
    "\n",
    "# For plotting, collect only those steps that are above the threshold\n",
    "# Otherwise, the y-axis gets crowded and illegible\n",
    "sensitivitiesSubset = sensitivities[sensitivities[firstColumn].abs() > threshold]\n",
    "indicesMeetingThreshold = sensitivitiesSubset[firstColumn].abs().sort_values(ascending=False).index\n",
    "sensitivitiesSubset.loc[indicesMeetingThreshold].plot.barh(title=\"Sensitivities for GRI 3.0\",\n",
    "                                                          legend=None)\n",
    "plt.gca().invert_yaxis()\n",
    "\n",
    "plt.rcParams.update({'axes.labelsize': 20})\n",
    "plt.xlabel(r'Sensitivity: $\\frac{\\partial\\:\\ln{S_{u}}}{\\partial\\:\\ln{k}}$');\n",
    "\n",
    "# Uncomment the following to save the plot. A higher than usual resolution (dpi) helps\n",
    "# plt.savefig('sensitivityPlot', dpi=300)"
   ]
  },
  {
   "cell_type": "code",
   "execution_count": null,
   "id": "336bceb0",
   "metadata": {},
   "outputs": [],
   "source": [
    "new_dict_forward = dict(zip(gas.reaction_equations(), gas.forward_rate_constants))\n",
    "#print(new_dict_forward.items())\n",
    "new_dict_reverse = dict(zip(gas.reaction_equations(), gas.reverse_rate_constants))\n",
    "#print(new_dict_reverse.items())\n",
    "new_dict_forward_sortedtuples = sorted(new_dict_forward.items(), key=lambda item: item[1], reverse=True)\n",
    "new_dict_reverse_sortedtuples = sorted(new_dict_reverse.items(), key=lambda item: item[1], reverse=True)\n",
    "#print(new_dict_forward_sortedtuples)\n",
    "#print(new_dict_reverse_sortedtuples)\n",
    "    "
   ]
  },
  {
   "cell_type": "code",
   "execution_count": null,
   "id": "d93edadf",
   "metadata": {},
   "outputs": [],
   "source": []
  }
 ],
 "metadata": {
  "kernelspec": {
   "display_name": "cantera_env",
   "language": "python",
   "name": "cantera_env"
  },
  "language_info": {
   "codemirror_mode": {
    "name": "ipython",
    "version": 3
   },
   "file_extension": ".py",
   "mimetype": "text/x-python",
   "name": "python",
   "nbconvert_exporter": "python",
   "pygments_lexer": "ipython3",
   "version": "3.9.7"
  }
 },
 "nbformat": 4,
 "nbformat_minor": 5
}
