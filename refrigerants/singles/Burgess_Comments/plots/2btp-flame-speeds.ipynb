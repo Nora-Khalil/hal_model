{
 "cells": [
  {
   "cell_type": "code",
   "execution_count": 1,
   "id": "efd7d462",
   "metadata": {},
   "outputs": [],
   "source": [
    "import os\n",
    "import pandas as pd\n",
    "import numpy as np\n",
    "import matplotlib\n",
    "import matplotlib.pyplot as plt\n",
    "import seaborn as sns\n",
    "from matplotlib import cm\n",
    "from matplotlib.colors import ListedColormap\n",
    "import matplotlib.colors as colors\n",
    "sns.set()\n",
    "sns.set(font_scale=1.5)\n",
    "sns.set_style(\"white\")\n",
    "%matplotlib inline"
   ]
  },
  {
   "cell_type": "code",
   "execution_count": null,
   "id": "f34d925a",
   "metadata": {},
   "outputs": [],
   "source": [
    "df2= pd.read_csv('/work/westgroup/nora/Code/projects/halogens/refrigerants/singles/Burgess_Comments/cantera/difftool/NIST/flame_speeds.csv')\n",
    "df3= pd.read_csv('../mech/literature/flame_speeds.csv')\n",
    "df3 = df3[~df3['Su(cm/s)'].isna()]\n",
    "df = pd.concat([df2,df3])"
   ]
  }
 ],
 "metadata": {
  "kernelspec": {
   "display_name": "Python 3",
   "language": "python",
   "name": "python3"
  },
  "language_info": {
   "codemirror_mode": {
    "name": "ipython",
    "version": 3
   },
   "file_extension": ".py",
   "mimetype": "text/x-python",
   "name": "python",
   "nbconvert_exporter": "python",
   "pygments_lexer": "ipython3",
   "version": "3.8.8"
  }
 },
 "nbformat": 4,
 "nbformat_minor": 5
}
