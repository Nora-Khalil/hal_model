{
 "cells": [
  {
   "cell_type": "code",
   "execution_count": 3,
   "id": "97323de4-e240-493b-b51b-ff199b053a53",
   "metadata": {},
   "outputs": [],
   "source": [
    "import cantera as ct\n",
    "from PIL import Image\n",
    "from subprocess import run\n",
    "import sys\n",
    "from pathlib import Path\n",
    "import matplotlib.pyplot as plt\n",
    "import re \n",
    "import os"
   ]
  },
  {
   "cell_type": "code",
   "execution_count": 6,
   "id": "0950c0c5-f1db-4181-a30c-2e787a70974e",
   "metadata": {},
   "outputs": [],
   "source": [
    "############### loop over all of the models from (120-140, plus 145)\n",
    "\n",
    "directory = '/work/westgroup/nora/Code/projects/halogens/refrigerants/singles/Burgess_Comments/cantera/Nora/2_BTP/FFCM_seed/2_BTP_seed/chemkin/copies'\n",
    "\n",
    "models = [file for file in os.listdir(directory) if re.search('copy_chem0([0-9]+).cti', file)]\n",
    "\n",
    "\n",
    "############### some values that are constant and will be used in the loop \n",
    "\n",
    "BTPmole_list = list(np.linspace(0.0, 0.16268, 10))\n",
    "species_con =  {'CH4(3)': 0.5, 'O2(4)': 1, 'N2': 3.76, '2-BTP(1)': BTPmole_list[3]}\n",
    "gas.TPX = 298, ct.one_atm, species_con\n",
    "\n",
    "\n",
    "\n",
    "\n",
    "############### start the loop \n",
    "\n",
    "for file in models: \n",
    "    \n",
    "    ########### make the gas, specify the TPX, create the FreeFlame object in Cantera \n",
    "    \n",
    "    gas = ct.Solution(f'/work/westgroup/nora/Code/projects/halogens/refrigerants/singles/Burgess_Comments/cantera/Nora/2_BTP/FFCM_seed/2_BTP_seed/chemkin/copies/{file}')\n",
    "    \n",
    "    \n",
    "    ########### solve the flame\n",
    "    \n",
    "    r = ct.FreeFlame(gas)\n",
    "    r.solve()\n",
    "    \n",
    "\n",
    "\n",
    "\n",
    "\n"
   ]
  }
 ],
 "metadata": {
  "kernelspec": {
   "display_name": "cantera_env",
   "language": "python",
   "name": "cantera_env"
  },
  "language_info": {
   "codemirror_mode": {
    "name": "ipython",
    "version": 3
   },
   "file_extension": ".py",
   "mimetype": "text/x-python",
   "name": "python",
   "nbconvert_exporter": "python",
   "pygments_lexer": "ipython3",
   "version": "3.9.7"
  }
 },
 "nbformat": 4,
 "nbformat_minor": 5
}
