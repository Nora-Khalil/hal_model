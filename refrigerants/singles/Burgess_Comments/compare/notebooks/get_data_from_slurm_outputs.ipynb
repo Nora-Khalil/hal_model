{
 "cells": [
  {
   "cell_type": "code",
   "execution_count": 1,
   "id": "d2593071",
   "metadata": {},
   "outputs": [],
   "source": [
    "import os \n",
    "import re "
   ]
  },
  {
   "cell_type": "code",
   "execution_count": 2,
   "id": "0b7a1dde",
   "metadata": {},
   "outputs": [],
   "source": [
    "#first batch of flip models (1-1000)\n",
    "\n",
    "from_run_range = ['copy_chem_.cti', 'copy_chem_1285.cti', 'copy_chem_1321.cti', 'copy_chem_1321_1285.cti', 'copy_chem_1321_1322.cti', 'copy_chem_1321_1322_1285.cti', 'copy_chem_1322.cti', 'copy_chem_1322_1285.cti']\n",
    "\n",
    "\n",
    "\n",
    "\n",
    "\n",
    "\n",
    "\n",
    "slurm_files = [x for x in os.listdir('../NK_120_to_140') if re.search('slurm-31700034_([0-9]+).out', x)]\n",
    "\n",
    "#place in a dictionary, where key is model size, and value is file name for that model \n",
    "slurm_dict = dict()\n",
    "for file in slurm_files:\n",
    "    match = re.search('slurm-31700034_([0-9]+).out', file)\n",
    "    slurm_dict[int(match.group(1))] = file\n",
    "    \n",
    "#sort them by number\n",
    "sd = sorted(slurm_dict.items())\n",
    "\n"
   ]
  },
  {
   "cell_type": "code",
   "execution_count": 3,
   "id": "7ebd832c",
   "metadata": {
    "scrolled": false
   },
   "outputs": [
    {
     "name": "stdout",
     "output_type": "stream",
     "text": [
      "1 1\n",
      "2 2\n",
      "3 3\n",
      "4 4\n",
      "5 5\n"
     ]
    },
    {
     "name": "stderr",
     "output_type": "stream",
     "text": [
      "<>:9: SyntaxWarning: assertion is always true, perhaps remove parentheses?\n",
      "<>:9: SyntaxWarning: assertion is always true, perhaps remove parentheses?\n",
      "<ipython-input-3-f4ffa33653e1>:9: SyntaxWarning: assertion is always true, perhaps remove parentheses?\n",
      "  assert(x,y[0])\n"
     ]
    }
   ],
   "source": [
    "#check the length\n",
    "len(sd) #why the heck is it 995\n",
    "\n",
    "\n",
    "#assert that each number from 1-1000 is there\n",
    "check = [x for x in range(1,6)]\n",
    "\n",
    "for x, y in zip(check,sd):\n",
    "    assert(x,y[0])\n",
    "    print(x, y[0])\n",
    "    if x != y[0]: \n",
    "        print(x,y[0])\n",
    "        \n",
    "#### found out I'm missing 658-662, I have file 657 and 663. Will have to rerun those! "
   ]
  },
  {
   "cell_type": "code",
   "execution_count": 4,
   "id": "1bcf2454",
   "metadata": {},
   "outputs": [],
   "source": [
    "#make into a sorted dictionary\n",
    "sorted_slurm_dict = {}\n",
    "for k,v in sd:\n",
    "    sorted_slurm_dict[k] = v\n",
    "    \n",
    "    \n",
    "\n",
    "\n",
    "sorted_slurm_dict\n",
    "for array_number,f,file_name in zip(sorted_slurm_dict.keys(),sorted_slurm_dict.values(),from_run_range): \n",
    "    line_numbers = [] #this list will have the line numbers of the fractions and flamespeeds\n",
    "    with open(f'../NK_120_to_140/{f}', 'r') as file: \n",
    "        line_numbers = [] \n",
    "        for line_num,line in enumerate(file):\n",
    "            fractions = re.search('volume fractions of BTP are:', line)\n",
    "            speeds = re.search('flame speeds are:', line)\n",
    "            if fractions or speeds: \n",
    "                line_numbers.append(int(line_num)+1)\n",
    "            if line_num in line_numbers: \n",
    "                line_to_write = line\n",
    "                if os.path.exists(f'../handpicked/flamespeeds/flamespeed_{file_name}.csv'):\n",
    "                    with open(f'../handpicked/flamespeeds/flamespeed_{file_name}.csv','a') as g: \n",
    "                        g.write(line_to_write)\n",
    "                else:\n",
    "                    with open(f'../handpicked/flamespeeds/flamespeed_{file_name}.csv','w+') as g: \n",
    "                        g.write(line_to_write)\n",
    "                        \n",
    "                    \n",
    "                    \n",
    "                    \n",
    "            \n",
    "                \n",
    "\n",
    "\n",
    "    \n",
    "    "
   ]
  },
  {
   "cell_type": "code",
   "execution_count": null,
   "id": "2b73350d",
   "metadata": {},
   "outputs": [],
   "source": [
    "line_numbers"
   ]
  },
  {
   "cell_type": "code",
   "execution_count": null,
   "id": "f23720c7",
   "metadata": {},
   "outputs": [],
   "source": [
    "import os\n",
    "import re\n",
    "\n",
    "directory = '../flip/flamespeeds'\n",
    "\n",
    "list_of_files = [file for file in os.listdir(directory)]\n",
    "\n",
    "for file in list_of_files:\n",
    "    with open(f'../flip/flamespeeds/{file}', 'r') as f:\n",
    "        values = f.readlines()\n",
    "        print(values)"
   ]
  }
 ],
 "metadata": {
  "kernelspec": {
   "display_name": "Python 3",
   "language": "python",
   "name": "python3"
  },
  "language_info": {
   "codemirror_mode": {
    "name": "ipython",
    "version": 3
   },
   "file_extension": ".py",
   "mimetype": "text/x-python",
   "name": "python",
   "nbconvert_exporter": "python",
   "pygments_lexer": "ipython3",
   "version": "3.8.8"
  }
 },
 "nbformat": 4,
 "nbformat_minor": 5
}
