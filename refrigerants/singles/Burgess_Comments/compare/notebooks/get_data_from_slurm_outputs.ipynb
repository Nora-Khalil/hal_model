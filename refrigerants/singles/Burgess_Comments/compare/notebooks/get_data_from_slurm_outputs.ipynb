{
 "cells": [
  {
   "cell_type": "code",
   "execution_count": 2,
   "id": "d2593071",
   "metadata": {},
   "outputs": [],
   "source": [
    "import os \n",
    "import re "
   ]
  },
  {
   "cell_type": "code",
   "execution_count": 3,
   "id": "0b7a1dde",
   "metadata": {},
   "outputs": [],
   "source": [
    "#first batch of flip models (1-1000)\n",
    "slurm_files = [x for x in os.listdir('../NK_120_to_140/parallel') if re.search('slurm-31325801_([0-9]+).out', x)]\n",
    "\n",
    "#place in a dictionary, where key is model size, and value is file name for that model \n",
    "slurm_dict = dict()\n",
    "for file in slurm_files:\n",
    "    match = re.search('slurm-31325801_([0-9]+).out', file)\n",
    "    slurm_dict[int(match.group(1))] = file\n",
    "    \n",
    "#sort them by number\n",
    "sd = sorted(slurm_dict.items())"
   ]
  },
  {
   "cell_type": "code",
   "execution_count": 4,
   "id": "7ebd832c",
   "metadata": {
    "scrolled": false
   },
   "outputs": [
    {
     "name": "stderr",
     "output_type": "stream",
     "text": [
      "<>:7: SyntaxWarning: assertion is always true, perhaps remove parentheses?\n",
      "<>:7: SyntaxWarning: assertion is always true, perhaps remove parentheses?\n",
      "<ipython-input-4-c6ccdd0da0f3>:7: SyntaxWarning: assertion is always true, perhaps remove parentheses?\n",
      "  assert(x,y[0])\n"
     ]
    },
    {
     "ename": "NameError",
     "evalue": "name 'sorted_slurm_dict' is not defined",
     "output_type": "error",
     "traceback": [
      "\u001b[0;31m---------------------------------------------------------------------------\u001b[0m",
      "\u001b[0;31mNameError\u001b[0m                                 Traceback (most recent call last)",
      "\u001b[0;32m<ipython-input-4-c6ccdd0da0f3>\u001b[0m in \u001b[0;36m<module>\u001b[0;34m\u001b[0m\n\u001b[1;32m      9\u001b[0m         \u001b[0mprint\u001b[0m\u001b[0;34m(\u001b[0m\u001b[0mx\u001b[0m\u001b[0;34m,\u001b[0m\u001b[0my\u001b[0m\u001b[0;34m[\u001b[0m\u001b[0;36m0\u001b[0m\u001b[0;34m]\u001b[0m\u001b[0;34m)\u001b[0m\u001b[0;34m\u001b[0m\u001b[0;34m\u001b[0m\u001b[0m\n\u001b[1;32m     10\u001b[0m \u001b[0;34m\u001b[0m\u001b[0m\n\u001b[0;32m---> 11\u001b[0;31m \u001b[0msorted_slurm_dict\u001b[0m\u001b[0;34m\u001b[0m\u001b[0;34m\u001b[0m\u001b[0m\n\u001b[0m\u001b[1;32m     12\u001b[0m \u001b[0;34m\u001b[0m\u001b[0m\n\u001b[1;32m     13\u001b[0m \u001b[0;31m#### found out I'm missing 658-662, I have file 657 and 663. Will have to rerun those!\u001b[0m\u001b[0;34m\u001b[0m\u001b[0;34m\u001b[0m\u001b[0;34m\u001b[0m\u001b[0m\n",
      "\u001b[0;31mNameError\u001b[0m: name 'sorted_slurm_dict' is not defined"
     ]
    }
   ],
   "source": [
    "#check the length\n",
    "len(sd) #why the heck is it 995\n",
    "sd\n",
    "#assert that each number from 1-1000 is there\n",
    "check = [x for x in range(1,1001)]\n",
    "for x, y in zip(check,sd):\n",
    "    assert(x,y[0])\n",
    "    if x != y[0]: \n",
    "        print(x,y[0])\n",
    "    \n",
    "sorted_slurm_dict\n",
    "\n",
    "#### found out I'm missing 658-662, I have file 657 and 663. Will have to rerun those! "
   ]
  },
  {
   "cell_type": "code",
   "execution_count": 60,
   "id": "1bcf2454",
   "metadata": {},
   "outputs": [],
   "source": [
    "#make into a sorted dictionary\n",
    "sorted_slurm_dict = {}\n",
    "for k,v in sd:\n",
    "    sorted_slurm_dict[k] = v\n",
    "\n",
    "sorted_slurm_dict\n",
    "for k,v in sorted_slurm_dict.items(): \n",
    "    line_numbers = [] #this list will have the line numbers of the fractions and flamespeeds\n",
    "    with open(f'../flip/{v}', 'r') as file: \n",
    "        line_numbers = [] \n",
    "        for line_num,line in enumerate(file):\n",
    "            fractions = re.search('volume fractions of BTP are:', line)\n",
    "            speeds = re.search('flame speeds are:', line)\n",
    "            if fractions or speeds: \n",
    "                line_numbers.append(int(line_num)+1)\n",
    "            if line_num in line_numbers: \n",
    "                line_to_write = line\n",
    "                if os.path.exists(f'../flip/flamespeeds/flamespeed_{k}.csv'):\n",
    "                    with open(f'../flip/flamespeeds/flamespeed_{k}.csv','a') as g: \n",
    "                        g.write(line_to_write)\n",
    "                else:\n",
    "                    with open(f'../flip/flamespeeds/flamespeed_{k}.csv','w+') as g: \n",
    "                        g.write(line_to_write)\n",
    "                        \n",
    "                    \n",
    "                    \n",
    "                    \n",
    "            \n",
    "                \n",
    "\n",
    "\n",
    "    \n",
    "    "
   ]
  },
  {
   "cell_type": "code",
   "execution_count": null,
   "id": "f23720c7",
   "metadata": {},
   "outputs": [],
   "source": []
  }
 ],
 "metadata": {
  "kernelspec": {
   "display_name": "Python 3",
   "language": "python",
   "name": "python3"
  },
  "language_info": {
   "codemirror_mode": {
    "name": "ipython",
    "version": 3
   },
   "file_extension": ".py",
   "mimetype": "text/x-python",
   "name": "python",
   "nbconvert_exporter": "python",
   "pygments_lexer": "ipython3",
   "version": "3.8.8"
  }
 },
 "nbformat": 4,
 "nbformat_minor": 5
}
