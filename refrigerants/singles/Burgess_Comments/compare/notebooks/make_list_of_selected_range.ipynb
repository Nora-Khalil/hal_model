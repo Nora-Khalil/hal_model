{
 "cells": [
  {
   "cell_type": "code",
   "execution_count": 22,
   "id": "d6f3ca49",
   "metadata": {},
   "outputs": [],
   "source": [
    "import os\n",
    "import re"
   ]
  },
  {
   "cell_type": "code",
   "execution_count": 23,
   "id": "9fb5a37f",
   "metadata": {},
   "outputs": [
    {
     "data": {
      "text/plain": [
       "['copy_chem0120.cti',\n",
       " 'copy_chem0121.cti',\n",
       " 'copy_chem0122.cti',\n",
       " 'copy_chem0123.cti',\n",
       " 'copy_chem0124.cti',\n",
       " 'copy_chem0125.cti',\n",
       " 'copy_chem0126.cti',\n",
       " 'copy_chem0127.cti',\n",
       " 'copy_chem0128.cti',\n",
       " 'copy_chem0129.cti',\n",
       " 'copy_chem0130.cti',\n",
       " 'copy_chem0131.cti',\n",
       " 'copy_chem0132.cti',\n",
       " 'copy_chem0133.cti',\n",
       " 'copy_chem0134.cti',\n",
       " 'copy_chem0135.cti',\n",
       " 'copy_chem0136.cti',\n",
       " 'copy_chem0137.cti',\n",
       " 'copy_chem0138.cti',\n",
       " 'copy_chem0139.cti',\n",
       " 'copy_chem0140.cti']"
      ]
     },
     "execution_count": 23,
     "metadata": {},
     "output_type": "execute_result"
    }
   ],
   "source": [
    "\n",
    "################################# get the list of files that we want to convert #################################\n",
    "\n",
    "\n",
    "#looking for chemkin files between 120-140\n",
    "\n",
    "chem_dir = '/work/westgroup/nora/Code/projects/halogens/refrigerants/singles/Burgess_Comments/cantera/Nora/2_BTP/FFCM_seed/2_BTP_seed/chemkin'\n",
    "\n",
    "chemkin_files=[x for x in os.listdir(chem_dir)]\n",
    "\n",
    "size = [i for i in range(120,141)]\n",
    "selected_numbers = []\n",
    "matches = []\n",
    "for i in chemkin_files: \n",
    "    match = re.search('chem([0-9]+).inp', i)\n",
    "    if match: \n",
    "        matches.append(match.group(1))\n",
    "for i in matches: \n",
    "    for number in size: \n",
    "        match = re.search(f'0{number}', i)\n",
    "        if match: \n",
    "            selected_numbers.append(i)\n",
    "\n",
    "                       \n",
    "selected_files = [f'copy_chem{number}.cti' for number in selected_numbers]\n",
    "\n",
    "selected_files\n"
   ]
  }
 ],
 "metadata": {
  "kernelspec": {
   "display_name": "Python 3",
   "language": "python",
   "name": "python3"
  },
  "language_info": {
   "codemirror_mode": {
    "name": "ipython",
    "version": 3
   },
   "file_extension": ".py",
   "mimetype": "text/x-python",
   "name": "python",
   "nbconvert_exporter": "python",
   "pygments_lexer": "ipython3",
   "version": "3.8.8"
  }
 },
 "nbformat": 4,
 "nbformat_minor": 5
}
