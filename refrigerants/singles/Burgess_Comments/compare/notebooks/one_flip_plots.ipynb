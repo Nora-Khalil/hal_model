{
 "cells": [
  {
   "cell_type": "code",
   "execution_count": 4,
   "id": "17152550",
   "metadata": {},
   "outputs": [],
   "source": [
    "import os\n",
    "import re\n",
    "import matplotlib.pylab as plt\n",
    "from labellines import labelLine, labelLines\n",
    "import seaborn as sns\n",
    "import numpy as np\n"
   ]
  },
  {
   "cell_type": "markdown",
   "id": "f73b7086",
   "metadata": {},
   "source": [
    "Load the files. "
   ]
  },
  {
   "cell_type": "code",
   "execution_count": 6,
   "id": "d0bcf54e",
   "metadata": {},
   "outputs": [],
   "source": [
    "directory = '../flip/flamespeeds'\n",
    "\n",
    "list_of_csvs = [file for file in os.listdir(directory) if re.search('flamespeed_[0-9]+\\.csv',file)]\n",
    "#len(list_of_csvs)\n",
    "\n"
   ]
  },
  {
   "cell_type": "markdown",
   "id": "ff443747",
   "metadata": {},
   "source": [
    "Create a dataframe. "
   ]
  },
  {
   "cell_type": "code",
   "execution_count": 33,
   "id": "0b65a82a",
   "metadata": {},
   "outputs": [
    {
     "name": "stdout",
     "output_type": "stream",
     "text": [
      "[0.37136450673384547, 0.281871380108644, 0.18677773642630272, 0.10422234607661043, 0.06852677905026752]\n"
     ]
    }
   ],
   "source": [
    "#these will be columms of the dataframe \n",
    "columns = list(np.linspace(0.0, 0.16268, 10))\n",
    "\n",
    "list_of_csvs = ['flamespeed_36.csv']\n",
    "for file in list_of_csvs: \n",
    "    with open(f'../flip/flamespeeds/{file}','r') as f: \n",
    "        lines = f.readlines()\n",
    "        \n",
    "        #format the fractions\n",
    "        newline = lines[0].replace('[','').replace(']','').replace('\\n','')\n",
    "        fractions = [float(x) for x in newline.split(', ')]\n",
    "        \n",
    "        #format the speeds \n",
    "        newline = lines[-1].replace('[','').replace(']','').replace('\\n','')\n",
    "        speeds = [float(x) for x in newline.split(', ')]\n",
    "        \n",
    "    fo\n",
    "#         print(speeds)\n",
    "#         for fraction, speed in zip(list(lines[0]),list(lines[-1])):\n",
    "#             print(fraction,speed)\n",
    "\n",
    "# for color, file in zip(colors, list_of_blends): \n",
    "    \n",
    "#         fig2 = plt.figure()\n",
    "#         match = re.search('par_flame_speeds_0([0-9]+)\\.csv', file)\n",
    "\n",
    "\n",
    "#         with open(f'./parallel/{file}','r') as f: \n",
    "#             values = f.readlines()\n",
    "#         BTP_fractions = [float(x) for x in values[1].split(',')]\n",
    "#        # print(values[1].split(','))\n",
    "#         speed = [float(x) for x in values[2].split(',')]\n",
    "#         speeds = [x*100 for x in speed]\n",
    "\n",
    "\n",
    "#         #plotting \n",
    "        \n",
    "#         ax1 = fig.add_subplot(111)\n",
    "#         ax1.plot(BTP_fractions, speeds, '.-', c=f'{color}', label=str(match.group(1)))\n",
    "\n",
    "#         plt.xlabel('2-BTP volume fraction')\n",
    "#         plt.ylabel('Su (cm/s)')\n",
    "#         plt.title('Flame Speeds of Different Model Sizes (120-140)')\n",
    "#         ax1.legend(bbox_to_anchor=(0.5, 0., 0.8, 1))\n",
    "        \n",
    "#         ax2 = fig2.add_subplot(111)\n",
    "#         ax2.plot(BTP_fractions, speeds, '.-', c=f'{color}', label=str(match.group(1)))\n",
    "#         ax2.legend(bbox_to_anchor=(0.5, 0., 0.8, 1))"
   ]
  },
  {
   "cell_type": "code",
   "execution_count": null,
   "id": "4bcaf2f2",
   "metadata": {},
   "outputs": [],
   "source": []
  }
 ],
 "metadata": {
  "kernelspec": {
   "display_name": "Python 3",
   "language": "python",
   "name": "python3"
  },
  "language_info": {
   "codemirror_mode": {
    "name": "ipython",
    "version": 3
   },
   "file_extension": ".py",
   "mimetype": "text/x-python",
   "name": "python",
   "nbconvert_exporter": "python",
   "pygments_lexer": "ipython3",
   "version": "3.8.8"
  }
 },
 "nbformat": 4,
 "nbformat_minor": 5
}
