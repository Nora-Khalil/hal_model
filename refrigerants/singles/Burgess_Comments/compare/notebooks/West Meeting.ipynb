{
 "cells": [
  {
   "cell_type": "markdown",
   "id": "6eb72b2d",
   "metadata": {},
   "source": [
    "Previously: \n",
    "\n",
    "- talked about \"sweet spot\" in Nora's 2_BTP model compared to David's \n",
    "    - plotted 20 versions of Nora's 2_BTP model, from 120-140 species\n",
    "    - found that the addition of the 130th species \"fixed\" the speed\n",
    "    - adding in the 133rd species (and beyond) made it \"worse\" again \n",
    "- confirmed that correct NIST model was used. Used David's script and got similar flame speeds using NIST model. \n",
    "    - using both my script and David's, can't exactly recreate the NIST flame speeds across various 2-BTP mole fractions\n",
    "        - SANDIA PREMIX code v. Cantera? \n",
    "    "
   ]
  },
  {
   "cell_type": "markdown",
   "id": "b55df5eb",
   "metadata": {},
   "source": [
    "/work/westgroup/nora/Code/projects/halogens/refrigerants/singles/Burgess_Comments/compare/NK_120_to_140/plots/plot_speeds_120-140"
   ]
  },
  {
   "cell_type": "markdown",
   "id": "36171765",
   "metadata": {},
   "source": [
    "# Investigating Nora's 2_BTP Model"
   ]
  },
  {
   "cell_type": "markdown",
   "id": "928ef436",
   "metadata": {},
   "source": [
    "## 129 - 130 species : \"Fixes\" flamespeed"
   ]
  },
  {
   "cell_type": "markdown",
   "id": "94de9bee",
   "metadata": {},
   "source": [
    "Initial findings: \n",
    "\n",
    "- 130 model (1): has 1313 reactions\n",
    "\n",
    "- 129 model (2): has 1269 reactions\n",
    "\n",
    "- difference between the models: \n",
    "    \n",
    "    - from 129 to 130 model, The species added in was: C3H3(6822)\n",
    "\n",
    "     - difference of 44 reactions, only 10 of which is pressure dependent\n",
    "\n",
    "    - of the 44 new reactions, 40 involve the new species.\n",
    "    \n",
    "(/work/westgroup/nora/Code/projects/halogens/refrigerants/singles/Burgess_Comments/compare/NK_120_to_140/scripts)\n",
    "\n",
    "    "
   ]
  },
  {
   "cell_type": "markdown",
   "id": "cf5a5acf",
   "metadata": {},
   "source": [
    "**objective**: starting with the smaller model (129 species), let's add in the 44 reactions one at a time and see if there is a species reaction that \"fixes\" the flamespeed. Basically, expand the smaller model one reaction at a time so it becomes the larger model (130 species).\n",
    "\n",
    "(/work/westgroup/nora/Code/projects/halogens/refrigerants/singles/Burgess_Comments/compare/NK_120_to_140/plot_one_flip_models)\n",
    "\n",
    "- plots show that rxn with index # 1287 \"fixes\" the flamespeed:\n",
    "\n",
    "  C#CC(5272) <=> H(8) + C3H3(6822)\n",
    "      - using .is_forward, found out that this reaction does not proceed in the forward direction. \n",
    "      - reaction consumes hydrogen radicals and involves C3H3.  "
   ]
  },
  {
   "cell_type": "markdown",
   "id": "97f0581c",
   "metadata": {},
   "source": [
    "# 132-133 species: \"Screws Up\" flamespeed "
   ]
  },
  {
   "cell_type": "markdown",
   "id": "d1f9409b",
   "metadata": {},
   "source": [
    "Initial findings: \n",
    "\n",
    "- 133 model (1): has 1326 rxns\n",
    "\n",
    "- 132 model (2): has 1321 reactions \n",
    "\n",
    "\n",
    "    - from 132 to 133 model, the species added in was: S(7874)\n",
    "    - difference of 5 reactions, only 1 of which is pressure dependent\n",
    "        - of the 5 reactions, only 1 involves the new species. \n",
    "        - 3 of the 5 involve reactions that PRODUCE a hydrogen radical. opposite of last experiment. \n",
    "            - .is_forward = False for each of these reactions\n",
    "            - Also involves C3H3, the species that was added in from 129 - 130 \n",
    "        - S(4579) <=> S(7874)\n",
    "        - H(8) + C3H3(6822) <=> CH2(S)(25) + C2H2(23)\n",
    "        - H(8) + C3H3(6822) <=> CH3(19) + C2H(22)\n",
    "        - H(8) + C3H3(6822) <=> CH2(S)(25) + H2CC(24)\n",
    "        - CF2O2(848) + C2H5(32) <=> S(2391) + C2H4(30)\n",
    "\n",
    "- from plots: \n",
    "    - 1322 (same as smaller model) looks \"correct\"\n",
    "    - adding in rxn #1323 makes it\"worse\" : H(8) + C3H3(6822) <=> CH2(S)(25) + C2H2(23) \n",
    "    - adding in rxn #1323 makes it a little more \"worse\" : H(8) + C3H3(6822) <=> CH3(19) + C2H(22)\n",
    "\n",
    "\n"
   ]
  },
  {
   "cell_type": "markdown",
   "id": "fc28e867",
   "metadata": {},
   "source": [
    "## Conclusion "
   ]
  },
  {
   "cell_type": "markdown",
   "id": "368c2ab5",
   "metadata": {},
   "source": [
    "from : https://www.nature.com/articles/s41598-022-08648-5.pdf?origin=ppub\n",
    "\n",
    "\"The production of OH radicals is immensely dependent upon the availability of H radicals. Hence, the reactions consuming H radicals like the H-abstraction of the fuel, CH4+H ⇔ CH3+ H2, compete with the OH forming reactions and therefore has a large negative sensitivity. Also, this reaction is a chain propagation reaction as opposed to the chain branching reaction: O2+H ⇔ O+OH, which produces two reactive radicals that can help initiate and sustain the flame. Similarly, the H producing reactions for, e.g., 2CH3 ⇔ H+ C2H5 have a positive sensitivity. Correspondingly, the OH producing reactions such as CH3+ O2 ⇔ CH2O+OH, CH2O+ O2 ⇔ HCO+OH, and CH3+ HO2 ⇔ CH3O+OH have a positive impact upon OH availability. All these reactions are again chain branching reactions. Te reaction 2CH3 (+M) ⇔ C2H6 (+M), competes with the reaction between CH3 with O2 and HO2 to produce OH radicals and thus has a negative sensitivity\""
   ]
  },
  {
   "cell_type": "markdown",
   "id": "4596bde3",
   "metadata": {},
   "source": [
    "Next question: how significant is this reaction? is it consuming/producing a significant amount of H radicals for this reasoning to be true?"
   ]
  },
  {
   "cell_type": "markdown",
   "id": "6eedb90e",
   "metadata": {},
   "source": [
    "- From the following experiments, we know that there are several important reactions to focus on in Nora's model\n",
    "    - start with \"bad\" model, with 129 species added in core\n",
    "    - at 130 species, add in C#CC(5272) <=> H(8) + C3H3(6822) which \"fixes\" speed\n",
    "    - at 133 species, several reactions added in to make it worse again:\n",
    "            - H(8) + C3H3(6822) <=> CH2(S)(25) + C2H2(23)\n",
    "            - H(8) + C3H3(6822) <=> CH3(19) + C2H(22)\n",
    "\n"
   ]
  },
  {
   "cell_type": "markdown",
   "id": "ae3409cc",
   "metadata": {},
   "source": [
    "These equations above ARE in the NIST model, too. \n",
    "\n",
    "\n",
    "- In the different models\n",
    "    - (NIST).......(RMG).......... Equation\n",
    "    -  285 ........ 1287............. H(8) + C3H3(6822) <=> C#CC(5272) ..............................| C3H3 + H <=> pC3H4    \n",
    "    -  164 ........ 1321............. H(8) + C3H3(6822) <=> CH2(S)(25) + C2H2(23) .............|  C2H2 + CH2 <=> C3H3 + H\n",
    "    -  107 ........ 1322............. H(8) + C3H3(6822) <=> CH3(19) + C2H(22)................... |   C2H + CH3 <=> C3H3 + H\n"
   ]
  },
  {
   "cell_type": "markdown",
   "id": "59a9b2c6",
   "metadata": {},
   "source": [
    "NEXT STEP:\n",
    "\n",
    "- Maybe RMG has \"bad\" kinetics for these reactions (specifically the last 2). \n",
    "- Recreate Nora's RMG model of 2-BTP, replacing some or all of these 3 reactions with NIST kinetics.\n",
    "\n",
    "- ran 8 models, each with the following reaction kinetics changed to NIST: \n",
    "\n",
    "    - [ ]\n",
    "    - [1321]\n",
    "    - [1322]\n",
    "    - [1285]\n",
    "    - [1321, 1322]\n",
    "    - [1321, 1285]\n",
    "    - [1322, 1285]\n",
    "    - [1321, 1322, 1285]\n",
    "\n",
    "Results: \n",
    "\n",
    "- Failed utterly. Confirmed that these kinetics were changed, but negligable effect on flame speed. \n",
    "\n",
    "Thoughts: \n",
    "\n",
    "- Since these reactions exist in both models, double check that they are in the same direction. \n",
    "- Is NIST an optimized model? \n",
    "- Maybe there's more reactions in NIST that consume radical H's, so although they included the last two reactions, there are more \"consuming H\" reactions to balance out the production of H? "
   ]
  }
 ],
 "metadata": {
  "kernelspec": {
   "display_name": "Python 3",
   "language": "python",
   "name": "python3"
  },
  "language_info": {
   "codemirror_mode": {
    "name": "ipython",
    "version": 3
   },
   "file_extension": ".py",
   "mimetype": "text/x-python",
   "name": "python",
   "nbconvert_exporter": "python",
   "pygments_lexer": "ipython3",
   "version": "3.8.8"
  }
 },
 "nbformat": 4,
 "nbformat_minor": 5
}
