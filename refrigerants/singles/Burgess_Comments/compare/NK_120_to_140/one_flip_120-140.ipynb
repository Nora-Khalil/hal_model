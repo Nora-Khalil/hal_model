{
 "cells": [
  {
   "cell_type": "code",
   "execution_count": null,
   "id": "02114df6",
   "metadata": {},
   "outputs": [],
   "source": [
    "import cantera as ct \n",
    "import cantera.ck2cti\n",
    "from rmgpy import chemkin\n",
    "from rmgpy import kinetics\n",
    "import numpy as np\n",
    "import subprocess\n",
    "import csv\n",
    "import copy\n",
    "import os"
   ]
  },
  {
   "cell_type": "markdown",
   "id": "3cf9f13a",
   "metadata": {},
   "source": [
    "Function: Load_models"
   ]
  },
  {
   "cell_type": "code",
   "execution_count": null,
   "id": "8f413306",
   "metadata": {},
   "outputs": [],
   "source": [
    "def load_models(full_path_1, chemkin_1, dictionary_1, full_path_2, chemkin_2, dictionary_2):\n",
    "    \n",
    "    full_path_1 = full_path_1\n",
    "    inp_path_1 = full_path_1 + chemkin_1\n",
    "    dict_path_1 = full_path_1 + dictionary_1\n",
    "    model_1_species, model_1_reactions = chemkin.load_chemkin_file(inp_path_1, dict_path_1)\n",
    "    \n",
    "    full_path_2 = full_path_2\n",
    "    inp_path_2 = full_path_2 + chemkin_2\n",
    "    dict_path_2 = full_path_2 + dictionary_2\n",
    "    model_2_species, model_2_reactions = chemkin.load_chemkin_file(inp_path_2, dict_path_2)\n",
    "\n",
    "    different_kinetics_reactions, diff_kin_equations, common_reactions, comm_equations, unique_reactions_1, uniq_rxns_eq_1, unique_reactions_2, uniq_rxns_eq__2, model_1_species, model_1_reactions, model_2_species, model_2_reactions  = execute(full_path_1, chemkin_1, dictionary_1, full_path_2, chemkin_2, dictionary_2) \n",
    "    return different_kinetics_reactions, diff_kin_equations, common_reactions, comm_equations, unique_reactions_1, uniq_rxns_eq_1, unique_reactions_2, uniq_rxns_eq__2, model_1_species, model_1_reactions, model_2_species, model_2_reactions \n"
   ]
  },
  {
   "cell_type": "markdown",
   "id": "7fdd92de",
   "metadata": {},
   "source": [
    "Functions: Compare Reactions"
   ]
  },
  {
   "cell_type": "code",
   "execution_count": null,
   "id": "5784cd19",
   "metadata": {},
   "outputs": [],
   "source": [
    "def compare_rxn_equations(model_1_reactions, model_2_reactions):\n",
    "    '''\n",
    "    Compares the reaction equations of each model. Uses to_cantera() on RMG model to eliminate chemkin_identifier \n",
    "    '''\n",
    "\n",
    "################### mostly taken from diffmodel.py, compare_model_reactions() ###################\n",
    "\n",
    "    #remove reactions with unknown species\n",
    "    to_remove = []\n",
    "    for reactionList in (model_1_reactions, model_2_reactions):\n",
    "        for reaction in reactionList:\n",
    "            for side in (reaction.products, reaction.reactants):\n",
    "                for species in side:\n",
    "                    if not species.molecule:\n",
    "                        to_remove.append((reactionList, reaction))\n",
    "                        print(\"Removing reaction {!r} that had unidentified species {!r}\".format(reaction, species))\n",
    "                        break\n",
    "    for reactionList, reaction in to_remove:\n",
    "        reactionList.remove(reaction)\n",
    "    print(f'Following reactions removed because they have unknown species: {to_remove}')\n",
    "    \n",
    "    #find the common reactions and the unique reactions\n",
    "    common_reactions = []\n",
    "    unique_reactions_1 = []\n",
    "    unique_reactions_2 = []\n",
    "    copy_of_model_2_reactions = model_2_reactions.copy() \n",
    "    copy_of_model_1_reactions = model_1_reactions.copy() \n",
    "\n",
    "    \n",
    "    for rxn_2 in copy_of_model_2_reactions:\n",
    "        for rxn_1 in copy_of_model_1_reactions:  # make a copy so you don't remove from the list you are iterating over\n",
    "            if rxn_2.is_isomorphic(rxn_1):\n",
    "                common_reactions.append([rxn_2, rxn_1])\n",
    "                #common_reactions_equations.append([str(rxnN), str(rxnD)])\n",
    "                # Remove reaction 2 from being chosen a second time.\n",
    "                # Let each reaction only appear only once in the diff comparison.\n",
    "                # Otherwise this miscounts number of reactions in model 2.\n",
    "                copy_of_model_1_reactions.remove(rxn_1)\n",
    " \n",
    "    \n",
    "    for rxn_2 in copy_of_model_2_reactions:\n",
    "        for r_2, r_1 in common_reactions:\n",
    "            if rxn_2.is_isomorphic(r_2):\n",
    "                if rxn_2 is not r_2:\n",
    "                    print(str(rxn_2))\n",
    "                break\n",
    "        else:\n",
    "            unique_reactions_2.append(rxn_2)\n",
    "    for rxn_1 in copy_of_model_1_reactions:\n",
    "        for r_2, r_1 in common_reactions:\n",
    "            if rxn_1.is_isomorphic(r_1):\n",
    "                break\n",
    "        else:\n",
    "            unique_reactions_1.append(rxn_1)\n",
    "            \n",
    "    different_kinetics_reactions = []\n",
    "            \n",
    "    for r_2, r_1 in common_reactions: \n",
    "        if (r_2.kinetics.is_identical_to(r_1.kinetics)==False) and (r_2.kinetics.is_similar_to(r_1.kinetics)==False):\n",
    "            different_kinetics_reactions.append(r_1)\n",
    "            \n",
    "    return different_kinetics_reactions, common_reactions, unique_reactions_1, unique_reactions_2\n",
    "    \n",
    "    \n",
    "    \n",
    "\n",
    "def details(different_kinetics_reactions, common_reactions, unique_reactions_1, unique_reactions_2):\n",
    "    \n",
    "    '''\n",
    "    Takes rmg objects and extracts readable info (equations, indexes, etc)\n",
    "    '''\n",
    "    \n",
    "    diff_kin_equations = [str(i) for i in different_kinetics_reactions]\n",
    "    comm_equations = [str(i) for i in common_reactions]\n",
    "    \n",
    "    uniq_rxns_eq_1 = [str(i) for i in unique_reactions_1]\n",
    "\n",
    "    uniq_rxns_eq_2 = [str(i) for i in unique_reactions_2]\n",
    "    \n",
    "    return diff_kin_equations, comm_equations, uniq_rxns_eq_1, uniq_rxns_eq_2 \n",
    "    \n",
    "    \n",
    "    \n",
    "    \n",
    "    \n",
    "    \n",
    "    \n",
    "def execute(full_path_1, chemkin_1, dictionary_1, full_path_2, chemkin_2, dictionary_2): \n",
    "    '''\n",
    "    loads in chemkin files and runs commands to execute the file\n",
    "    '''\n",
    "    full_path_2 = full_path_2\n",
    "    inp_path_2 = full_path_2 + chemkin_2\n",
    "    dict_path_2 = full_path_2 + dictionary_2\n",
    "    model_2_species, model_2_reactions = chemkin.load_chemkin_file(inp_path_2, dict_path_2)\n",
    "\n",
    "    full_path_1 = full_path_1\n",
    "    inp_path_1 = full_path_1 + chemkin_1\n",
    "    dict_path_1 = full_path_1 + dictionary_1\n",
    "    model_1_species, model_1_reactions = chemkin.load_chemkin_file(inp_path_1, dict_path_1)\n",
    "    \n",
    "    different_kinetics_reactions, common_reactions, unique_reactions_1, unique_reactions_2 = compare_rxn_equations(model_1_reactions, model_2_reactions)\n",
    "    diff_kin_equations, comm_equations, uniq_rxns_eq_1, uniq_rxns_eq_2  = details(different_kinetics_reactions, common_reactions, unique_reactions_1, unique_reactions_2)\n",
    "    return different_kinetics_reactions, diff_kin_equations, common_reactions, comm_equations, unique_reactions_1, uniq_rxns_eq_1, unique_reactions_2, uniq_rxns_eq_2, model_1_species, model_1_reactions, model_2_species, model_2_reactions \n",
    "\n",
    "    "
   ]
  },
  {
   "cell_type": "markdown",
   "id": "91768b50",
   "metadata": {},
   "source": [
    "Functions: One_Flip_120_140"
   ]
  },
  {
   "cell_type": "code",
   "execution_count": null,
   "id": "bdd70ab4",
   "metadata": {},
   "outputs": [],
   "source": [
    "def execute_flip(different_kinetics_reactions, diff_kin_equations, common_reactions, comm_equations, unique_reactions_1, uniq_rxns_eq_1, unique_reactions_2, uniq_rxns_eq__2, model_1_species, model_1_reactions, model_2_species, model_2_reactions)\n",
    "    \n",
    "\n",
    "\n",
    "    execute_flip()"
   ]
  },
  {
   "cell_type": "markdown",
   "id": "04ad0d03",
   "metadata": {},
   "source": [
    "Run "
   ]
  },
  {
   "cell_type": "code",
   "execution_count": null,
   "id": "7b2e5ac0",
   "metadata": {},
   "outputs": [],
   "source": [
    "different_kinetics_reactions, diff_kin_equations, common_reactions, comm_equations, unique_reactions_1, uniq_rxns_eq_1, unique_reactions_2, uniq_rxns_eq_2, model_1_species, model_1_reactions, model_2_species, model_2_reactions  = load_models(\n",
    "    \"/work/westgroup/nora/Code/projects/halogens/refrigerants/singles/Burgess_Comments/compare/models/Nora/2_BTP_seed/chemkin/\",\n",
    "    \"copies/copy_chem_130.inp\",\n",
    "    \"species_dictionary.txt\",\n",
    "    \"/work/westgroup/nora/Code/projects/halogens/refrigerants/singles/Burgess_Comments/compare/models/Nora/2_BTP_seed/chemkin/\",\n",
    "    \"copies/copy_chem_129.inp\",\n",
    "    \"species_dictionary.txt\"\n",
    "    )\n",
    "\n",
    "#WHEN COMPARING TO LAST SCRIPT:\n",
    "#load_models(full_path_1, chemkin_1, dictionary_1, full_path_2, chemkin_2, dictionary_2)\n",
    "#execute(full_path_1, chemkin_1, dictionary_1, full_path_2, chemkin_2, dictionary_2) \n",
    "#therefore, D = 1 = 130, N = 2 = 120"
   ]
  },
  {
   "cell_type": "markdown",
   "id": "c1f0ee67",
   "metadata": {},
   "source": [
    "Trying it out"
   ]
  },
  {
   "cell_type": "code",
   "execution_count": null,
   "id": "19149a66",
   "metadata": {},
   "outputs": [],
   "source": [
    "print(len(unique_reactions_2))\n",
    "for i in range(len(unique_reactions_2)): \n",
    "    \n",
    "    print(str(unique_reactions_2[i]))\n",
    "    \n",
    "    \n",
    "###130 model (1): has 1306 reactions \n",
    "### 129 model (2): has 1262 reactions\n",
    "\n",
    "    "
   ]
  },
  {
   "cell_type": "code",
   "execution_count": null,
   "id": "f477a0e0",
   "metadata": {},
   "outputs": [],
   "source": [
    "# print(len(model_1_reactions))\n",
    "# for i in range(len(model_1_reactions)): \n",
    "#     if str(model_1_reactions[i]) == 'CH2CHO(35) <=> CO(15) + CH3(19)':\n",
    "#          print(str(model_1_reactions[i]))\n",
    "\n",
    "print(len(common_reactions))\n",
    "for i in range(len(common_reactions)):\n",
    "    if str(common_reactions[i][0]) == 'CH2CHO(35) <=> CO(15) + CH3(19)':\n",
    "        print(str(common_reactions[i][0]))   \n",
    "print(len(model_2_reactions))\n",
    "    \n",
    "#these match, so good! \n",
    "    \n",
    "    "
   ]
  },
  {
   "cell_type": "code",
   "execution_count": null,
   "id": "2de21671",
   "metadata": {},
   "outputs": [],
   "source": []
  }
 ],
 "metadata": {
  "kernelspec": {
   "display_name": "rmg_env",
   "language": "python",
   "name": "rmg_env"
  },
  "language_info": {
   "codemirror_mode": {
    "name": "ipython",
    "version": 3
   },
   "file_extension": ".py",
   "mimetype": "text/x-python",
   "name": "python",
   "nbconvert_exporter": "python",
   "pygments_lexer": "ipython3",
   "version": "3.7.11"
  }
 },
 "nbformat": 4,
 "nbformat_minor": 5
}
