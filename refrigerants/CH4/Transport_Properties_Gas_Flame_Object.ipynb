{
 "cells": [
  {
   "cell_type": "code",
   "execution_count": 2,
   "id": "61ac485f",
   "metadata": {},
   "outputs": [
    {
     "ename": "ModuleNotFoundError",
     "evalue": "No module named 'cantera'",
     "output_type": "error",
     "traceback": [
      "\u001b[0;31m---------------------------------------------------------------------------\u001b[0m",
      "\u001b[0;31mModuleNotFoundError\u001b[0m                       Traceback (most recent call last)",
      "\u001b[0;32m<ipython-input-2-a882dc7b7d65>\u001b[0m in \u001b[0;36m<module>\u001b[0;34m\u001b[0m\n\u001b[0;32m----> 1\u001b[0;31m \u001b[0;32mimport\u001b[0m \u001b[0mcantera\u001b[0m \u001b[0;32mas\u001b[0m \u001b[0mct\u001b[0m\u001b[0;34m\u001b[0m\u001b[0;34m\u001b[0m\u001b[0m\n\u001b[0m\u001b[1;32m      2\u001b[0m \u001b[0;34m\u001b[0m\u001b[0m\n\u001b[1;32m      3\u001b[0m \u001b[0;31m#create gas object\u001b[0m\u001b[0;34m\u001b[0m\u001b[0;34m\u001b[0m\u001b[0;34m\u001b[0m\u001b[0m\n\u001b[1;32m      4\u001b[0m \u001b[0mgas\u001b[0m \u001b[0;34m=\u001b[0m \u001b[0mct\u001b[0m\u001b[0;34m.\u001b[0m\u001b[0mSolution\u001b[0m\u001b[0;34m(\u001b[0m\u001b[0;34m'./cantera/chem.cti'\u001b[0m\u001b[0;34m)\u001b[0m\u001b[0;34m\u001b[0m\u001b[0;34m\u001b[0m\u001b[0m\n\u001b[1;32m      5\u001b[0m \u001b[0;34m\u001b[0m\u001b[0m\n",
      "\u001b[0;31mModuleNotFoundError\u001b[0m: No module named 'cantera'"
     ]
    }
   ],
   "source": [
    "import sys\n",
    "sys.path.insert(0, '/home/khalil.nor/cantera/build/python')\n",
    "import cantera as ct \n",
    "import os\n",
    "\n",
    "#create gas object\n",
    "gas = ct.Solution('./cantera/chem.cti')\n",
    "\n",
    "#create flame object, can evaluate transport properties at just one equivalence ratio or many \n",
    "\n",
    "volume_fraction_list = [0.095] #test only when volume fraction is 9.5% and equivalence ratio = 1\n",
    "\n",
    "#use while loop below to determine properties across all volume fractions\n",
    "'''\n",
    "i = 0.05 #lower bound of volume_fraction\n",
    "volume_fraction_list = []\n",
    "\n",
    "while i < 0.1525:\n",
    "   volume_fraction_list.append(i)\n",
    "   i += 0.0025\n",
    "\n",
    "'''\n",
    "\n",
    "results = {}\n",
    "\n",
    "#Test for different transport properties\n",
    "properties = ['binary_diff_coeffs', 'electrical_conductivity', 'get_binary_diff_coeffs_polynomial(1,2)', 'get_collision_integral_polynomials(1,2)', 'get_thermal_conductivity_polynomial(1)', 'get_viscosity_polynomial(1)', 'mix_diff_coeffs', 'mix_diff_coeffs_mass', 'mix_diff_coeffs_mole', 'mobilities', 'multi_diff_coeffs', 'species_viscosities', 'thermal_conductivity', 'thermal_diff_coeffs']\n",
    "\n",
    "\n",
    "for vol in volume_fraction_list:\n",
    "    norm_ox = (1-vol)*.21\n",
    "    equivalence_ratio_dict = {'CH4(1)': (vol/norm_ox), 'O2(2)':((1-vol)*.21)/norm_ox, 'N2':((1-vol)*0.79)/norm_ox }\n",
    "    gas.TPX = To, Po, equivalence_ratio_dict\n",
    "    width = 0.08\n",
    "    flame = ct.FreeFlame(gas, width=width)\n",
    "    flame.set_refine_criteria(ratio=3, slope=0.1, curve=0.1)\n",
    "    flame.max_time_step_count = 900\n",
    "    loglevel = 1\n",
    "    \n",
    "#choose transport model to use, either \"Mix\" or \"Multi\"\n",
    "    flame.transport_model='Mix'\n",
    "    flame.solve(loglevel=loglevel, auto=True)\n",
    "\n",
    "#now test for properties in free flame\n",
    "    for prop in properties: \n",
    "       try: \n",
    "           print(prop)\n",
    "           eval(f'print(gas.{prop})')\n",
    "           print()\n",
    "       except AttributeError: \n",
    "          print(f'gas object has no {prop} attribute')\n",
    "          print()\n",
    "       except NotImplementedError: \n",
    "          print(f'gas object has no {prop} attribute')\n",
    "          print()  \n",
    "       except ct.CanteraError as err:\n",
    "          print(f'Cantera error for {prop} attribute: {err}')\n",
    "          print()\n",
    "        \n",
    "        \n"
   ]
  },
  {
   "cell_type": "code",
   "execution_count": null,
   "id": "45f3445d",
   "metadata": {},
   "outputs": [],
   "source": []
  }
 ],
 "metadata": {
  "kernelspec": {
   "display_name": "Python 3",
   "language": "python",
   "name": "python3"
  },
  "language_info": {
   "codemirror_mode": {
    "name": "ipython",
    "version": 3
   },
   "file_extension": ".py",
   "mimetype": "text/x-python",
   "name": "python",
   "nbconvert_exporter": "python",
   "pygments_lexer": "ipython3",
   "version": "3.8.8"
  }
 },
 "nbformat": 4,
 "nbformat_minor": 5
}
