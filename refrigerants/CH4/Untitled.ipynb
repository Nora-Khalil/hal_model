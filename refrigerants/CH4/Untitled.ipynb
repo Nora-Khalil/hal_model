{
 "cells": [
  {
   "cell_type": "code",
   "execution_count": null,
   "id": "46ec5164",
   "metadata": {},
   "outputs": [],
   "source": [
    "import sys\n",
    "sys.path.insert(0, '/home/khalil.nor/cantera/build/python')\n",
    "import cantera as ct \n",
    "import os\n",
    "\n",
    "print(\"Running Cantera Version: \" + str(ct.__version__))\n",
    "\n",
    "#create gas object\n",
    "gas = ct.Solution('./cantera/chem.cti')\n",
    "\n",
    "#create flame object\n",
    "To = 298\n",
    "Po = ct.one_atm\n",
    "\n",
    "\n",
    "\n",
    "\n",
    "flame = ct.FreeFlame(gas,)\n",
    "\n",
    "#Test for different transport properties\n",
    "properties = ['binary_diff_coeffs', 'electrical_conductivity', 'get_binary_diff_coeffs_polynomial(1,2)', 'get_collision_integral_polynomials(1,2)', 'get_thermal_conductivity_polynomial(1)', 'get_viscosity_polynomial(1)', 'mix_diff_coeffs', 'mix_diff_coeffs_mass', 'mix_diff_coeffs_mole', 'mobilities', 'multi_diff_coeffs', 'species_viscosities', 'thermal_conductivity', 'thermal_diff_coeffs']\n",
    "\n",
    "for prop in properties: \n",
    "   try: \n",
    "       print(prop)\n",
    "       eval(f'print(gas.{prop})')\n",
    "       print()\n",
    "   except AttributeError: \n",
    "      print(f'gas object has no {prop} attribute')\n",
    "      print()\n",
    "   except NotImplementedError: \n",
    "      print(f'gas object has no {prop} attribute')\n",
    "      print()\n",
    "   except ct.CanteraError as err:\n",
    "      print(f'Cantera error for {prop} attribute: {err}')\n",
    "      print()"
   ]
  }
 ],
 "metadata": {
  "kernelspec": {
   "display_name": "Python 3",
   "language": "python",
   "name": "python3"
  },
  "language_info": {
   "codemirror_mode": {
    "name": "ipython",
    "version": 3
   },
   "file_extension": ".py",
   "mimetype": "text/x-python",
   "name": "python",
   "nbconvert_exporter": "python",
   "pygments_lexer": "ipython3",
   "version": "3.8.8"
  }
 },
 "nbformat": 4,
 "nbformat_minor": 5
}
