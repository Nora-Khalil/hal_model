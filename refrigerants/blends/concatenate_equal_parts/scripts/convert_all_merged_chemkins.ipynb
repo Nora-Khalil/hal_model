{
 "cells": [
  {
   "cell_type": "code",
   "execution_count": 4,
   "id": "6335a792-79ee-4225-b882-cb20d7377753",
   "metadata": {},
   "outputs": [],
   "source": [
    "import cantera as ct\n",
    "import numpy as np\n",
    "import pandas as pd\n",
    "import os \n",
    "import re\n",
    "import subprocess\n",
    "import sys\n",
    "import csv\n"
   ]
  },
  {
   "cell_type": "code",
   "execution_count": 2,
   "id": "3d1a3de8-f732-4cca-ab2e-f9be380742a1",
   "metadata": {},
   "outputs": [],
   "source": [
    "blend_folders = [folder for folder in os.listdir('/work/westgroup/nora/Code/projects/halogens/refrigerants/blends/concatenate_equal_parts/') if re.match('[A-Z0-9]+_[A-Z0-9]+', folder)]"
   ]
  },
  {
   "cell_type": "code",
   "execution_count": 27,
   "id": "f53e5a85-ae9a-4e53-9f0c-a46c58f7488c",
   "metadata": {},
   "outputs": [
    {
     "name": "stdout",
     "output_type": "stream",
     "text": [
      "**************************command passed, converting to cti***************************\n",
      "**************************command passed, converting to cti***************************\n",
      "*******************************needs some work****************************************\n",
      "b\"Wrote CTI mechanism file to 'chem.cti'.\\nMechanism contains 259 species and 7596 reactions.\\nValidating mechanism...FAILED.\\n\\n***********************************************************************\\nInputFileError thrown by Kinetics::checkDuplicates:\\nUndeclared duplicate reactions detected:\\nReaction 7191: S(220) <=> S(221)\\nReaction 7188: 2 S(221) <=> 2 S(220)\\n***********************************************************************\\n\\n\"\n",
      "*******************************needs some work****************************************\n",
      "b\"Wrote CTI mechanism file to 'chem.cti'.\\nMechanism contains 259 species and 7596 reactions.\\nValidating mechanism...FAILED.\\n\\n***********************************************************************\\nInputFileError thrown by Kinetics::checkDuplicates:\\nUndeclared duplicate reactions detected:\\nReaction 7191: S(220) <=> S(221)\\nReaction 7188: 2 S(221) <=> 2 S(220)\\n***********************************************************************\\n\\n\"\n",
      "*******************************needs some work****************************************\n",
      "b\"Wrote CTI mechanism file to 'chem.cti'.\\nMechanism contains 259 species and 7596 reactions.\\nValidating mechanism...FAILED.\\n\\n***********************************************************************\\nInputFileError thrown by Kinetics::checkDuplicates:\\nUndeclared duplicate reactions detected:\\nReaction 7191: S(220) <=> S(221)\\nReaction 7188: 2 S(221) <=> 2 S(220)\\n***********************************************************************\\n\\n\"\n",
      "*******************************needs some work****************************************\n",
      "b\"Wrote CTI mechanism file to 'chem.cti'.\\nMechanism contains 259 species and 7596 reactions.\\nValidating mechanism...FAILED.\\n\\n***********************************************************************\\nInputFileError thrown by Kinetics::checkDuplicates:\\nUndeclared duplicate reactions detected:\\nReaction 7191: S(220) <=> S(221)\\nReaction 7188: 2 S(221) <=> 2 S(220)\\n***********************************************************************\\n\\n\"\n",
      "*******************************needs some work****************************************\n",
      "b\"Wrote CTI mechanism file to 'chem.cti'.\\nMechanism contains 259 species and 7596 reactions.\\nValidating mechanism...FAILED.\\n\\n***********************************************************************\\nInputFileError thrown by Kinetics::checkDuplicates:\\nUndeclared duplicate reactions detected:\\nReaction 7191: S(220) <=> S(221)\\nReaction 7188: 2 S(221) <=> 2 S(220)\\n***********************************************************************\\n\\n\"\n",
      "*******************************needs some work****************************************\n",
      "b\"Wrote CTI mechanism file to 'chem.cti'.\\nMechanism contains 259 species and 7596 reactions.\\nValidating mechanism...FAILED.\\n\\n***********************************************************************\\nInputFileError thrown by Kinetics::checkDuplicates:\\nUndeclared duplicate reactions detected:\\nReaction 7191: S(220) <=> S(221)\\nReaction 7188: 2 S(221) <=> 2 S(220)\\n***********************************************************************\\n\\n\"\n",
      "*******************************needs some work****************************************\n",
      "b\"Wrote CTI mechanism file to 'chem.cti'.\\nMechanism contains 259 species and 7596 reactions.\\nValidating mechanism...FAILED.\\n\\n***********************************************************************\\nInputFileError thrown by Kinetics::checkDuplicates:\\nUndeclared duplicate reactions detected:\\nReaction 7191: S(220) <=> S(221)\\nReaction 7188: 2 S(221) <=> 2 S(220)\\n***********************************************************************\\n\\n\"\n",
      "*******************************needs some work****************************************\n",
      "b\"Wrote CTI mechanism file to 'chem.cti'.\\nMechanism contains 259 species and 7596 reactions.\\nValidating mechanism...FAILED.\\n\\n***********************************************************************\\nInputFileError thrown by Kinetics::checkDuplicates:\\nUndeclared duplicate reactions detected:\\nReaction 7191: S(220) <=> S(221)\\nReaction 7188: 2 S(221) <=> 2 S(220)\\n***********************************************************************\\n\\n\"\n"
     ]
    },
    {
     "ename": "KeyboardInterrupt",
     "evalue": "",
     "output_type": "error",
     "traceback": [
      "\u001b[0;31m---------------------------------------------------------------------------\u001b[0m",
      "\u001b[0;31mKeyboardInterrupt\u001b[0m                         Traceback (most recent call last)",
      "\u001b[0;32m/tmp/ipykernel_25824/1799572389.py\u001b[0m in \u001b[0;36m<module>\u001b[0;34m\u001b[0m\n\u001b[1;32m      4\u001b[0m     \u001b[0mos\u001b[0m\u001b[0;34m.\u001b[0m\u001b[0mchdir\u001b[0m\u001b[0;34m(\u001b[0m\u001b[0mconcatenated_dir\u001b[0m\u001b[0;34m)\u001b[0m\u001b[0;34m\u001b[0m\u001b[0;34m\u001b[0m\u001b[0m\n\u001b[1;32m      5\u001b[0m \u001b[0;34m\u001b[0m\u001b[0m\n\u001b[0;32m----> 6\u001b[0;31m     \u001b[0mconvert\u001b[0m\u001b[0;34m(\u001b[0m\u001b[0;34m'chem.inp'\u001b[0m\u001b[0;34m)\u001b[0m\u001b[0;34m\u001b[0m\u001b[0;34m\u001b[0m\u001b[0m\n\u001b[0m\u001b[1;32m      7\u001b[0m \u001b[0;34m\u001b[0m\u001b[0m\n",
      "\u001b[0;32m/tmp/ipykernel_25824/248678039.py\u001b[0m in \u001b[0;36mconvert\u001b[0;34m(file_name)\u001b[0m\n\u001b[1;32m     28\u001b[0m     \u001b[0;31m#this is a string of the output when I try to convert this file to a cti file. Will probably produce an error\u001b[0m\u001b[0;34m\u001b[0m\u001b[0;34m\u001b[0m\u001b[0m\n\u001b[1;32m     29\u001b[0m         \u001b[0;31m# output = getoutput( f'ck2cti --input=copy_{file_name} --transport=tran_{species}.dat')\u001b[0m\u001b[0;34m\u001b[0m\u001b[0;34m\u001b[0m\u001b[0m\n\u001b[0;32m---> 30\u001b[0;31m         \u001b[0mck2cti_command\u001b[0m \u001b[0;34m=\u001b[0m \u001b[0msubprocess\u001b[0m\u001b[0;34m.\u001b[0m\u001b[0mrun\u001b[0m\u001b[0;34m(\u001b[0m\u001b[0;34m[\u001b[0m\u001b[0;34m'ck2cti'\u001b[0m\u001b[0;34m,\u001b[0m \u001b[0;34mf'--input=chem.inp'\u001b[0m\u001b[0;34m,\u001b[0m\u001b[0;34mf'--transport=tran.dat'\u001b[0m\u001b[0;34m]\u001b[0m\u001b[0;34m,\u001b[0m \u001b[0mcapture_output\u001b[0m\u001b[0;34m=\u001b[0m\u001b[0;32mTrue\u001b[0m\u001b[0;34m)\u001b[0m\u001b[0;34m\u001b[0m\u001b[0;34m\u001b[0m\u001b[0m\n\u001b[0m\u001b[1;32m     31\u001b[0m         \u001b[0moutput\u001b[0m \u001b[0;34m=\u001b[0m \u001b[0mck2cti_command\u001b[0m\u001b[0;34m.\u001b[0m\u001b[0mstdout\u001b[0m\u001b[0;34m\u001b[0m\u001b[0;34m\u001b[0m\u001b[0m\n\u001b[1;32m     32\u001b[0m         \u001b[0;31m#if command passed without an error\u001b[0m\u001b[0;34m\u001b[0m\u001b[0;34m\u001b[0m\u001b[0m\n",
      "\u001b[0;32m~/.conda/envs/cantera_env/lib/python3.9/subprocess.py\u001b[0m in \u001b[0;36mrun\u001b[0;34m(input, capture_output, timeout, check, *popenargs, **kwargs)\u001b[0m\n\u001b[1;32m    505\u001b[0m     \u001b[0;32mwith\u001b[0m \u001b[0mPopen\u001b[0m\u001b[0;34m(\u001b[0m\u001b[0;34m*\u001b[0m\u001b[0mpopenargs\u001b[0m\u001b[0;34m,\u001b[0m \u001b[0;34m**\u001b[0m\u001b[0mkwargs\u001b[0m\u001b[0;34m)\u001b[0m \u001b[0;32mas\u001b[0m \u001b[0mprocess\u001b[0m\u001b[0;34m:\u001b[0m\u001b[0;34m\u001b[0m\u001b[0;34m\u001b[0m\u001b[0m\n\u001b[1;32m    506\u001b[0m         \u001b[0;32mtry\u001b[0m\u001b[0;34m:\u001b[0m\u001b[0;34m\u001b[0m\u001b[0;34m\u001b[0m\u001b[0m\n\u001b[0;32m--> 507\u001b[0;31m             \u001b[0mstdout\u001b[0m\u001b[0;34m,\u001b[0m \u001b[0mstderr\u001b[0m \u001b[0;34m=\u001b[0m \u001b[0mprocess\u001b[0m\u001b[0;34m.\u001b[0m\u001b[0mcommunicate\u001b[0m\u001b[0;34m(\u001b[0m\u001b[0minput\u001b[0m\u001b[0;34m,\u001b[0m \u001b[0mtimeout\u001b[0m\u001b[0;34m=\u001b[0m\u001b[0mtimeout\u001b[0m\u001b[0;34m)\u001b[0m\u001b[0;34m\u001b[0m\u001b[0;34m\u001b[0m\u001b[0m\n\u001b[0m\u001b[1;32m    508\u001b[0m         \u001b[0;32mexcept\u001b[0m \u001b[0mTimeoutExpired\u001b[0m \u001b[0;32mas\u001b[0m \u001b[0mexc\u001b[0m\u001b[0;34m:\u001b[0m\u001b[0;34m\u001b[0m\u001b[0;34m\u001b[0m\u001b[0m\n\u001b[1;32m    509\u001b[0m             \u001b[0mprocess\u001b[0m\u001b[0;34m.\u001b[0m\u001b[0mkill\u001b[0m\u001b[0;34m(\u001b[0m\u001b[0;34m)\u001b[0m\u001b[0;34m\u001b[0m\u001b[0;34m\u001b[0m\u001b[0m\n",
      "\u001b[0;32m~/.conda/envs/cantera_env/lib/python3.9/subprocess.py\u001b[0m in \u001b[0;36mcommunicate\u001b[0;34m(self, input, timeout)\u001b[0m\n\u001b[1;32m   1132\u001b[0m \u001b[0;34m\u001b[0m\u001b[0m\n\u001b[1;32m   1133\u001b[0m             \u001b[0;32mtry\u001b[0m\u001b[0;34m:\u001b[0m\u001b[0;34m\u001b[0m\u001b[0;34m\u001b[0m\u001b[0m\n\u001b[0;32m-> 1134\u001b[0;31m                 \u001b[0mstdout\u001b[0m\u001b[0;34m,\u001b[0m \u001b[0mstderr\u001b[0m \u001b[0;34m=\u001b[0m \u001b[0mself\u001b[0m\u001b[0;34m.\u001b[0m\u001b[0m_communicate\u001b[0m\u001b[0;34m(\u001b[0m\u001b[0minput\u001b[0m\u001b[0;34m,\u001b[0m \u001b[0mendtime\u001b[0m\u001b[0;34m,\u001b[0m \u001b[0mtimeout\u001b[0m\u001b[0;34m)\u001b[0m\u001b[0;34m\u001b[0m\u001b[0;34m\u001b[0m\u001b[0m\n\u001b[0m\u001b[1;32m   1135\u001b[0m             \u001b[0;32mexcept\u001b[0m \u001b[0mKeyboardInterrupt\u001b[0m\u001b[0;34m:\u001b[0m\u001b[0;34m\u001b[0m\u001b[0;34m\u001b[0m\u001b[0m\n\u001b[1;32m   1136\u001b[0m                 \u001b[0;31m# https://bugs.python.org/issue25942\u001b[0m\u001b[0;34m\u001b[0m\u001b[0;34m\u001b[0m\u001b[0m\n",
      "\u001b[0;32m~/.conda/envs/cantera_env/lib/python3.9/subprocess.py\u001b[0m in \u001b[0;36m_communicate\u001b[0;34m(self, input, endtime, orig_timeout)\u001b[0m\n\u001b[1;32m   1977\u001b[0m                             'failed to raise TimeoutExpired.')\n\u001b[1;32m   1978\u001b[0m \u001b[0;34m\u001b[0m\u001b[0m\n\u001b[0;32m-> 1979\u001b[0;31m                     \u001b[0mready\u001b[0m \u001b[0;34m=\u001b[0m \u001b[0mselector\u001b[0m\u001b[0;34m.\u001b[0m\u001b[0mselect\u001b[0m\u001b[0;34m(\u001b[0m\u001b[0mtimeout\u001b[0m\u001b[0;34m)\u001b[0m\u001b[0;34m\u001b[0m\u001b[0;34m\u001b[0m\u001b[0m\n\u001b[0m\u001b[1;32m   1980\u001b[0m                     \u001b[0mself\u001b[0m\u001b[0;34m.\u001b[0m\u001b[0m_check_timeout\u001b[0m\u001b[0;34m(\u001b[0m\u001b[0mendtime\u001b[0m\u001b[0;34m,\u001b[0m \u001b[0morig_timeout\u001b[0m\u001b[0;34m,\u001b[0m \u001b[0mstdout\u001b[0m\u001b[0;34m,\u001b[0m \u001b[0mstderr\u001b[0m\u001b[0;34m)\u001b[0m\u001b[0;34m\u001b[0m\u001b[0;34m\u001b[0m\u001b[0m\n\u001b[1;32m   1981\u001b[0m \u001b[0;34m\u001b[0m\u001b[0m\n",
      "\u001b[0;32m~/.conda/envs/cantera_env/lib/python3.9/selectors.py\u001b[0m in \u001b[0;36mselect\u001b[0;34m(self, timeout)\u001b[0m\n\u001b[1;32m    414\u001b[0m         \u001b[0mready\u001b[0m \u001b[0;34m=\u001b[0m \u001b[0;34m[\u001b[0m\u001b[0;34m]\u001b[0m\u001b[0;34m\u001b[0m\u001b[0;34m\u001b[0m\u001b[0m\n\u001b[1;32m    415\u001b[0m         \u001b[0;32mtry\u001b[0m\u001b[0;34m:\u001b[0m\u001b[0;34m\u001b[0m\u001b[0;34m\u001b[0m\u001b[0m\n\u001b[0;32m--> 416\u001b[0;31m             \u001b[0mfd_event_list\u001b[0m \u001b[0;34m=\u001b[0m \u001b[0mself\u001b[0m\u001b[0;34m.\u001b[0m\u001b[0m_selector\u001b[0m\u001b[0;34m.\u001b[0m\u001b[0mpoll\u001b[0m\u001b[0;34m(\u001b[0m\u001b[0mtimeout\u001b[0m\u001b[0;34m)\u001b[0m\u001b[0;34m\u001b[0m\u001b[0;34m\u001b[0m\u001b[0m\n\u001b[0m\u001b[1;32m    417\u001b[0m         \u001b[0;32mexcept\u001b[0m \u001b[0mInterruptedError\u001b[0m\u001b[0;34m:\u001b[0m\u001b[0;34m\u001b[0m\u001b[0;34m\u001b[0m\u001b[0m\n\u001b[1;32m    418\u001b[0m             \u001b[0;32mreturn\u001b[0m \u001b[0mready\u001b[0m\u001b[0;34m\u001b[0m\u001b[0;34m\u001b[0m\u001b[0m\n",
      "\u001b[0;31mKeyboardInterrupt\u001b[0m: "
     ]
    }
   ],
   "source": [
    "for folder in blend_folders: \n",
    "   \n",
    "    concatenated_dir = f'/work/westgroup/nora/Code/projects/halogens/refrigerants/blends/concatenate_equal_parts/{folder}/concatenated'\n",
    "    os.chdir(concatenated_dir)\n",
    "    \n",
    "    convert('chem.inp')\n",
    "    "
   ]
  },
  {
   "cell_type": "markdown",
   "id": "eaca0afb-48e6-4c4c-aa37-5da951f98a53",
   "metadata": {},
   "source": [
    "## editing the converter function"
   ]
  },
  {
   "cell_type": "code",
   "execution_count": 26,
   "id": "5636e280-aabd-49f3-bda2-a84a24bd161c",
   "metadata": {},
   "outputs": [],
   "source": [
    "\n",
    "\n",
    "def convert(file_name):\n",
    "    ############### copies chemkin files to dups folder #############################\n",
    "\n",
    "#     match = re.search('(\\S+).inp', file_name)\n",
    "#     species = match.group(1)\n",
    "\n",
    "\n",
    "\n",
    "#     #os.system('source activate ct_env') #if on local, this is cantera 2.6 beta\n",
    "# #     os.system('source activate cantera_env') #if on discovery, will be cantera 2.5\n",
    "\n",
    "\n",
    "#     #copy folders so i dont screw up the original, and change into the new directory with copies\n",
    "#     os.makedirs('copies', exist_ok=True)\n",
    "\n",
    "#     #copy chem.inp file into dups folder, and will then convert this copy into .cti\n",
    "#     os.command = f'scp {file_name} copies/copy_{file_name}'\n",
    "#     os.system(os.command)\n",
    "#     os.system(f'scp tran_{species}.dat copies/tran_{species}.dat')\n",
    "\n",
    "#     #now look in the dups folder\n",
    "#     os.chdir('./copies')\n",
    "\n",
    "    ############################# converts the dup_chem.inp files to .cti files #############################\n",
    "\n",
    "    x = 0\n",
    "    while x == 0: \n",
    "    #this is a string of the output when I try to convert this file to a cti file. Will probably produce an error\n",
    "        # output = getoutput( f'ck2cti --input=copy_{file_name} --transport=tran_{species}.dat') \n",
    "        ck2cti_command = subprocess.run(['ck2cti', f'--input=chem.inp',f'--transport=tran.dat'], capture_output=True)\n",
    "        output = ck2cti_command.stdout\n",
    "        #if command passed without an error\n",
    "        if re.search('PASSED',str(output)):\n",
    "            print('**************************command passed, converting to cti***************************')\n",
    "            x += 1 \n",
    "        #if command generated the Duplicate error\n",
    "        else:\n",
    "            print('*******************************needs some work****************************************')\n",
    "            print(str(output))\n",
    "            # if re.search('Encountered\\sunmarked\\sduplicate\\sreaction',str(output)):\n",
    "            #         print('you know what it is')\n",
    "#                 match = re.search('See\\slines\\s([0-9]+)\\sand\\s([0-9]+)\\sof\\sthe\\sinput\\sfile',output)\n",
    "#                 #capture the line numbers with the duplicate reactions\n",
    "#                 line_numbers = [int(match.group(1)), int(match.group(2))]\n",
    "#                 print(f'Unmarked duplicates on lines {match.group(1)} and {match.group(2)}')\n",
    "#                 print('Editing chemkin file to allow conversion to .cti')\n",
    "#                 #write the lines of the chemkin input file to a list so that I can insert the \"DUPLICATE\" statement\n",
    "#                 with open(f'copy_{file_name}','r') as f:\n",
    "#                     data = f.readlines()\n",
    "#                     print(data[line_numbers[0]-1], data[line_numbers[1]-1])\n",
    "\n",
    "#                 #start editing the .inp file below\n",
    "\n",
    "#                 #'adjustments' will make sure that, even when I add an element in 'data', my index will still be correct\n",
    "#                 adjustments = [0,1]\n",
    "#                 for i,adjust in zip(line_numbers,adjustments): \n",
    "#                     start = i+adjust-1\n",
    "#                     count = 0 \n",
    "#                     while count == 0: \n",
    "#                         #if you don't see a blank line after the duplicated reaction line, keep going until you do\n",
    "#                         if not re.search('^\\n', data[start]): \n",
    "#                             print('no match')\n",
    "#                             print(start)\n",
    "#                             print(data[start])\n",
    "#                             start += 1\n",
    "#                         #when we get to the blank line after the reaction block, insert \"DUPLICATE\" and stop the loop for this line number\n",
    "#                         else: \n",
    "#                             print('there is a match')\n",
    "#                             data.insert(start,'DUPLICATE')\n",
    "#                             count = 1 \n",
    "#                 #now overwrite the input file with the change \n",
    "#                 with open(f'copy_{file_name}','w+') as f: \n",
    "#                     for l in data: \n",
    "                        # f.write(l)\n",
    "#                         x==0\n",
    "\n",
    "            #if the command generated an error that is not the Duplicate error\n",
    "        #      else:\n",
    "        # #if code ever gets to here, just cry\n",
    "        #          print('There is another error, see Output')\n",
    "        #          print(str(output))\n",
    "        #     x += 1\n",
    "\n",
    "\n",
    "\n",
    "                "
   ]
  },
  {
   "cell_type": "code",
   "execution_count": null,
   "id": "5036a08a-0b78-41cd-bf0c-ca5dd87c01b8",
   "metadata": {},
   "outputs": [],
   "source": []
  }
 ],
 "metadata": {
  "kernelspec": {
   "display_name": "Python 3 (ipykernel)",
   "language": "python",
   "name": "python3"
  },
  "language_info": {
   "codemirror_mode": {
    "name": "ipython",
    "version": 3
   },
   "file_extension": ".py",
   "mimetype": "text/x-python",
   "name": "python",
   "nbconvert_exporter": "python",
   "pygments_lexer": "ipython3",
   "version": "3.9.7"
  }
 },
 "nbformat": 4,
 "nbformat_minor": 5
}
