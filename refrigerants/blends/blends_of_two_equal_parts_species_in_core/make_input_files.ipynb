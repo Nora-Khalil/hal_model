{
 "cells": [
  {
   "cell_type": "code",
   "execution_count": 1,
   "id": "41cadbd6-9192-41b9-9949-70093287d694",
   "metadata": {},
   "outputs": [],
   "source": [
    "import os\n",
    "import re \n",
    "import rmgpy.chemkin"
   ]
  },
  {
   "cell_type": "markdown",
   "id": "4abcfaf1-245e-437a-a0d1-f23b1500215c",
   "metadata": {},
   "source": [
    "Test with a regular chemkin"
   ]
  },
  {
   "cell_type": "code",
   "execution_count": null,
   "id": "f6b8d384-299f-4880-af68-70ed27ba10ac",
   "metadata": {},
   "outputs": [],
   "source": [
    "C2H5F_CH2F2 C2H5F_CH2FCH2F C2H5F_CH2FCHF2 C2H5F_CH3CHF2 C2H5F_CH3F CH3CF3_C2H5F"
   ]
  },
  {
   "cell_type": "code",
   "execution_count": 21,
   "id": "02852674-125f-42b9-be1e-663f24a9e87c",
   "metadata": {},
   "outputs": [],
   "source": [
    "spcs, rxns = load_chemkin_file('/work/westgroup/nora/Code/projects/halogens/refrigerants/blends/concatenate_equal_parts/C2H5F_CH2FCH2F/')"
   ]
  },
  {
   "cell_type": "code",
   "execution_count": 35,
   "id": "ea2ba37d-9eb9-4557-bd1b-616f893be07e",
   "metadata": {},
   "outputs": [],
   "source": [
    "original = []\n",
    "for s in spcs:\n",
    "    original.append(s.label)"
   ]
  },
  {
   "cell_type": "code",
   "execution_count": 40,
   "id": "a8c69579-fedc-45ac-a9ad-22742611ba79",
   "metadata": {},
   "outputs": [],
   "source": [
    "set_original = set(original)\n",
    "set_no_dups = set(no_duplicates.keys())"
   ]
  },
  {
   "cell_type": "code",
   "execution_count": 41,
   "id": "1d8ff5b8-4c75-486d-9eb8-406d023f15c8",
   "metadata": {},
   "outputs": [
    {
     "data": {
      "text/plain": [
       "{'CH2(S)'}"
      ]
     },
     "execution_count": 41,
     "metadata": {},
     "output_type": "execute_result"
    }
   ],
   "source": [
    "set_original.difference(set_no_dups)"
   ]
  },
  {
   "cell_type": "code",
   "execution_count": 38,
   "id": "e6f74dc2-471d-45a8-ae95-1abfca8be870",
   "metadata": {},
   "outputs": [],
   "source": [
    "smiles = dict()\n",
    "\n",
    "#take their species\n",
    "for spc in spcs: \n",
    "        smiles[spc.label] = spc.smiles"
   ]
  },
  {
   "cell_type": "code",
   "execution_count": 39,
   "id": "c2c42c32-cd60-4ea3-b867-b0f414e1a64a",
   "metadata": {},
   "outputs": [],
   "source": [
    "#remove duplicate values (smiles) in dictionary\n",
    "#this is only getting the first duplicate error (CH2(S) v. CH2(T))\n",
    "temp = []\n",
    "no_duplicates = dict()\n",
    "for key, val in smiles.items():\n",
    "    if val not in temp:\n",
    "        temp.append(val)\n",
    "        no_duplicates[key] = val"
   ]
  },
  {
   "cell_type": "code",
   "execution_count": 26,
   "id": "da975ddc-ad2f-49ca-9df5-c286d7661dab",
   "metadata": {},
   "outputs": [
    {
     "data": {
      "text/plain": [
       "False"
      ]
     },
     "execution_count": 26,
     "metadata": {},
     "output_type": "execute_result"
    }
   ],
   "source": [
    "spcs[10].is_isomorphic(spcs[13],strict=False)"
   ]
  },
  {
   "cell_type": "code",
   "execution_count": 47,
   "id": "1362af9a-5385-4733-8a39-5223b3f7a2f3",
   "metadata": {},
   "outputs": [],
   "source": [
    "for s in spcs: \n",
    "    for i in spcs: \n",
    "        if i == s:\n",
    "            continue\n",
    "        if s.is_identical(i, strict=False):\n",
    "            print(s, i)"
   ]
  },
  {
   "cell_type": "code",
   "execution_count": 74,
   "id": "1cd74543-5805-4230-aff4-5efcdf8a0172",
   "metadata": {},
   "outputs": [
    {
     "data": {
      "text/plain": [
       "False"
      ]
     },
     "execution_count": 74,
     "metadata": {},
     "output_type": "execute_result"
    }
   ],
   "source": [
    "# [CH]=C=C=C[CH2]   C5H4(159)   #162\n",
    "# C#C[C]C=C         C5H4(153)   #156\n",
    "\n",
    "\n",
    "\n",
    "\n",
    "spcs[162].is_isomorphic(spcs[156],strict=False)\n"
   ]
  },
  {
   "cell_type": "code",
   "execution_count": 79,
   "id": "cbe1bd87-99bc-46a6-807d-8323cb0e5fd9",
   "metadata": {},
   "outputs": [
    {
     "data": {
      "text/plain": [
       "'[CH]=C=C=C[CH2]\\nmultiplicity 3\\n1 C u0 p0 c0 {2,S} {3,D} {6,S}\\n2 C u1 p0 c0 {1,S} {7,S} {8,S}\\n3 C u0 p0 c0 {1,D} {4,D}\\n4 C u0 p0 c0 {3,D} {5,D}\\n5 C u1 p0 c0 {4,D} {9,S}\\n6 H u0 p0 c0 {1,S}\\n7 H u0 p0 c0 {2,S}\\n8 H u0 p0 c0 {2,S}\\n9 H u0 p0 c0 {5,S}\\n\\n\\n[CH]=C=C=C[CH2]\\nmultiplicity 3\\n1 C u0 p0 c0 {2,D} {3,S} {6,S}\\n2 C u0 p0 c0 {1,D} {7,S} {8,S}\\n3 C u1 p0 c0 {1,S} {4,D}\\n4 C u0 p0 c0 {3,D} {5,D}\\n5 C u1 p0 c0 {4,D} {9,S}\\n6 H u0 p0 c0 {1,S}\\n7 H u0 p0 c0 {2,S}\\n8 H u0 p0 c0 {2,S}\\n9 H u0 p0 c0 {5,S}\\n\\n\\n[CH]=C=C=C[CH2]\\nmultiplicity 3\\n1 C u0 p0 c0 {2,S} {3,D} {6,S}\\n2 C u1 p0 c0 {1,S} {7,S} {8,S}\\n3 C u1 p0 c0 {1,D} {4,S}\\n4 C u0 p0 c0 {3,S} {5,T}\\n5 C u0 p0 c0 {4,T} {9,S}\\n6 H u0 p0 c0 {1,S}\\n7 H u0 p0 c0 {2,S}\\n8 H u0 p0 c0 {2,S}\\n9 H u0 p0 c0 {5,S}\\n\\n\\n[CH]=C=C=C[CH2]\\nmultiplicity 3\\n1 C u0 p0 c0 {2,D} {3,S} {6,S}\\n2 C u0 p0 c0 {1,D} {7,S} {8,S}\\n3 C u0 p0 c0 {1,S} {4,T}\\n4 C u0 p0 c0 {3,T} {5,S}\\n5 C u2 p0 c0 {4,S} {9,S}\\n6 H u0 p0 c0 {1,S}\\n7 H u0 p0 c0 {2,S}\\n8 H u0 p0 c0 {2,S}\\n9 H u0 p0 c0 {5,S}\\n\\n\\n[CH]=C=C=C[CH2]\\nmultiplicity 3\\n1 C u0 p0 c0 {2,D} {3,S} {6,S}\\n2 C u0 p0 c0 {1,D} {7,S} {8,S}\\n3 C u2 p0 c0 {1,S} {4,S}\\n4 C u0 p0 c0 {3,S} {5,T}\\n5 C u0 p0 c0 {4,T} {9,S}\\n6 H u0 p0 c0 {1,S}\\n7 H u0 p0 c0 {2,S}\\n8 H u0 p0 c0 {2,S}\\n9 H u0 p0 c0 {5,S}\\n'"
      ]
     },
     "execution_count": 79,
     "metadata": {},
     "output_type": "execute_result"
    }
   ],
   "source": [
    "spcs[162].to_adjacency_list()"
   ]
  },
  {
   "cell_type": "code",
   "execution_count": 77,
   "id": "daa0bda5-fdcd-47dd-bd4c-7b5bf47e3dcf",
   "metadata": {},
   "outputs": [
    {
     "data": {
      "text/plain": [
       "'C#C[C]C=C\\n1 C u0 p0 c0 {2,D} {3,S} {6,S}\\n2 C u0 p0 c0 {1,D} {7,S} {8,S}\\n3 C u0 p1 c0 {1,S} {4,S}\\n4 C u0 p0 c0 {3,S} {5,T}\\n5 C u0 p0 c0 {4,T} {9,S}\\n6 H u0 p0 c0 {1,S}\\n7 H u0 p0 c0 {2,S}\\n8 H u0 p0 c0 {2,S}\\n9 H u0 p0 c0 {5,S}\\n'"
      ]
     },
     "execution_count": 77,
     "metadata": {},
     "output_type": "execute_result"
    }
   ],
   "source": [
    "spcs[156].to_adjacency_list()"
   ]
  },
  {
   "cell_type": "code",
   "execution_count": 19,
   "id": "2ea0d47c-4d18-4af1-aa9a-b4735bbff7eb",
   "metadata": {},
   "outputs": [
    {
     "data": {
      "text/plain": [
       "220"
      ]
     },
     "execution_count": 19,
     "metadata": {},
     "output_type": "execute_result"
    }
   ],
   "source": [
    "len(smiles.keys())\n",
    "len(no_duplicates.keys())"
   ]
  },
  {
   "cell_type": "code",
   "execution_count": 15,
   "id": "f7bd04ee-de4b-4629-88be-91a4d5f2469a",
   "metadata": {},
   "outputs": [
    {
     "name": "stdout",
     "output_type": "stream",
     "text": [
      "got em\n",
      "got em\n"
     ]
    }
   ],
   "source": [
    "# for s in spcs: \n",
    "#     for i in spcs: \n",
    "#         if i == s: \n",
    "#             continue\n",
    "#         if s.smiles == i.smiles:\n",
    "#             print('got em')"
   ]
  },
  {
   "cell_type": "markdown",
   "id": "86e09fe6-3b5f-468b-96f2-b86ca0199ccc",
   "metadata": {},
   "source": [
    "Make the folders"
   ]
  },
  {
   "cell_type": "code",
   "execution_count": 21,
   "id": "4c0863f9-df78-4da5-b181-affcd5cb0e0b",
   "metadata": {},
   "outputs": [],
   "source": [
    "blends_directory = '/work/westgroup/nora/Code/projects/halogens/refrigerants/blends/concatenate_equal_parts/'\n",
    "\n",
    "list_of_blends = [blend for blend in os.listdir(blends_directory) if re.match('([A-Z0-9]+_[A-Z0-9]+)', blend)]"
   ]
  },
  {
   "cell_type": "code",
   "execution_count": 48,
   "id": "70cfbb50-88b1-49a9-a2fe-8e7d82da9362",
   "metadata": {},
   "outputs": [
    {
     "data": {
      "text/plain": [
       "'C2H5F_CH2F2 C2H5F_CH2FCH2F C2H5F_CH2FCHF2 C2H5F_CH3CHF2 C2H5F_CH3F CH2F2_CH3CF3 CH2F2_CH3F CH2FCH2F_CH2F2 CH2FCH2F_CH2FCHF2 CH2FCH2F_CH3CHF2 CH2FCH2F_CH3F CH2FCHF2_CH2F2 CH2FCHF2_CH3F CH3CF3_C2H5F CH3CF3_CH2FCH2F CH3CF3_CH2FCHF2 CH3CF3_CH3CHF2 CH3CHF2_CH2F2 CH3CHF2_CH2FCHF2 CH3F_CH3CF3 CH3F_CH3CHF2'"
      ]
     },
     "execution_count": 48,
     "metadata": {},
     "output_type": "execute_result"
    }
   ],
   "source": [
    "' '.join(list_of_blends)"
   ]
  },
  {
   "cell_type": "code",
   "execution_count": 22,
   "id": "d524198e-3309-41b2-98a8-f42e953ad732",
   "metadata": {},
   "outputs": [
    {
     "data": {
      "text/plain": [
       "21"
      ]
     },
     "execution_count": 22,
     "metadata": {},
     "output_type": "execute_result"
    }
   ],
   "source": [
    "len(list_of_blends)"
   ]
  },
  {
   "cell_type": "code",
   "execution_count": 8,
   "id": "9059d08b-2d1f-4c9a-b7f3-88c1e867cd61",
   "metadata": {},
   "outputs": [],
   "source": [
    "for blend in list_of_blends: \n",
    "    os.mkdir(f'/work/westgroup/nora/Code/projects/halogens/refrigerants/blends/blends_of_two_equal_parts_species_in_core/{blend}')"
   ]
  },
  {
   "cell_type": "markdown",
   "id": "4365a3ac-7bfd-435e-943f-9abfb6379e61",
   "metadata": {},
   "source": [
    "Gather the species to be added into the core"
   ]
  },
  {
   "cell_type": "code",
   "execution_count": 3,
   "id": "53aa5dbf-e0fa-4de2-a94f-3c94c6fc49ad",
   "metadata": {},
   "outputs": [],
   "source": [
    "def load_chemkin_file(path): \n",
    "    \"\"\" \n",
    "    Load Chemkin file and extract the reactions and species.\n",
    "    Path should be the path to the species folder.\n",
    "    \"\"\"\n",
    "    \n",
    "    full_path = os.path.join(path,'concatenated')\n",
    "    chemkin_path = os.path.join(full_path, 'fixed_chem.inp')\n",
    "    dictionary_path = os.path.join(full_path,'species_dictionary.txt')\n",
    "    transport_path = os.path.join(full_path,'tran.dat')\n",
    "\n",
    "\n",
    "    species_list, reaction_list = rmgpy.chemkin.load_chemkin_file(chemkin_path, dictionary_path=dictionary_path, transport_path=transport_path)\n",
    "\n",
    "    return species_list, reaction_list \n",
    "\n",
    "\n",
    "\n",
    "def write_rmg_input_file(species_dictionary):\n",
    "\n",
    "    input_file = ''' \n",
    "\n",
    "thermolibs = [\n",
    "'primaryThermoLibrary',\n",
    "'FFCM1(-)',\n",
    "'halogens',\n",
    "'CHOF_G4',\n",
    "'CHOCl_G4',\n",
    "'CHOBr_G4',\n",
    "'CHOFCl_G4',\n",
    "'CHOFBr_G4',\n",
    "'CHOFClBr_G4',\n",
    "'DFT_QCI_thermo',\n",
    "'Fluorine',\n",
    "'2-BTP_G4',\n",
    "'thermo_DFT_CCSDTF12_BAC',\n",
    "'SulfurHaynes'\n",
    "]\n",
    "\n",
    "thermolibs_Creg = [\n",
    "'primaryThermoLibrary',\n",
    "'FFCM1(-)',\n",
    "'DFT_QCI_thermo',\n",
    "]\n",
    "\n",
    "\n",
    "\n",
    "database(\n",
    "thermoLibraries = thermolibs,\n",
    "reactionLibraries = ['FFCM1(-)','halogens_pdep'],\n",
    "seedMechanisms = ['FFCM1(-)'],\n",
    "kineticsDepositories = ['training'],\n",
    "kineticsFamilies = ['default','halogens','Disproportionation-Y'],\n",
    "frequenciesLibraries = ['halogens_G4'],\n",
    "kineticsEstimator = 'rate rules',\n",
    ")\n",
    "\n",
    "\n",
    "    \n",
    "species(\n",
    "    label = 'N2',\n",
    "    reactive = False,\n",
    "    structure = SMILES('N#N')\n",
    ")\n",
    "    \n",
    "    \n",
    "    \n",
    "'''\n",
    "    \n",
    "    for key in species_dictionary.keys(): \n",
    "        print(f'adding in species: {key} ')    \n",
    "        \n",
    "        block = f\"\"\"\n",
    "\n",
    "species(\n",
    "    label = '{key}',\n",
    "    reactive = True,\n",
    "    structure = SMILES('{species_dictionary[key]}')\n",
    ")      \n",
    "        \n",
    "        \"\"\"\n",
    "        input_file += block\n",
    "        \n",
    "        \n",
    "    block = '''\n",
    "    \n",
    "simulator(\n",
    "    atol = 1e-16,\n",
    "    rtol = 1e-08,\n",
    "    sens_atol = 1e-06,\n",
    "    sens_rtol = 0.0001,\n",
    ")\n",
    "\n",
    "\n",
    "generatedSpeciesConstraints(\n",
    "    allowed=['input species','seed mechanisms','reaction libraries'],\n",
    "    maximumCarbonAtoms=8,\n",
    "    maximumOxygenAtoms=6,\n",
    "    #maximumHeavyAtoms=24,\n",
    "    maximumRadicalElectrons=2,\n",
    "    maximumSingletCarbenes=1,\n",
    "    maximumCarbeneRadicals=0,\n",
    "    allowSingletO2 = True,\n",
    ")\n",
    "\n",
    "options(\n",
    "    units = \"si\",\n",
    "    generateSeedEachIteration = True,\n",
    "    generateOutputHTML = True,\n",
    "    generatePlots = True,\n",
    "    saveSimulationProfiles = True,\n",
    "    saveEdgeSpecies = False,\n",
    "    keepIrreversible = True,\n",
    "    verboseComments = False,\n",
    ")\n",
    "    \n",
    "    \n",
    "simpleReactor(\n",
    "        temperature=[(1000,'K'),(2000,'K')],\n",
    "        pressure= [(1.0,'bar'),(10.0,'bar')],\n",
    "        nSims=10,\n",
    "        initialMoleFractions={\n",
    "        \"CH2F2\": 0.5,\n",
    "        \"CH3F\": 0.5,\n",
    "        \"O2\": 1,\n",
    "        \"N2\": 3.76,\n",
    "        },\n",
    "        # terminationConversion={\n",
    "        # 'halogen': 0.999,\n",
    "        # },\n",
    "        #terminationRateRatio=1e-4,\n",
    "        #terminationTime=(10,'s'),\n",
    "        terminationTime=(1,'s'),\n",
    "        #sensitivity=['halogen','OH'],\n",
    "        #sensitivityThreshold=0.001,\n",
    "        )\n",
    "        \n",
    "model(\n",
    "    toleranceMoveToCore = 0.1,\n",
    "    toleranceInterruptSimulation = 0.1,\n",
    "    maximumEdgeSpecies = 3e5,\n",
    "    filterReactions = True,\n",
    "    filterThreshold = 5e8,\n",
    "    minCoreSizeForPrune = 50,\n",
    "    minSpeciesExistIterationsForPrune = 4,\n",
    ")\n",
    "\n",
    "pressureDependence(\n",
    "    method='modified strong collision',\n",
    "    maximumGrainSize=(0.5,'kcal/mol'),\n",
    "    minimumNumberOfGrains=250,\n",
    "    temperatures=(300,2500,'K',8),\n",
    "    pressures=(0.01,100,'bar',5),\n",
    "    interpolation=('Chebyshev', 6, 4),\n",
    "    maximumAtoms=16,\n",
    ")\n",
    "\n",
    "    \n",
    "    \n",
    "    '''\n",
    "    input_file += block\n",
    "    \n",
    "    \n",
    "    return input_file"
   ]
  },
  {
   "cell_type": "code",
   "execution_count": 31,
   "id": "2536f3e7-2ec2-4a6b-b8d8-8283f7a264b1",
   "metadata": {},
   "outputs": [],
   "source": [
    "list_ = []\n",
    "for blend in list_of_blends:\n",
    "    if not os.path.exists(f'/work/westgroup/nora/Code/projects/halogens/refrigerants/blends/blends_of_two_equal_parts_species_in_core/{blend}/chemkin'):\n",
    "        list_.append(blend)\n",
    "    \n",
    "    \n",
    "    \n",
    "    \n",
    "    \n",
    "    "
   ]
  },
  {
   "cell_type": "code",
   "execution_count": 32,
   "id": "3e4f14a7-ac25-4f5c-9f64-a342c23c9f63",
   "metadata": {},
   "outputs": [
    {
     "data": {
      "text/plain": [
       "'C2H5F_CH2F2 C2H5F_CH2FCH2F C2H5F_CH2FCHF2 C2H5F_CH3CHF2 C2H5F_CH3F CH3CF3_C2H5F'"
      ]
     },
     "execution_count": 32,
     "metadata": {},
     "output_type": "execute_result"
    }
   ],
   "source": [
    "' '.join(list_)"
   ]
  },
  {
   "cell_type": "code",
   "execution_count": 48,
   "id": "953d5045-8b52-4340-a623-d9d21d47de7e",
   "metadata": {},
   "outputs": [
    {
     "name": "stderr",
     "output_type": "stream",
     "text": [
      "rm: cannot remove ‘/work/westgroup/nora/Code/projects/halogens/refrigerants/blends/blends_of_two_equal_parts_species_in_core/CH3CF3_C2H5F/input.py’: No such file or directory\n"
     ]
    }
   ],
   "source": [
    "for blend in list_: \n",
    "    os.system(f'rm /work/westgroup/nora/Code/projects/halogens/refrigerants/blends/blends_of_two_equal_parts_species_in_core/{blend}/input.py')\n"
   ]
  },
  {
   "cell_type": "code",
   "execution_count": 50,
   "id": "1189b191-6723-4988-bb2c-9e123a8c6c43",
   "metadata": {
    "scrolled": true,
    "tags": []
   },
   "outputs": [
    {
     "name": "stdout",
     "output_type": "stream",
     "text": [
      "Starting C2H5F_CH2F2\n",
      "not adding: N2\n",
      "not adding: Ne\n",
      "Starting C2H5F_CH2FCH2F\n",
      "not adding: N2\n",
      "not adding: Ne\n",
      "Starting C2H5F_CH2FCHF2\n",
      "not adding: N2\n",
      "not adding: Ne\n",
      "Starting C2H5F_CH3CHF2\n",
      "not adding: N2\n",
      "not adding: Ne\n",
      "Starting C2H5F_CH3F\n",
      "not adding: N2\n",
      "not adding: Ne\n",
      "Starting CH3CF3_C2H5F\n",
      "not adding: N2\n",
      "not adding: Ne\n"
     ]
    }
   ],
   "source": [
    "\n",
    "for blend in list_: \n",
    "    \n",
    "    print(f'Starting {blend}')\n",
    "    \n",
    "    #load the chemkin file of concatenated blends\n",
    "    path_ = f'/work/westgroup/nora/Code/projects/halogens/refrigerants/blends/concatenate_equal_parts/{blend}'\n",
    "    species, reactions = load_chemkin_file(path_)\n",
    "    \n",
    "    #will save the species to a dictionary\n",
    "    smiles = dict()\n",
    "    \n",
    "    spcs_we_dont_like = ['N2','Ne']\n",
    "    #take their species\n",
    "    for spc in species: \n",
    "        if spc.label not in spcs_we_dont_like:\n",
    "            smiles[spc.label] = spc.smiles\n",
    "        else:\n",
    "            print(f'not adding: {spc.label}')\n",
    "    \n",
    "    assert('N2' not in smiles.keys())\n",
    "    \n",
    "    #remove duplicate values (smiles) in dictionary\n",
    "    temp = []\n",
    "    no_duplicates = dict()\n",
    "    for key, val in smiles.items():\n",
    "        if val not in temp:\n",
    "            temp.append(val)\n",
    "            no_duplicates[key] = val\n",
    "            \n",
    "    assert('N2' not in no_duplicates.keys())       \n",
    "        \n",
    "    input_file = write_rmg_input_file(no_duplicates)\n",
    "    \n",
    "    with open(f'/work/westgroup/nora/Code/projects/halogens/refrigerants/blends/blends_of_two_equal_parts_species_in_core/{blend}/input.py', 'w') as f: \n",
    "        f.write(input_file)\n",
    "        \n",
    "        \n",
    " "
   ]
  },
  {
   "cell_type": "code",
   "execution_count": null,
   "id": "5338cd82-476b-4844-b42a-3056c6a85cc7",
   "metadata": {},
   "outputs": [],
   "source": []
  },
  {
   "cell_type": "code",
   "execution_count": 45,
   "id": "219fad94-9f52-4217-8c36-f08e72a3b00f",
   "metadata": {},
   "outputs": [
    {
     "data": {
      "text/plain": [
       "{'C2H5F': 'CCF',\n",
       " 'O2': '[O][O]',\n",
       " 'H2O': 'O',\n",
       " 'CH4': 'C',\n",
       " 'OH': '[OH]',\n",
       " 'H': '[H]',\n",
       " 'O': '[O]',\n",
       " 'H2': '[H][H]',\n",
       " 'HO2': '[O]O',\n",
       " 'Ar': '[Ar]',\n",
       " 'H2O2': 'OO',\n",
       " 'He': '[He]',\n",
       " 'CO': '[C-]#[O+]',\n",
       " 'CO2': 'O=C=O',\n",
       " 'HCO': '[CH]=O',\n",
       " 'CH': '[CH]',\n",
       " 'CH2(T)': '[CH2]',\n",
       " 'CH3': '[CH3]',\n",
       " 'CH2O': 'C=O',\n",
       " 'HCCO': 'C#C[O]',\n",
       " 'C2H': '[C]#C',\n",
       " 'C2H2': 'C#C',\n",
       " 'H2CC': '[C]=C',\n",
       " 'CH3O': 'C[O]',\n",
       " 'CH2CO': 'C=C=O',\n",
       " 'C2H3': '[CH]=C',\n",
       " 'C2H4': 'C=C',\n",
       " 'C2H6': 'CC',\n",
       " 'C2H5': 'C[CH2]',\n",
       " 'CH2OH': '[CH2]O',\n",
       " 'CH3CO': 'C[C]=O',\n",
       " 'F': '[F]',\n",
       " 'HF': 'F',\n",
       " 'CH3F': 'CF',\n",
       " 'CHF': '[CH]F',\n",
       " 'CH2F2': 'FCF',\n",
       " 'CH2F': '[CH2]F',\n",
       " 'CHFO': 'O=CF',\n",
       " 'CF': '[C]F',\n",
       " 'CFO': 'O=[C]F',\n",
       " 'CH2CHF': 'C=CF',\n",
       " 'CH2CF2': 'C=C(F)F',\n",
       " 'C2HF': 'C#CF',\n",
       " 'CHFCHF[Z]': 'FC=CF',\n",
       " 'CH2F-CH2': '[CH2]CF',\n",
       " 'CH3-CHF': 'C[CH]F',\n",
       " 'CHF2-CH2': '[CH2]C(F)F',\n",
       " 'CH3-CF2': 'C[C](F)F',\n",
       " 'CH2F-CHF': 'F[CH]CF',\n",
       " 'CH2CF': 'C=[C]F',\n",
       " 'CHFCH[Z]': '[CH]=CF',\n",
       " 'CHFCF[Z]': 'F[C]=CF',\n",
       " 'CF2CH': '[CH]=C(F)F',\n",
       " 'CH2CFO': '[CH2]C(=O)F',\n",
       " 'CHF2': 'F[CH]F',\n",
       " 'C[C]F': 'C[C]F',\n",
       " '[CH]C': '[CH]C',\n",
       " '[O]C=O': '[O]C=O',\n",
       " 'CO[O]': 'CO[O]',\n",
       " 'CC[O]': 'CC[O]',\n",
       " 'O=CO': 'O=CO',\n",
       " 'O=[C]O': 'O=[C]O',\n",
       " 'CC(F)O[O]': 'CC(F)O[O]',\n",
       " '[CH]CF': '[CH]CF',\n",
       " 'CC(=O)F': 'CC(=O)F',\n",
       " 'OC[CH]F': 'OC[CH]F',\n",
       " 'F[C]CF': 'F[C]CF',\n",
       " '[CH2]C([O])F': '[CH2]C([O])F',\n",
       " '[CH2]CC': '[CH2]CC',\n",
       " '[O]C[O]': '[O]C[O]',\n",
       " '[CH]=CC=C': '[CH]=CC=C',\n",
       " 'C#CC[CH2]': 'C#CC[CH2]',\n",
       " '[CH]=C[O]': '[CH]=C[O]',\n",
       " '[CH]=CC#C': '[CH]=CC#C',\n",
       " 'F[C]1CO1': 'F[C]1CO1',\n",
       " '[O]OCC(=O)F': '[O]OCC(=O)F',\n",
       " 'C=[C]O': 'C=[C]O',\n",
       " 'FC1CO1': 'FC1CO1',\n",
       " 'O=C=CF': 'O=C=CF',\n",
       " 'O=C[CH]F': 'O=C[CH]F',\n",
       " '[O]OC(F)C=O': '[O]OC(F)C=O',\n",
       " 'C1=CO1': 'C1=CO1',\n",
       " '[O]C1OOC1F': '[O]C1OOC1F',\n",
       " '[CH]=CCF': '[CH]=CCF',\n",
       " 'O=C(O)F': 'O=C(O)F',\n",
       " 'CC[CH]F': 'CC[CH]F',\n",
       " '[CH]=CC': '[CH]=CC',\n",
       " 'C=[C]C': 'C=[C]C',\n",
       " '[CH2]C=C': '[CH2]C=C',\n",
       " '[CH2]C(=C)F': '[CH2]C(=C)F',\n",
       " 'C=C[CH]F': 'C=C[CH]F',\n",
       " '[O]OC(F)F': '[O]OC(F)F',\n",
       " 'C#C[CH]F': 'C#C[CH]F',\n",
       " '[CH]C(F)F-2': '[CH]C(F)F',\n",
       " 'CC(F)(F)O[O]': 'CC(F)(F)O[O]',\n",
       " 'C#CC': 'C#CC',\n",
       " '[O]C(=O)O': '[O]C(=O)O',\n",
       " '[O]C(=O)F': '[O]C(=O)F',\n",
       " '[O][C]=O': '[O][C]=O',\n",
       " 'O=C(O)O': 'O=C(O)O',\n",
       " '[C]#CF': '[C]#CF',\n",
       " '[C]=CF-2': '[C]=CF',\n",
       " 'C#CCF': 'C#CCF',\n",
       " '[CH]=C=C': '[CH]=C=C',\n",
       " 'C[C]=CF': 'C[C]=CF',\n",
       " 'C#CC=C': 'C#CC=C',\n",
       " 'C=[C]C=C': 'C=[C]C=C',\n",
       " 'C=[C]CF': 'C=[C]CF',\n",
       " 'FC1[CH]C1': 'FC1[CH]C1',\n",
       " 'C=C=CF': 'C=C=CF',\n",
       " 'C=C[C]F-2': 'C=C[C]F',\n",
       " 'FC1C=C1': 'FC1C=C1',\n",
       " 'F[C]1[CH]C1': 'F[C]1[CH]C1',\n",
       " 'FC1[C]C1': 'FC1[C]C1',\n",
       " 'C1OO1': 'C1OO1',\n",
       " 'FC1=CC1': 'FC1=CC1',\n",
       " '[CH2]C#CF': '[CH2]C#CF',\n",
       " '[C]=CC-2': '[C]=CC',\n",
       " '[CH]=CC#CC': '[CH]=CC#CC',\n",
       " 'C#CC=[C]C': 'C#CC=[C]C',\n",
       " 'C=C=C': 'C=C=C',\n",
       " '[C]1=CC1': '[C]1=CC1',\n",
       " 'C#CC([CH2])=C': 'C#CC([CH2])=C',\n",
       " '[CH]=C=C[C]=C': '[CH]=C=C[C]=C',\n",
       " 'C=CC([O])=CF': 'C=CC([O])=CF',\n",
       " 'C#CC=C[CH2]': 'C#CC=C[CH2]',\n",
       " '[CH]=C=CC#C': '[CH]=C=CC#C',\n",
       " 'C#C[CH]C': 'C#C[CH]C',\n",
       " 'F[C]1CC1': 'F[C]1CC1',\n",
       " 'C=[C]C=CC': 'C=[C]C=CC',\n",
       " 'C=CC(F)O[O]': 'C=CC(F)O[O]',\n",
       " '[O]OCC=CF': '[O]OCC=CF',\n",
       " '[C]=CCF-2': '[C]=CCF',\n",
       " 'FC1[CH]COO1': 'FC1[CH]COO1',\n",
       " 'FC=CCCC=CF': 'FC=CCCC=CF',\n",
       " '[CH]=C=C1[CH]C1': '[CH]=C=C1[CH]C1',\n",
       " 'C=CCC(F)C=C': 'C=CCC(F)C=C',\n",
       " 'C=CCCC=CF': 'C=CCCC=CF',\n",
       " 'C#C[CH]CC': 'C#C[CH]CC',\n",
       " 'C#CC=C=C': 'C#CC=C=C',\n",
       " 'C=C[C]=CF': 'C=C[C]=CF',\n",
       " 'C#C[C]=C': 'C#C[C]=C',\n",
       " 'C#C[C]C': 'C#C[C]C',\n",
       " '[C]=CC=C-2': '[C]=CC=C',\n",
       " '[CH2]C#CC=C': '[CH2]C#CC=C',\n",
       " 'C=C1[CH]C1': 'C=C1[CH]C1',\n",
       " '[C]1=CCC1': '[C]1=CCC1',\n",
       " '[CH]=C1CC1': '[CH]=C1CC1',\n",
       " '[C]1=CCC=C1': '[C]1=CCC=C1',\n",
       " '[O]C1(F)OO1': '[O]C1(F)OO1',\n",
       " 'F[CH]C1=CC1': 'F[CH]C1=CC1',\n",
       " 'FC1[C]=CC1': 'FC1[C]=CC1',\n",
       " 'C1=C[CH]C=1': 'C1=C[CH]C=1',\n",
       " 'C#C[C]C=C': 'C#C[C]C=C',\n",
       " 'C=C1[C]=CC1': 'C=C1[C]=CC1',\n",
       " 'C#CC#C': 'C#CC#C',\n",
       " '[C]#CC#C': '[C]#CC#C',\n",
       " '[C]=CC#C': '[C]=CC#C',\n",
       " '[CH]=C=C=CC': '[CH]=C=C=CC',\n",
       " '[CH]=C=C=C[CH2]': '[CH]=C=C=C[CH2]',\n",
       " 'C=[C]C#CC': 'C=[C]C#CC',\n",
       " 'C#CC#CC': 'C#CC#CC',\n",
       " 'C=CC1=[C]C1': 'C=CC1=[C]C1',\n",
       " 'C=C=C1[CH]C1': 'C=C=C1[CH]C1',\n",
       " 'C=C=C=C=C': 'C=C=C=C=C',\n",
       " 'C#C[C]1CC1': 'C#C[C]1CC1',\n",
       " 'C#CC1=CC1': 'C#CC1=CC1',\n",
       " '[O]OC(F)CO': '[O]OC(F)CO',\n",
       " 'C#CC#C[CH2]': 'C#CC#C[CH2]',\n",
       " '[C]=CC#CC-2': '[C]=CC#CC',\n",
       " 'C=C1[C]=C1C': 'C=C1[C]=C1C',\n",
       " 'FC1[CH]CC[CH]C1': 'FC1[CH]CC[CH]C1',\n",
       " '[C]1=CC=C=C1': '[C]1=CC=C=C1',\n",
       " '[CH]=C1[CH]C1=C': '[CH]=C1[CH]C1=C',\n",
       " 'C#CC1[C]C1': 'C#CC1[C]C1',\n",
       " 'C#CC1C=C1': 'C#CC1C=C1',\n",
       " '[C]1=CC2CC12': '[C]1=CC2CC12',\n",
       " '[C]=CC=C=C': '[C]=CC=C=C',\n",
       " 'O=C1OC1=O': 'O=C1OC1=O',\n",
       " 'CH3CHF2': 'CC(F)F',\n",
       " 'C(T)': '[C]',\n",
       " 'CH3OH': 'CO',\n",
       " 'CH2CHO': '[CH2]C=O',\n",
       " 'CH3CHO': 'CC=O',\n",
       " 'CHF3': 'FC(F)F',\n",
       " 'CF2': 'F[C]F',\n",
       " 'CF2O': 'O=C(F)F',\n",
       " 'CHF2-CHF': 'F[CH]C(F)F',\n",
       " 'CH2F-CF2': 'FC[C](F)F',\n",
       " 'OF': 'OF',\n",
       " 'O=O': 'O=O',\n",
       " '[CH2]C(O)F': '[CH2]C(O)F',\n",
       " '[CH2]C(C)F': '[CH2]C(C)F',\n",
       " '[CH2]C=C[CH2]': '[CH2]C=C[CH2]',\n",
       " 'FC1COO1': 'FC1COO1',\n",
       " '[O]OCF': '[O]OCF',\n",
       " 'CC([O])F': 'CC([O])F',\n",
       " 'O[CH]F': 'O[CH]F',\n",
       " '[O]C(F)F': '[O]C(F)F',\n",
       " 'O=[C]C=O': 'O=[C]C=O',\n",
       " 'C=CC(F)F': 'C=CC(F)F',\n",
       " '[CH2]C(O)(F)F': '[CH2]C(O)(F)F',\n",
       " 'CC([O])(F)F': 'CC([O])(F)F',\n",
       " '[CH]1OO1': '[CH]1OO1',\n",
       " 'O=[C]OO': 'O=[C]OO',\n",
       " 'O=[C]O[C]=O': 'O=[C]O[C]=O',\n",
       " '[O]C([O])=C=O': '[O]C([O])=C=O',\n",
       " 'O=CC(F)F': 'O=CC(F)F',\n",
       " '[O]CC(F)F': '[O]CC(F)F',\n",
       " '[CH2]C[C]=C': '[CH2]C[C]=C',\n",
       " 'C1=CCC1': 'C1=CCC1',\n",
       " 'C=CC=C': 'C=CC=C',\n",
       " 'O=[C]C(F)F': 'O=[C]C(F)F',\n",
       " '[CH2]C(F)(F)F': '[CH2]C(F)(F)F',\n",
       " 'F[C](F)CC(F)F': 'F[C](F)CC(F)F',\n",
       " 'FC1(F)CO1': 'FC1(F)CO1',\n",
       " 'O=C[C](F)F': 'O=C[C](F)F',\n",
       " 'OC[C](F)F': 'OC[C](F)F',\n",
       " 'OC(F)(F)F': 'OC(F)(F)F',\n",
       " 'FC1=CO1': 'FC1=CO1',\n",
       " 'FC1(F)[CH]O1': 'FC1(F)[CH]O1',\n",
       " '[O]OC(F)(F)C=O': '[O]OC(F)(F)C=O',\n",
       " '[O]C1OOC1(F)F': '[O]C1OOC1(F)F',\n",
       " 'O[C](F)F': 'O[C](F)F',\n",
       " 'O=COO[C](F)F': 'O=COO[C](F)F',\n",
       " 'OO[C](F)F': 'OO[C](F)F',\n",
       " 'O[CH]C(F)F': 'O[CH]C(F)F',\n",
       " 'C1=CC1': 'C1=CC1',\n",
       " '[C]#CC': '[C]#CC',\n",
       " 'CC1=CC1(F)F': 'CC1=CC1(F)F',\n",
       " 'O=C=C=O': 'O=C=C=O',\n",
       " '[CH]C=C-2': '[CH]C=C',\n",
       " '[CH2]C([CH2])=C': '[CH2]C([CH2])=C',\n",
       " 'C#CC=C(F)F': 'C#CC=C(F)F',\n",
       " 'O[CH]O': 'O[CH]O',\n",
       " 'C=C=CC': 'C=C=CC',\n",
       " 'C#CCC': 'C#CCC',\n",
       " '[C]=CCC': '[C]=CCC',\n",
       " 'C=C[C]C-2': 'C=C[C]C',\n",
       " '[CH]1[CH]C1': '[CH]1[CH]C1',\n",
       " 'FC(F)[CH]OC(F)F': 'FC(F)[CH]OC(F)F',\n",
       " '[C]1CC1-2': '[C]1CC1',\n",
       " 'C=C[CH]C': 'C=C[CH]C',\n",
       " '[C]1CCC1': '[C]1CCC1',\n",
       " 'F[C](F)COC(F)F': 'F[C](F)COC(F)F',\n",
       " 'C#C[C]C(F)F': 'C#C[C]C(F)F',\n",
       " '[C]=CC=C(F)F': '[C]=CC=C(F)F',\n",
       " 'C#CC(F)=CF': 'C#CC(F)=CF',\n",
       " '[C]=CC(F)=CF': '[C]=CC(F)=CF',\n",
       " 'C=C1CC1': 'C=C1CC1',\n",
       " '[CH2][C]1CC1': '[CH2][C]1CC1'}"
      ]
     },
     "execution_count": 45,
     "metadata": {},
     "output_type": "execute_result"
    }
   ],
   "source": [
    "no_duplicates"
   ]
  }
 ],
 "metadata": {
  "kernelspec": {
   "display_name": "rmg_env",
   "language": "python",
   "name": "rmg_env"
  },
  "language_info": {
   "codemirror_mode": {
    "name": "ipython",
    "version": 3
   },
   "file_extension": ".py",
   "mimetype": "text/x-python",
   "name": "python",
   "nbconvert_exporter": "python",
   "pygments_lexer": "ipython3",
   "version": "3.7.11"
  }
 },
 "nbformat": 4,
 "nbformat_minor": 5
}
