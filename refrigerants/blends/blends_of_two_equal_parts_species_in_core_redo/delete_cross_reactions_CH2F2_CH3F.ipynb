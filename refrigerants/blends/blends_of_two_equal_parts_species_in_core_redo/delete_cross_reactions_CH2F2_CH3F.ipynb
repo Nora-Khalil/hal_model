{
 "cells": [
  {
   "cell_type": "code",
   "execution_count": 1,
   "id": "c2157e5c-a100-4ecd-b386-9a1f906afae1",
   "metadata": {},
   "outputs": [],
   "source": [
    "import os \n",
    "import re\n",
    "import matplotlib.pyplot as plt\n",
    "import rmgpy.chemkin\n",
    "import numpy as np\n",
    "import cantera as ct\n",
    "import random\n",
    "import pandas as pd\n",
    "%matplotlib inline"
   ]
  },
  {
   "cell_type": "markdown",
   "id": "b41b3e07-f656-4789-a471-b51b04e474e8",
   "metadata": {},
   "source": [
    "Let's get mapping of between RMG models and NIST"
   ]
  },
  {
   "cell_type": "code",
   "execution_count": 2,
   "id": "7e2614d8-b530-49e8-9243-7dbf013c5a9a",
   "metadata": {
    "scrolled": true,
    "tags": []
   },
   "outputs": [
    {
     "name": "stderr",
     "output_type": "stream",
     "text": [
      "WARNING:root:Assuming it's not meant to be there, although it would be good to fix the chemkin file.\n",
      "WARNING:root:Assuming it's not meant to be there, although it would be good to fix the chemkin file.\n",
      "WARNING:root:Assuming it's not meant to be there, although it would be good to fix the chemkin file.\n",
      "WARNING:root:Assuming it's not meant to be there, although it would be good to fix the chemkin file.\n",
      "WARNING:root:Assuming it's not meant to be there, although it would be good to fix the chemkin file.\n",
      "WARNING:root:Assuming it's not meant to be there, although it would be good to fix the chemkin file.\n",
      "WARNING:root:Assuming it's not meant to be there, although it would be good to fix the chemkin file.\n",
      "WARNING:root:Assuming it's not meant to be there, although it would be good to fix the chemkin file.\n",
      "WARNING:root:Assuming it's not meant to be there, although it would be good to fix the chemkin file.\n",
      "WARNING:root:Assuming it's not meant to be there, although it would be good to fix the chemkin file.\n",
      "WARNING:root:Assuming it's not meant to be there, although it would be good to fix the chemkin file.\n",
      "WARNING:root:Assuming it's not meant to be there, although it would be good to fix the chemkin file.\n",
      "WARNING:root:Assuming it's not meant to be there, although it would be good to fix the chemkin file.\n",
      "WARNING:root:Assuming it's not meant to be there, although it would be good to fix the chemkin file.\n",
      "WARNING:root:Assuming it's not meant to be there, although it would be good to fix the chemkin file.\n",
      "WARNING:root:Assuming it's not meant to be there, although it would be good to fix the chemkin file.\n",
      "WARNING:root:Assuming it's not meant to be there, although it would be good to fix the chemkin file.\n",
      "WARNING:root:Assuming it's not meant to be there, although it would be good to fix the chemkin file.\n",
      "WARNING:root:Assuming it's not meant to be there, although it would be good to fix the chemkin file.\n",
      "WARNING:root:Assuming it's not meant to be there, although it would be good to fix the chemkin file.\n",
      "WARNING:root:Assuming it's not meant to be there, although it would be good to fix the chemkin file.\n",
      "WARNING:root:Assuming it's not meant to be there, although it would be good to fix the chemkin file.\n",
      "WARNING:root:Assuming it's not meant to be there, although it would be good to fix the chemkin file.\n",
      "WARNING:root:Assuming it's not meant to be there, although it would be good to fix the chemkin file.\n",
      "WARNING:root:Assuming it's not meant to be there, although it would be good to fix the chemkin file.\n",
      "WARNING:root:Assuming it's not meant to be there, although it would be good to fix the chemkin file.\n",
      "WARNING:root:Assuming it's not meant to be there, although it would be good to fix the chemkin file.\n",
      "WARNING:root:Assuming it's not meant to be there, although it would be good to fix the chemkin file.\n",
      "WARNING:root:Assuming it's not meant to be there, although it would be good to fix the chemkin file.\n",
      "WARNING:root:Assuming it's not meant to be there, although it would be good to fix the chemkin file.\n",
      "WARNING:root:Assuming it's not meant to be there, although it would be good to fix the chemkin file.\n",
      "WARNING:root:Assuming it's not meant to be there, although it would be good to fix the chemkin file.\n",
      "WARNING:root:Assuming it's not meant to be there, although it would be good to fix the chemkin file.\n",
      "WARNING:root:Assuming it's not meant to be there, although it would be good to fix the chemkin file.\n",
      "WARNING:root:Assuming it's not meant to be there, although it would be good to fix the chemkin file.\n",
      "WARNING:root:Assuming it's not meant to be there, although it would be good to fix the chemkin file.\n",
      "WARNING:root:Assuming it's not meant to be there, although it would be good to fix the chemkin file.\n",
      "WARNING:root:Assuming it's not meant to be there, although it would be good to fix the chemkin file.\n",
      "WARNING:root:Assuming it's not meant to be there, although it would be good to fix the chemkin file.\n",
      "WARNING:root:Assuming it's not meant to be there, although it would be good to fix the chemkin file.\n",
      "WARNING:root:Assuming it's not meant to be there, although it would be good to fix the chemkin file.\n",
      "WARNING:root:Assuming it's not meant to be there, although it would be good to fix the chemkin file.\n",
      "WARNING:root:Assuming it's not meant to be there, although it would be good to fix the chemkin file.\n",
      "WARNING:root:Assuming it's not meant to be there, although it would be good to fix the chemkin file.\n",
      "WARNING:root:Assuming it's not meant to be there, although it would be good to fix the chemkin file.\n",
      "WARNING:root:Assuming it's not meant to be there, although it would be good to fix the chemkin file.\n",
      "WARNING:root:Assuming it's not meant to be there, although it would be good to fix the chemkin file.\n",
      "WARNING:root:Assuming it's not meant to be there, although it would be good to fix the chemkin file.\n",
      "WARNING:root:Assuming it's not meant to be there, although it would be good to fix the chemkin file.\n",
      "WARNING:root:Assuming it's not meant to be there, although it would be good to fix the chemkin file.\n",
      "WARNING:root:Assuming it's not meant to be there, although it would be good to fix the chemkin file.\n",
      "WARNING:root:Assuming it's not meant to be there, although it would be good to fix the chemkin file.\n",
      "WARNING:root:Assuming it's not meant to be there, although it would be good to fix the chemkin file.\n",
      "WARNING:root:Assuming it's not meant to be there, although it would be good to fix the chemkin file.\n",
      "WARNING:root:Assuming it's not meant to be there, although it would be good to fix the chemkin file.\n",
      "WARNING:root:Assuming it's not meant to be there, although it would be good to fix the chemkin file.\n",
      "WARNING:root:Assuming it's not meant to be there, although it would be good to fix the chemkin file.\n",
      "WARNING:root:Assuming it's not meant to be there, although it would be good to fix the chemkin file.\n",
      "WARNING:root:Assuming it's not meant to be there, although it would be good to fix the chemkin file.\n",
      "WARNING:root:Assuming it's not meant to be there, although it would be good to fix the chemkin file.\n",
      "WARNING:root:Assuming it's not meant to be there, although it would be good to fix the chemkin file.\n",
      "WARNING:root:Assuming it's not meant to be there, although it would be good to fix the chemkin file.\n",
      "WARNING:root:Assuming it's not meant to be there, although it would be good to fix the chemkin file.\n",
      "WARNING:root:Assuming it's not meant to be there, although it would be good to fix the chemkin file.\n",
      "WARNING:root:Assuming it's not meant to be there, although it would be good to fix the chemkin file.\n",
      "WARNING:root:Assuming it's not meant to be there, although it would be good to fix the chemkin file.\n",
      "WARNING:root:Assuming it's not meant to be there, although it would be good to fix the chemkin file.\n",
      "WARNING:root:Assuming it's not meant to be there, although it would be good to fix the chemkin file.\n",
      "WARNING:root:Assuming it's not meant to be there, although it would be good to fix the chemkin file.\n",
      "WARNING:root:Assuming it's not meant to be there, although it would be good to fix the chemkin file.\n",
      "WARNING:root:Assuming it's not meant to be there, although it would be good to fix the chemkin file.\n",
      "WARNING:root:Assuming it's not meant to be there, although it would be good to fix the chemkin file.\n",
      "WARNING:root:Assuming it's not meant to be there, although it would be good to fix the chemkin file.\n",
      "WARNING:root:Assuming it's not meant to be there, although it would be good to fix the chemkin file.\n",
      "WARNING:root:Assuming it's not meant to be there, although it would be good to fix the chemkin file.\n",
      "WARNING:root:Assuming it's not meant to be there, although it would be good to fix the chemkin file.\n",
      "WARNING:root:Assuming it's not meant to be there, although it would be good to fix the chemkin file.\n",
      "WARNING:root:Assuming it's not meant to be there, although it would be good to fix the chemkin file.\n",
      "WARNING:root:Assuming it's not meant to be there, although it would be good to fix the chemkin file.\n",
      "WARNING:root:Assuming it's not meant to be there, although it would be good to fix the chemkin file.\n",
      "WARNING:root:Assuming it's not meant to be there, although it would be good to fix the chemkin file.\n",
      "WARNING:root:Assuming it's not meant to be there, although it would be good to fix the chemkin file.\n",
      "WARNING:root:Assuming it's not meant to be there, although it would be good to fix the chemkin file.\n",
      "WARNING:root:Assuming it's not meant to be there, although it would be good to fix the chemkin file.\n",
      "WARNING:root:Assuming it's not meant to be there, although it would be good to fix the chemkin file.\n",
      "WARNING:root:Assuming it's not meant to be there, although it would be good to fix the chemkin file.\n",
      "WARNING:root:Assuming it's not meant to be there, although it would be good to fix the chemkin file.\n",
      "WARNING:root:Assuming it's not meant to be there, although it would be good to fix the chemkin file.\n",
      "WARNING:root:Assuming it's not meant to be there, although it would be good to fix the chemkin file.\n",
      "WARNING:root:Assuming it's not meant to be there, although it would be good to fix the chemkin file.\n",
      "WARNING:root:Assuming it's not meant to be there, although it would be good to fix the chemkin file.\n",
      "WARNING:root:Assuming it's not meant to be there, although it would be good to fix the chemkin file.\n",
      "WARNING:root:Assuming it's not meant to be there, although it would be good to fix the chemkin file.\n",
      "WARNING:root:Assuming it's not meant to be there, although it would be good to fix the chemkin file.\n",
      "WARNING:root:Assuming it's not meant to be there, although it would be good to fix the chemkin file.\n",
      "WARNING:root:Assuming it's not meant to be there, although it would be good to fix the chemkin file.\n",
      "WARNING:root:Assuming it's not meant to be there, although it would be good to fix the chemkin file.\n",
      "WARNING:root:Assuming it's not meant to be there, although it would be good to fix the chemkin file.\n",
      "WARNING:root:Assuming it's not meant to be there, although it would be good to fix the chemkin file.\n",
      "WARNING:root:Assuming it's not meant to be there, although it would be good to fix the chemkin file.\n",
      "WARNING:root:Assuming it's not meant to be there, although it would be good to fix the chemkin file.\n",
      "WARNING:root:Assuming it's not meant to be there, although it would be good to fix the chemkin file.\n",
      "WARNING:root:Assuming it's not meant to be there, although it would be good to fix the chemkin file.\n",
      "WARNING:root:Assuming it's not meant to be there, although it would be good to fix the chemkin file.\n",
      "WARNING:root:Assuming it's not meant to be there, although it would be good to fix the chemkin file.\n",
      "WARNING:root:Assuming it's not meant to be there, although it would be good to fix the chemkin file.\n",
      "WARNING:root:Assuming it's not meant to be there, although it would be good to fix the chemkin file.\n",
      "WARNING:root:Assuming it's not meant to be there, although it would be good to fix the chemkin file.\n",
      "WARNING:root:Assuming it's not meant to be there, although it would be good to fix the chemkin file.\n",
      "WARNING:root:Assuming it's not meant to be there, although it would be good to fix the chemkin file.\n",
      "WARNING:root:Assuming it's not meant to be there, although it would be good to fix the chemkin file.\n",
      "WARNING:root:Assuming it's not meant to be there, although it would be good to fix the chemkin file.\n",
      "WARNING:root:Assuming it's not meant to be there, although it would be good to fix the chemkin file.\n",
      "WARNING:root:Assuming it's not meant to be there, although it would be good to fix the chemkin file.\n",
      "WARNING:root:Assuming it's not meant to be there, although it would be good to fix the chemkin file.\n",
      "WARNING:root:Assuming it's not meant to be there, although it would be good to fix the chemkin file.\n",
      "WARNING:root:Assuming it's not meant to be there, although it would be good to fix the chemkin file.\n",
      "WARNING:root:Assuming it's not meant to be there, although it would be good to fix the chemkin file.\n",
      "WARNING:root:Assuming it's not meant to be there, although it would be good to fix the chemkin file.\n",
      "WARNING:root:Assuming it's not meant to be there, although it would be good to fix the chemkin file.\n",
      "WARNING:root:Assuming it's not meant to be there, although it would be good to fix the chemkin file.\n",
      "WARNING:root:Assuming it's not meant to be there, although it would be good to fix the chemkin file.\n",
      "WARNING:root:Assuming it's not meant to be there, although it would be good to fix the chemkin file.\n",
      "WARNING:root:Assuming it's not meant to be there, although it would be good to fix the chemkin file.\n",
      "WARNING:root:Assuming it's not meant to be there, although it would be good to fix the chemkin file.\n",
      "WARNING:root:Assuming it's not meant to be there, although it would be good to fix the chemkin file.\n",
      "WARNING:root:Assuming it's not meant to be there, although it would be good to fix the chemkin file.\n",
      "WARNING:root:Assuming it's not meant to be there, although it would be good to fix the chemkin file.\n",
      "WARNING:root:Assuming it's not meant to be there, although it would be good to fix the chemkin file.\n",
      "WARNING:root:Assuming it's not meant to be there, although it would be good to fix the chemkin file.\n",
      "WARNING:root:Assuming it's not meant to be there, although it would be good to fix the chemkin file.\n",
      "WARNING:root:Assuming it's not meant to be there, although it would be good to fix the chemkin file.\n",
      "WARNING:root:Assuming it's not meant to be there, although it would be good to fix the chemkin file.\n",
      "WARNING:root:Assuming it's not meant to be there, although it would be good to fix the chemkin file.\n",
      "WARNING:root:Assuming it's not meant to be there, although it would be good to fix the chemkin file.\n",
      "WARNING:root:Assuming it's not meant to be there, although it would be good to fix the chemkin file.\n",
      "WARNING:root:Assuming it's not meant to be there, although it would be good to fix the chemkin file.\n",
      "WARNING:root:Assuming it's not meant to be there, although it would be good to fix the chemkin file.\n",
      "WARNING:root:Assuming it's not meant to be there, although it would be good to fix the chemkin file.\n",
      "WARNING:root:Assuming it's not meant to be there, although it would be good to fix the chemkin file.\n",
      "WARNING:root:Assuming it's not meant to be there, although it would be good to fix the chemkin file.\n",
      "WARNING:root:Assuming it's not meant to be there, although it would be good to fix the chemkin file.\n",
      "WARNING:root:Assuming it's not meant to be there, although it would be good to fix the chemkin file.\n",
      "WARNING:root:Assuming it's not meant to be there, although it would be good to fix the chemkin file.\n",
      "WARNING:root:Assuming it's not meant to be there, although it would be good to fix the chemkin file.\n",
      "WARNING:root:Assuming it's not meant to be there, although it would be good to fix the chemkin file.\n",
      "WARNING:root:Assuming it's not meant to be there, although it would be good to fix the chemkin file.\n",
      "WARNING:root:Assuming it's not meant to be there, although it would be good to fix the chemkin file.\n",
      "WARNING:root:Assuming it's not meant to be there, although it would be good to fix the chemkin file.\n",
      "WARNING:root:Assuming it's not meant to be there, although it would be good to fix the chemkin file.\n",
      "WARNING:root:Assuming it's not meant to be there, although it would be good to fix the chemkin file.\n",
      "WARNING:root:Assuming it's not meant to be there, although it would be good to fix the chemkin file.\n",
      "WARNING:root:Assuming it's not meant to be there, although it would be good to fix the chemkin file.\n",
      "WARNING:root:Assuming it's not meant to be there, although it would be good to fix the chemkin file.\n",
      "WARNING:root:Assuming it's not meant to be there, although it would be good to fix the chemkin file.\n",
      "WARNING:root:Assuming it's not meant to be there, although it would be good to fix the chemkin file.\n",
      "WARNING:root:Assuming it's not meant to be there, although it would be good to fix the chemkin file.\n",
      "WARNING:root:Assuming it's not meant to be there, although it would be good to fix the chemkin file.\n",
      "WARNING:root:Assuming it's not meant to be there, although it would be good to fix the chemkin file.\n",
      "WARNING:root:Assuming it's not meant to be there, although it would be good to fix the chemkin file.\n",
      "WARNING:root:Assuming it's not meant to be there, although it would be good to fix the chemkin file.\n",
      "WARNING:root:Assuming it's not meant to be there, although it would be good to fix the chemkin file.\n",
      "WARNING:root:Assuming it's not meant to be there, although it would be good to fix the chemkin file.\n",
      "WARNING:root:Assuming it's not meant to be there, although it would be good to fix the chemkin file.\n",
      "WARNING:root:Assuming it's not meant to be there, although it would be good to fix the chemkin file.\n",
      "WARNING:root:Assuming it's not meant to be there, although it would be good to fix the chemkin file.\n",
      "WARNING:root:Assuming it's not meant to be there, although it would be good to fix the chemkin file.\n",
      "WARNING:root:Assuming it's not meant to be there, although it would be good to fix the chemkin file.\n",
      "WARNING:root:Assuming it's not meant to be there, although it would be good to fix the chemkin file.\n",
      "WARNING:root:Assuming it's not meant to be there, although it would be good to fix the chemkin file.\n",
      "WARNING:root:Assuming it's not meant to be there, although it would be good to fix the chemkin file.\n",
      "WARNING:root:Assuming it's not meant to be there, although it would be good to fix the chemkin file.\n",
      "WARNING:root:Assuming it's not meant to be there, although it would be good to fix the chemkin file.\n",
      "WARNING:root:Assuming it's not meant to be there, although it would be good to fix the chemkin file.\n",
      "WARNING:root:Assuming it's not meant to be there, although it would be good to fix the chemkin file.\n",
      "WARNING:root:Assuming it's not meant to be there, although it would be good to fix the chemkin file.\n",
      "WARNING:root:Assuming it's not meant to be there, although it would be good to fix the chemkin file.\n",
      "WARNING:root:Assuming it's not meant to be there, although it would be good to fix the chemkin file.\n",
      "WARNING:root:Assuming it's not meant to be there, although it would be good to fix the chemkin file.\n",
      "WARNING:root:Assuming it's not meant to be there, although it would be good to fix the chemkin file.\n",
      "WARNING:root:Assuming it's not meant to be there, although it would be good to fix the chemkin file.\n",
      "WARNING:root:Assuming it's not meant to be there, although it would be good to fix the chemkin file.\n",
      "WARNING:root:Assuming it's not meant to be there, although it would be good to fix the chemkin file.\n",
      "WARNING:root:Assuming it's not meant to be there, although it would be good to fix the chemkin file.\n",
      "WARNING:root:Assuming it's not meant to be there, although it would be good to fix the chemkin file.\n",
      "WARNING:root:Assuming it's not meant to be there, although it would be good to fix the chemkin file.\n",
      "WARNING:root:Assuming it's not meant to be there, although it would be good to fix the chemkin file.\n",
      "WARNING:root:Assuming it's not meant to be there, although it would be good to fix the chemkin file.\n",
      "WARNING:root:Assuming it's not meant to be there, although it would be good to fix the chemkin file.\n",
      "WARNING:root:Assuming it's not meant to be there, although it would be good to fix the chemkin file.\n"
     ]
    }
   ],
   "source": [
    "full_path_RMG = '/work/westgroup/nora/Code/projects/Burgess_Comments/2_BTP_optimization/models/RMG_with_BROH'\n",
    "chemkin_path_RMG = os.path.join(full_path_RMG,'chemkin/copies/copy_chem_annotated_204species.inp')\n",
    "transport_path_RMG = os.path.join(full_path_RMG, 'chemkin/copies/tran.dat')\n",
    "dictionary_path_RMG = os.path.join(full_path_RMG,'chemkin/species_dictionary.txt')\n",
    "\n",
    "RMG_species, RMG_reactions = rmgpy.chemkin.load_chemkin_file(chemkin_path_RMG, dictionary_path=dictionary_path_RMG, transport_path=transport_path_RMG)\n",
    "\n",
    "#NIST model \n",
    "full_path_NIST = '/work/westgroup/nora/Code/projects/Burgess_Comments/2_BTP_optimization/models/NIST'\n",
    "chemkin_path_NIST = os.path.join(full_path_NIST,'2-BTP_kinetics_with_M.inp')\n",
    "dictionary_path_NIST = os.path.join(full_path_NIST,'species_dictionary-2_BTP.txt')\n",
    "\n",
    "NIST_species, NIST_reactions = rmgpy.chemkin.load_chemkin_file(chemkin_path_NIST, dictionary_path=dictionary_path_NIST)\n"
   ]
  },
  {
   "cell_type": "code",
   "execution_count": 3,
   "id": "a8fe89e9-0be3-4732-acc1-5673fad7b784",
   "metadata": {},
   "outputs": [],
   "source": [
    "#model 1 = RMG, model 2 = NIST\n"
   ]
  },
  {
   "cell_type": "code",
   "execution_count": 11,
   "id": "4665f1a8-78dd-46af-8da9-72f32c628e4b",
   "metadata": {
    "scrolled": true,
    "tags": []
   },
   "outputs": [
    {
     "data": {
      "text/plain": [
       "1784"
      ]
     },
     "execution_count": 11,
     "metadata": {},
     "output_type": "execute_result"
    }
   ],
   "source": [
    "#RMG has 1784 reactions (this is chemkin indexing, where each duplicate is counted)\n",
    "chemkin_indices= list(range(1,1785))"
   ]
  },
  {
   "cell_type": "code",
   "execution_count": 14,
   "id": "2820c485-8656-4196-8fa5-cef979440f52",
   "metadata": {
    "tags": []
   },
   "outputs": [],
   "source": [
    "#let's flip each reaction one at a time"
   ]
  },
  {
   "cell_type": "markdown",
   "id": "dd570a24-85b3-4bef-83c9-78b5d47d49bc",
   "metadata": {},
   "source": [
    "## Flipping "
   ]
  },
  {
   "cell_type": "code",
   "execution_count": 3,
   "id": "849fb566-8051-4289-a7c7-b3569a0dc5a6",
   "metadata": {},
   "outputs": [],
   "source": [
    "import cantera as ct\n",
    "import cantera.ck2cti\n",
    "import rmgpy.chemkin\n",
    "#import numpy as np\n",
    "import subprocess\n",
    "import csv\n",
    "#import scipy\n",
    "import copy\n",
    "import os"
   ]
  },
  {
   "cell_type": "code",
   "execution_count": null,
   "id": "d2eac081-bc69-4eb6-b813-db0fb4b3eea4",
   "metadata": {},
   "outputs": [],
   "source": [
    "#functions "
   ]
  },
  {
   "cell_type": "code",
   "execution_count": 4,
   "id": "f9af3914-9376-44f6-a359-8a83e19eb089",
   "metadata": {
    "tags": []
   },
   "outputs": [],
   "source": [
    "def _2_to_1(_2_reaction):\n",
    "    '''\n",
    "    Convert the 2nd model species in the reactions to 1st model species, but keep the 2nd model kinetics\n",
    "    '''\n",
    "    \n",
    "    _1_reaction = copy.deepcopy(_2_reaction)\n",
    "    reactants = []\n",
    "    for reactant in _2_reaction.reactants:\n",
    "        try:\n",
    "            _2_species_index = _2_species_list.index(reactant)\n",
    "            reactants.append(_1_species_list[_2_to_1_mapping[_2_species_index]])\n",
    "        except ValueError:\n",
    "            if reactant in _1_species_list:\n",
    "                reactants.append(reactant)\n",
    "        \n",
    "    _1_reaction.reactants = reactants\n",
    "    \n",
    "    products = []\n",
    "    for product in _2_reaction.products:\n",
    "        try:\n",
    "            _2_species_index = _2_species_list.index(product)\n",
    "            products.append(_1_species_list[_2_to_1_mapping[_2_species_index]])\n",
    "        except ValueError:\n",
    "            if product in _1_species_list:\n",
    "                products.append(product)\n",
    "    _1_reaction.products = products\n",
    "    \n",
    "    return _1_reaction"
   ]
  },
  {
   "cell_type": "code",
   "execution_count": 5,
   "id": "dfc845c1-472f-4bb6-b226-722f08277188",
   "metadata": {
    "tags": []
   },
   "outputs": [],
   "source": [
    "def _1_to_2(_1_reaction):\n",
    "    # takes in the _1_reaction object to convert\n",
    "    _1_index = _1_reaction_list.index(_1_reaction)\n",
    "    if _1_index not in _1_to_2_rxn_mapping.keys():\n",
    "        # this reaction does not exist in 2nd model, so it will be deleted. return None\n",
    "        print(f'Reaction does not match to NIST reaction: {_1_reaction.index}')\n",
    "        return\n",
    "    _2_index = _1_to_2_rxn_mapping[_1_index]\n",
    "    _2_reaction = _2_reaction_list[_2_index]\n",
    "    \n",
    "    # convert the 2nd model species in the 2nd model reaction to 1st model species\n",
    "    return _2_to_1(_2_reaction)"
   ]
  },
  {
   "cell_type": "code",
   "execution_count": 6,
   "id": "4eddb18b-e255-4a1b-814d-01145e5a66bc",
   "metadata": {
    "tags": []
   },
   "outputs": [
    {
     "name": "stdout",
     "output_type": "stream",
     "text": [
      "57 common species\n",
      "324 common reactions\n"
     ]
    }
   ],
   "source": [
    "#get mapping between 1st model and 2nd model \n",
    "\n",
    "#1st model is RMG, 2nd is NIST\n",
    "\n",
    "#define the species \n",
    "_1_reaction_list = RMG_reactions\n",
    "_1_species_list = RMG_species\n",
    "_2_reaction_list = NIST_reactions\n",
    "_2_species_list = NIST_species\n",
    "\n",
    "# get the mapping between RMG and NIST models\n",
    "# Species Diff\n",
    "\n",
    "common_species = []\n",
    "_1_to_2_mapping = {}\n",
    "_2_to_1_mapping = {}\n",
    "for i, _1_sp in enumerate(_1_species_list):\n",
    "    for j, _2_sp in enumerate(_2_species_list):\n",
    "        if _1_sp.is_isomorphic(_2_sp):\n",
    "            _1_to_2_mapping[i] = j\n",
    "            _2_to_1_mapping[j] = i\n",
    "            common_species.append([_1_sp, _2_sp])\n",
    "            break\n",
    "\n",
    "# Reaction Diff\n",
    "common_reactions = []\n",
    "_1_to_2_rxn_mapping = {}\n",
    "_2_to_1_rxn_mapping = {}\n",
    "for i, _1_rxn in enumerate(_1_reaction_list):\n",
    "    for j, _2_rxn in enumerate(_2_reaction_list):\n",
    "        if _1_rxn.is_isomorphic(_2_rxn):\n",
    "            _1_to_2_rxn_mapping[i] = j\n",
    "            _2_to_1_rxn_mapping[j] = i\n",
    "            common_reactions.append([_1_rxn, _2_rxn])\n",
    "            break\n",
    "print(f'{len(common_species)} common species')\n",
    "print(f'{len(common_reactions)} common reactions')"
   ]
  },
  {
   "cell_type": "code",
   "execution_count": 9,
   "id": "0b89fdab-14c8-4593-acc3-20b62872f8d4",
   "metadata": {},
   "outputs": [],
   "source": [
    "#flipping (aka removing since there is no NIST equivalent) reactions CH02(230)\n",
    "\n",
    "s = [1233, 561]\n",
    "y = [1233, 561,624]\n",
    "x = [561, 624]\n",
    "\n",
    "chemkin_indices = [x]"
   ]
  },
  {
   "cell_type": "code",
   "execution_count": 10,
   "id": "de895e42-d9d8-40a6-a80e-4a57260fb43b",
   "metadata": {},
   "outputs": [
    {
     "name": "stdout",
     "output_type": "stream",
     "text": [
      "[561, 624]\n",
      "561\n",
      "624\n"
     ]
    }
   ],
   "source": [
    "############################### convert the indicated reactions to use NIST kinetics ##########################################\n",
    "for rxns_with_CHO2 in chemkin_indices: \n",
    "    \n",
    "    rxns_to_change = rxns_with_CHO2\n",
    "    print(rxns_to_change)\n",
    "    # convert the indicated reactions to use the NIST kinetics\n",
    "\n",
    "    str_rxns_to_change = []\n",
    "    for index in rxns_to_change: \n",
    "        str_rxns_to_change.append(str(index))\n",
    "\n",
    "    file_name = '_'.join(str_rxns_to_change) \n",
    "\n",
    "\n",
    "    new_reaction_list = []\n",
    "    deleted_duplicates = []\n",
    "\n",
    "\n",
    "\n",
    "    for i in _1_reaction_list:\n",
    "        if i.index in rxns_to_change:\n",
    "            print(i.index)\n",
    "            new_reaction = _1_to_2(i)\n",
    "            if new_reaction:\n",
    "                new_reaction_list.append(new_reaction)\n",
    "            elif i.duplicate:\n",
    "                deleted_duplicates.append(i)\n",
    "        else:\n",
    "            new_reaction_list.append(i)\n",
    "\n",
    "\n",
    "    # get rid of duplicates\n",
    "    for i, rxn in enumerate(new_reaction_list):\n",
    "        if rxn.duplicate:\n",
    "            duplicate_still_exists = False\n",
    "            for j, rxn2 in enumerate(new_reaction_list):\n",
    "                if rxn.is_isomorphic(rxn2) and rxn != rxn2:\n",
    "                    duplicate_still_exists = True\n",
    "                    break\n",
    "            if not duplicate_still_exists:\n",
    "                rxn.duplicate = False\n",
    "\n",
    "    # mark reactions that are duplicates\n",
    "    for i, rxn in enumerate(new_reaction_list):\n",
    "        if not rxn.duplicate:\n",
    "            duplicate = False\n",
    "            for j, rxn2 in enumerate(new_reaction_list):\n",
    "                if rxn.is_isomorphic(rxn2) and rxn != rxn2:\n",
    "                    duplicate = True\n",
    "                    break\n",
    "            if duplicate:\n",
    "                rxn.duplicate = True\n",
    "\n",
    "    #save the chemkin file \n",
    "\n",
    "    handpicked_dir = '/work/westgroup/nora/Code/projects/Burgess_Comments/2_BTP_optimization/models/RMG_with_BROH_specific_species_removed'\n",
    "\n",
    "\n",
    "    chemkin_file = os.path.join(handpicked_dir, f'{file_name}.inp')\n",
    "    rmgpy.chemkin.save_chemkin_file(chemkin_file, _1_species_list, new_reaction_list, verbose=True, check_for_duplicates=True)\n"
   ]
  },
  {
   "cell_type": "code",
   "execution_count": null,
   "id": "61d085a2-9e65-4600-801d-0d0110f80c52",
   "metadata": {},
   "outputs": [],
   "source": []
  },
  {
   "cell_type": "code",
   "execution_count": 62,
   "id": "02e5c694-2fbb-46d2-a494-c8764e590496",
   "metadata": {},
   "outputs": [
    {
     "data": {
      "text/plain": [
       "['edited_RMG_with_BROH_diff_tol_0.015-0.0_1161.inp',\n",
       " 'edited_RMG_with_BROH_diff_tol_0.015-0.0_1161_117.inp',\n",
       " 'edited_RMG_with_BROH_diff_tol_0.015-0.0_1161_37.inp',\n",
       " 'edited_RMG_with_BROH_diff_tol_0.015-0.0_1161_37_117.inp',\n",
       " 'edited_RMG_with_BROH_diff_tol_0.015-0.0_1161_37_777.inp',\n",
       " 'edited_RMG_with_BROH_diff_tol_0.015-0.0_1161_37_777_117.inp',\n",
       " 'edited_RMG_with_BROH_diff_tol_0.015-0.0_1161_777.inp',\n",
       " 'edited_RMG_with_BROH_diff_tol_0.015-0.0_1161_777_117.inp',\n",
       " 'edited_RMG_with_BROH_diff_tol_0.015-0.0_117.inp',\n",
       " 'edited_RMG_with_BROH_diff_tol_0.015-0.0_37.inp',\n",
       " 'edited_RMG_with_BROH_diff_tol_0.015-0.0_37_117.inp',\n",
       " 'edited_RMG_with_BROH_diff_tol_0.015-0.0_37_777.inp',\n",
       " 'edited_RMG_with_BROH_diff_tol_0.015-0.0_37_777_117.inp',\n",
       " 'edited_RMG_with_BROH_diff_tol_0.015-0.0_777.inp',\n",
       " 'edited_RMG_with_BROH_diff_tol_0.015-0.0_777_117.inp',\n",
       " 'edited_RMG_with_BROH_diff_tol_0.015-0.0_997.inp',\n",
       " 'edited_RMG_with_BROH_diff_tol_0.015-0.0_997_1161.inp',\n",
       " 'edited_RMG_with_BROH_diff_tol_0.015-0.0_997_1161_117.inp',\n",
       " 'edited_RMG_with_BROH_diff_tol_0.015-0.0_997_1161_37.inp',\n",
       " 'edited_RMG_with_BROH_diff_tol_0.015-0.0_997_1161_37_117.inp',\n",
       " 'edited_RMG_with_BROH_diff_tol_0.015-0.0_997_1161_37_777.inp',\n",
       " 'edited_RMG_with_BROH_diff_tol_0.015-0.0_997_1161_37_777_117.inp',\n",
       " 'edited_RMG_with_BROH_diff_tol_0.015-0.0_997_1161_777.inp',\n",
       " 'edited_RMG_with_BROH_diff_tol_0.015-0.0_997_1161_777_117.inp',\n",
       " 'edited_RMG_with_BROH_diff_tol_0.015-0.0_997_117.inp',\n",
       " 'edited_RMG_with_BROH_diff_tol_0.015-0.0_997_37.inp',\n",
       " 'edited_RMG_with_BROH_diff_tol_0.015-0.0_997_37_117.inp',\n",
       " 'edited_RMG_with_BROH_diff_tol_0.015-0.0_997_37_777.inp',\n",
       " 'edited_RMG_with_BROH_diff_tol_0.015-0.0_997_37_777_117.inp',\n",
       " 'edited_RMG_with_BROH_diff_tol_0.015-0.0_997_777.inp',\n",
       " 'edited_RMG_with_BROH_diff_tol_0.015-0.0_997_777_117.inp']"
      ]
     },
     "execution_count": 62,
     "metadata": {},
     "output_type": "execute_result"
    }
   ],
   "source": [
    "path_ = '/work/westgroup/nora/Code/projects/Burgess_Comments/2_BTP_optimization/models/edited_RMG_with_BROH/'\n",
    "files = [file for file in os.listdir(path_) if re.search('edited_RMG_with_BROH_diff_tol[\\S]+\\.inp', file)]\n",
    "files\n",
    "\n"
   ]
  },
  {
   "cell_type": "code",
   "execution_count": 51,
   "id": "95f79092-495e-4f70-aa91-bf92eacf913d",
   "metadata": {},
   "outputs": [],
   "source": [
    " list_ = ['copy_edited_RMG_with_BROH_difference_of_sensitivity_tolerances_0.015-0.0.cti',\n",
    " 'copy_edited_RMG_with_BROH_difference_of_sensitivity_tolerances_0.015-0.01.cti']"
   ]
  },
  {
   "cell_type": "code",
   "execution_count": 52,
   "id": "1e879f43-8776-4ba8-aba2-abcd83472d2d",
   "metadata": {},
   "outputs": [
    {
     "data": {
      "text/plain": [
       "2"
      ]
     },
     "execution_count": 52,
     "metadata": {},
     "output_type": "execute_result"
    }
   ],
   "source": [
    "len(list_)"
   ]
  },
  {
   "cell_type": "code",
   "execution_count": 53,
   "id": "e2cd7e26-8972-4d85-94cf-2dc3ea0a1c85",
   "metadata": {},
   "outputs": [
    {
     "data": {
      "text/plain": [
       "'copy_edited_RMG_with_BROH_difference_of_sensitivity_tolerances_0.015-0.0.cti copy_edited_RMG_with_BROH_difference_of_sensitivity_tolerances_0.015-0.01.cti'"
      ]
     },
     "execution_count": 53,
     "metadata": {},
     "output_type": "execute_result"
    }
   ],
   "source": [
    "' '.join(list_)"
   ]
  }
 ],
 "metadata": {
  "kernelspec": {
   "display_name": "rmg_env",
   "language": "python",
   "name": "rmg_env"
  },
  "language_info": {
   "codemirror_mode": {
    "name": "ipython",
    "version": 3
   },
   "file_extension": ".py",
   "mimetype": "text/x-python",
   "name": "python",
   "nbconvert_exporter": "python",
   "pygments_lexer": "ipython3",
   "version": "3.7.11"
  }
 },
 "nbformat": 4,
 "nbformat_minor": 5
}
