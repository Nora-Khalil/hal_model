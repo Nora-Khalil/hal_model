{
 "cells": [
  {
   "cell_type": "code",
   "execution_count": null,
   "id": "5cf76804",
   "metadata": {},
   "outputs": [],
   "source": [
    "!/bin/bash\n",
    "#SBATCH --job-name=fc_1_21\n",
    "#SBATCH --output=./fc/output/fc_all.slurm.%x.log\n",
    "#SBATCH --error=./fc/error/error_rmg_all.slurm.%x.log\n",
    "#SBATCH --nodes=1\n",
    "#SBATCH --partition=west\n",
    "#SBATCH --mem=20Gb\n",
    "#SBATCH --time=2-00:00:00\n",
    "#SBATCH --cpus-per-task=8\n",
    "#SBATCH --array=1-4\n",
    "\n",
    "##list_of_species = (CH2FCHF2_CH3F C2H5F_CH2F2 C2H5F_CH3F CH2FCH2F_CH3F CH3CF3_CH2FCH2F CH2F2_CH3F CH3CF3_CH2FCHF2 CH2F2_CH3CF3 CH3CHF2_CH2FCHF2 CH2FCH2F_CH2FCHF2 CH3CHF2_CH2F2 CH3CF3_CH3CHF2 CH3F_CH3CHF2 CH3F_CH3CF3 CH2FCH2F_CH2F2 C2H5F_CH3CHF2 CH2FCH2F_CH3CHF2 C2H5F_CH2FCHF2 C2H5F_CH2FCH2F CH2FCHF2_CH2F2 CH3CF3_C2H5F)\n",
    "\n",
    "list_of_species_folders=(CH2FCHF2_CH3F C2H5F_CH2F2)\n",
    "\n",
    "index=$SLURM_ARRAY_TASK_ID-1\n",
    "\n",
    "folder_name=\"${list_of_species_folders[$index]}\"  \n",
    "\n",
    "\n",
    "cd \"${folder_name}\"\n",
    "source activate cantera_env\n",
    "python flame_speed_calc_all_ratios.py\n",
    "\n",
    "\n",
    "\n"
   ]
  }
 ],
 "metadata": {
  "kernelspec": {
   "display_name": "Python 3",
   "language": "python",
   "name": "python3"
  },
  "language_info": {
   "codemirror_mode": {
    "name": "ipython",
    "version": 3
   },
   "file_extension": ".py",
   "mimetype": "text/x-python",
   "name": "python",
   "nbconvert_exporter": "python",
   "pygments_lexer": "ipython3",
   "version": "3.8.8"
  }
 },
 "nbformat": 4,
 "nbformat_minor": 5
}
