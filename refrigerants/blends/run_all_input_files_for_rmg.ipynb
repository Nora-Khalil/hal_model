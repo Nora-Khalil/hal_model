{
 "cells": [
  {
   "cell_type": "code",
   "execution_count": null,
   "id": "8ff0f0dd",
   "metadata": {},
   "outputs": [],
   "source": [
    "##!/bin/sh\n",
    "\n",
    "#SBATCH --nodes=1\n",
    "#SBATCH --time=12-00:00:00\n",
    "#SBATCH --job-name=C2H5F/CH2F2\n",
    "#SBATCH --error=rmg.slurm.log\n",
    "#SBATCH --cpus-per-task=5\n",
    "#SBATCH --mem-per-cpu=8Gb\n",
    "#SBATCH --ntasks=1 \n",
    "#SBATCH --array=1\n",
    "#SBATCH --partition=west\n",
    "\n",
    "\n",
    "source activate rmg_env\n",
    "\n",
    "\n",
    "python-jl /home/khalil.nor/Code/RMG-Py/rmg.py ./CH2FCHF2_CH3F/input.py\n",
    "python-jl /home/khalil.nor/Code/RMG-Py/rmg.py ./C2H5F_CH2F2/input.py\n",
    "python-jl /home/khalil.nor/Code/RMG-Py/rmg.py ./C2H5F_CH3F/input.py\n",
    "python-jl /home/khalil.nor/Code/RMG-Py/rmg.py ./CH2FCH2F_CH3F/input.py\n",
    "python-jl /home/khalil.nor/Code/RMG-Py/rmg.py ./CH3CF3_CH2FCH2F/input.py\n",
    "python-jl /home/khalil.nor/Code/RMG-Py/rmg.py ./CH3F_CH2FCHF2/input.py\n",
    "python-jl /home/khalil.nor/Code/RMG-Py/rmg.py ./CH2F2_CH3F/input.py\n",
    "python-jl /home/khalil.nor/Code/RMG-Py/rmg.py ./CH3F_CH2FCH2F/input.py\n",
    "python-jl /home/khalil.nor/Code/RMG-Py/rmg.py ./CH3CF3_CH2FCHF2/input.py\n",
    "python-jl /home/khalil.nor/Code/RMG-Py/rmg.py ./CH2F2_CH3CF3/input.py\n",
    "python-jl /home/khalil.nor/Code/RMG-Py/rmg.py ./CH3CHF2_CH2FCHF2/input.py\n",
    "python-jl /home/khalil.nor/Code/RMG-Py/rmg.py ./CH2FCH2F_CH2FCHF2/input.py\n",
    "python-jl /home/khalil.nor/Code/RMG-Py/rmg.py ./CH2FCHF2_CH3CF3/input.py\n",
    "python-jl /home/khalil.nor/Code/RMG-Py/rmg.py ./CH3CHF2_CH2F2/input.py\n",
    "python-jl /home/khalil.nor/Code/RMG-Py/rmg.py ./CH3CF3_CH3CHF2/input.py\n",
    "python-jl /home/khalil.nor/Code/RMG-Py/rmg.py ./CH3F_CH3CHF2/input.py\n",
    "python-jl /home/khalil.nor/Code/RMG-Py/rmg.py ./CH3F_CH3CF3/input.py\n",
    "python-jl /home/khalil.nor/Code/RMG-Py/rmg.py ./CH3F_CH2F2/input.py\n",
    "python-jl /home/khalil.nor/Code/RMG-Py/rmg.py ./CH3CHF2_CH3F/input.py\n",
    "python-jl /home/khalil.nor/Code/RMG-Py/rmg.py ./CH3CF3_CH3F/input.py\n",
    "python-jl /home/khalil.nor/Code/RMG-Py/rmg.py ./CH2FCH2F_CH3CF3/input.py\n",
    "python-jl /home/khalil.nor/Code/RMG-Py/rmg.py ./CH2FCH2F_CH2F2/input.py\n",
    "python-jl /home/khalil.nor/Code/RMG-Py/rmg.py ./C2H5F_CH3CHF2/input.py\n",
    "python-jl /home/khalil.nor/Code/RMG-Py/rmg.py ./CH2FCH2F_CH3CHF2/input.py\n",
    "python-jl /home/khalil.nor/Code/RMG-Py/rmg.py ./C2H5F_CH2FCHF2/input.py\n",
    "python-jl /home/khalil.nor/Code/RMG-Py/rmg.py ./CH3CF3_CH2F2/input.py\n",
    "python-jl /home/khalil.nor/Code/RMG-Py/rmg.py ./CH3CHF2_CH3CF3/input.py\n",
    "python-jl /home/khalil.nor/Code/RMG-Py/rmg.py ./CH3CHF2_C2H5F/input.py\n",
    "python-jl /home/khalil.nor/Code/RMG-Py/rmg.py ./CH2F2_CH2FCH2F/input.py\n",
    "python-jl /home/khalil.nor/Code/RMG-Py/rmg.py ./CH3CHF2_CH2FCH2F/input.py\n",
    "python-jl /home/khalil.nor/Code/RMG-Py/rmg.py ./C2H5F_CH2FCH2F/input.py\n",
    "python-jl /home/khalil.nor/Code/RMG-Py/rmg.py ./CH2FCHF2_CH2FCH2F/input.py\n",
    "python-jl /home/khalil.nor/Code/RMG-Py/rmg.py ./CH2F2_C2H5F/input.py\n",
    "python-jl /home/khalil.nor/Code/RMG-Py/rmg.py ./CH2FCHF2_CH3CHF2/input.py\n",
    "python-jl /home/khalil.nor/Code/RMG-Py/rmg.py ./CH2FCHF2_C2H5F/input.py\n",
    "python-jl /home/khalil.nor/Code/RMG-Py/rmg.py ./CH3F_C2H5F/input.py\n",
    "python-jl /home/khalil.nor/Code/RMG-Py/rmg.py ./CH2FCHF2_CH2F2/input.py\n",
    "python-jl /home/khalil.nor/Code/RMG-Py/rmg.py ./CH2FCH2F_C2H5F/input.py\n",
    "python-jl /home/khalil.nor/Code/RMG-Py/rmg.py ./CH2F2_CH2FCHF2/input.py\n",
    "python-jl /home/khalil.nor/Code/RMG-Py/rmg.py ./CH2F2_CH3CHF2/input.py\n",
    "python-jl /home/khalil.nor/Code/RMG-Py/rmg.py ./CH3CF3_C2H5F/input.py\n",
    "python-jl /home/khalil.nor/Code/RMG-Py/rmg.py ./C2H5F_CH3CF3/input.py\n"
   ]
  },
  {
   "cell_type": "code",
   "execution_count": null,
   "id": "7288bce8",
   "metadata": {},
   "outputs": [],
   "source": [
    "#!/bin/bash\n",
    "#SBATCH --job-name=rmg_runs_1_42\n",
    "#SBATCH --output=rmg_all.slurm.log\n",
    "#SBATCH --error=error_rmg_all.slurm.log\n",
    "#SBATCH --nodes=1\n",
    "#SBATCH --partition=west\n",
    "#SBATCH --mem=20Gb\n",
    "#SBATCH --time=12-00:00:00\n",
    "#SBATCH --cpus-per-task=5\n",
    "#SBATCH --array=1-42"
   ]
  },
  {
   "cell_type": "code",
   "execution_count": 9,
   "id": "55b9f2ff",
   "metadata": {},
   "outputs": [
    {
     "name": "stdout",
     "output_type": "stream",
     "text": [
      "['CH2FCHF2_CH3F', 'C2H5F_CH2F2', 'C2H5F_CH3F', 'CH2FCH2F_CH3F', 'CH3CF3_CH2FCH2F', 'CH3F_CH2FCHF2', 'CH2F2_CH3F', 'CH3F_CH2FCH2F', 'CH3CF3_CH2FCHF2', 'CH2F2_CH3CF3', 'CH3CHF2_CH2FCHF2', 'CH2FCH2F_CH2FCHF2', 'CH2FCHF2_CH3CF3', 'CH3CHF2_CH2F2', 'CH3CF3_CH3CHF2', 'CH3F_CH3CHF2', 'CH3F_CH3CF3', 'CH3F_CH2F2', 'CH3CHF2_CH3F', 'CH3CF3_CH3F', 'CH2FCH2F_CH3CF3', 'CH2FCH2F_CH2F2', 'C2H5F_CH3CHF2', 'CH2FCH2F_CH3CHF2', 'C2H5F_CH2FCHF2', 'CH3CF3_CH2F2', 'CH3CHF2_CH3CF3', 'CH3CHF2_C2H5F', 'CH2F2_CH2FCH2F', 'CH3CHF2_CH2FCH2F', 'C2H5F_CH2FCH2F', 'CH2FCHF2_CH2FCH2F', 'CH2F2_C2H5F', 'CH2FCHF2_CH3CHF2', 'CH2FCHF2_C2H5F', 'CH3F_C2H5F', 'CH2FCHF2_CH2F2', 'CH2FCH2F_C2H5F', 'CH2F2_CH2FCHF2', 'CH2F2_CH3CHF2', 'CH3CF3_C2H5F', 'C2H5F_CH3CF3']\n"
     ]
    }
   ],
   "source": [
    "\n",
    "import os \n",
    "import re\n",
    "\n",
    "list_of_species_folders = [file for file in os.listdir('.') if re.match('[A-Z0-9]+_[A-Z0-9]+', file) ]\n",
    "index = $SLURM_ARRAY_TASK_ID - 1\n",
    "\n",
    "folder_name = list_of_species_folders[index]  \n",
    "conda activate rmg_env\n",
    "python-jl /home/khalil.nor/Code/RMG-Py/rmg.py ./{folder_name}/input.py'\n",
    "\n",
    "    "
   ]
  },
  {
   "cell_type": "code",
   "execution_count": null,
   "id": "f79fa805",
   "metadata": {},
   "outputs": [],
   "source": [
    "list_of_species_folders = ['CH2FCHF2_CH3F', 'C2H5F_CH2F2', 'C2H5F_CH3F', 'CH2FCH2F_CH3F', 'CH3CF3_CH2FCH2F', 'CH3F_CH2FCHF2', 'CH2F2_CH3F', 'CH3F_CH2FCH2F', 'CH3CF3_CH2FCHF2', 'CH2F2_CH3CF3', 'CH3CHF2_CH2FCHF2', 'CH2FCH2F_CH2FCHF2', 'CH2FCHF2_CH3CF3', 'CH3CHF2_CH2F2', 'CH3CF3_CH3CHF2', 'CH3F_CH3CHF2', 'CH3F_CH3CF3', 'CH3F_CH2F2', 'CH3CHF2_CH3F', 'CH3CF3_CH3F', 'CH2FCH2F_CH3CF3', 'CH2FCH2F_CH2F2', 'C2H5F_CH3CHF2', 'CH2FCH2F_CH3CHF2', 'C2H5F_CH2FCHF2', 'CH3CF3_CH2F2', 'CH3CHF2_CH3CF3', 'CH3CHF2_C2H5F', 'CH2F2_CH2FCH2F', 'CH3CHF2_CH2FCH2F', 'C2H5F_CH2FCH2F', 'CH2FCHF2_CH2FCH2F', 'CH2F2_C2H5F', 'CH2FCHF2_CH3CHF2', 'CH2FCHF2_C2H5F', 'CH3F_C2H5F', 'CH2FCHF2_CH2F2', 'CH2FCH2F_C2H5F', 'CH2F2_CH2FCHF2', 'CH2F2_CH3CHF2', 'CH3CF3_C2H5F', 'C2H5F_CH3CF3']\n",
    "index = $SLURM_ARRAY_TASK_ID - 1\n",
    "\n",
    "folder_name = list_of_species_folders[index]  \n",
    "conda activate rmg_env\n",
    "python-jl /home/khalil.nor/Code/RMG-Py/rmg.py ./{folder_name}/input.py\n"
   ]
  }
 ],
 "metadata": {
  "kernelspec": {
   "display_name": "Python 3",
   "language": "python",
   "name": "python3"
  },
  "language_info": {
   "codemirror_mode": {
    "name": "ipython",
    "version": 3
   },
   "file_extension": ".py",
   "mimetype": "text/x-python",
   "name": "python",
   "nbconvert_exporter": "python",
   "pygments_lexer": "ipython3",
   "version": "3.8.8"
  }
 },
 "nbformat": 4,
 "nbformat_minor": 5
}
