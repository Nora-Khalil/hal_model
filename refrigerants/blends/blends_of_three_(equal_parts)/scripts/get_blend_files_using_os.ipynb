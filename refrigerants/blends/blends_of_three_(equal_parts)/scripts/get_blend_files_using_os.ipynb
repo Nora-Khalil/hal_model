{
 "cells": [
  {
   "cell_type": "code",
   "execution_count": 3,
   "id": "33d6d672",
   "metadata": {},
   "outputs": [
    {
     "name": "stdout",
     "output_type": "stream",
     "text": [
      "list_of_species=(CH2F2_C2H5F_CH2FCHF2 CH3F_C2H5F_CH3CHF2 CH2F2_CH2FCH2F_CH2FCHF2 CH2F2_CH2FCH2F_CH3CF3 CH3F_CH2FCH2F_CH3CHF2 CH2F2_CH3F_CH3CHF2 CH2F2_CH3F_C2H5F CH2F2_CH3CF3_CH3CHF2 CH3F_CH2FCH2F_CH3CF3 C2H5F_CH2FCH2F_CH3CF3 C2H5F_CH2FCH2F_CH2FCHF2 CH2FCHF2_CH3CF3_CH3CHF2 C2H5F_CH2FCHF2_CH3CF3 CH2F2_C2H5F_CH3CHF2 CH3F_CH3CF3_CH3CHF2 CH3F_CH2FCHF2_CH3CHF2 CH3F_C2H5F_CH2FCHF2 C2H5F_CH3CF3_CH3CHF2 CH2FCH2F_CH2FCHF2_CH3CF3 C2H5F_CH2FCHF2_CH3CHF2 CH3F_CH2FCH2F_CH2FCHF2 CH2F2_C2H5F_CH3CF3 CH2FCH2F_CH2FCHF2_CH3CHF2 C2H5F_CH2FCH2F_CH3CHF2 CH2F2_CH3F_CH3CF3 CH3F_C2H5F_CH3CF3 CH2F2_CH3F_CH2FCHF2 CH2F2_CH3F_CH2FCH2F CH3F_C2H5F_CH2FCH2F CH2FCH2F_CH3CF3_CH3CHF2 CH2F2_CH2FCH2F_CH3CHF2 CH2F2_CH2FCHF2_CH3CHF2 CH2F2_C2H5F_CH2FCH2F CH3F_CH2FCHF2_CH3CF3 CH2F2_CH2FCHF2_CH3CF3)\n"
     ]
    }
   ],
   "source": [
    "import os\n",
    "import re\n",
    "\n",
    "#change below if using three, four, etc species in file name \n",
    "list0 = [x for x in os.listdir('../') if re.match('[A-Z0-9]+_[A-Z0-9]+_[A-Z0-9]+',x)]\n",
    "\n",
    "print('list_of_species=(' +' '.join(list0)+')')\n",
    "\n",
    "    \n"
   ]
  },
  {
   "cell_type": "code",
   "execution_count": null,
   "id": "b4626778",
   "metadata": {},
   "outputs": [],
   "source": []
  }
 ],
 "metadata": {
  "kernelspec": {
   "display_name": "Python 3",
   "language": "python",
   "name": "python3"
  },
  "language_info": {
   "codemirror_mode": {
    "name": "ipython",
    "version": 3
   },
   "file_extension": ".py",
   "mimetype": "text/x-python",
   "name": "python",
   "nbconvert_exporter": "python",
   "pygments_lexer": "ipython3",
   "version": "3.8.8"
  }
 },
 "nbformat": 4,
 "nbformat_minor": 5
}
