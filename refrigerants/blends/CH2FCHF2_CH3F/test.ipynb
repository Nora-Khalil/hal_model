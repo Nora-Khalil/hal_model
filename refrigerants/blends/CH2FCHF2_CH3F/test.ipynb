{
 "cells": [
  {
   "cell_type": "code",
   "execution_count": 3,
   "id": "b721a23c",
   "metadata": {},
   "outputs": [
    {
     "name": "stdout",
     "output_type": "stream",
     "text": [
      "Running Cantera Version: 2.5.1\n"
     ]
    }
   ],
   "source": [
    "import cantera as ct\n",
    "import numpy as np\n",
    "import pandas as pd\n",
    "\n",
    "print(\"Running Cantera Version: \" + str(ct.__version__))\n",
    "\n",
    "To = 298\n",
    "Po = 1e5 # ct.one_atm\n",
    "\n",
    "gas = ct.Solution('./chemkin/chem.1_day_21hrs.cti')\n"
   ]
  },
  {
   "cell_type": "code",
   "execution_count": 10,
   "id": "18b04309",
   "metadata": {},
   "outputs": [
    {
     "name": "stdout",
     "output_type": "stream",
     "text": [
      "164\n"
     ]
    }
   ],
   "source": [
    "x = gas.species()\n",
    "\n",
    "print(len(x))"
   ]
  },
  {
   "cell_type": "code",
   "execution_count": null,
   "id": "48eb05ff",
   "metadata": {},
   "outputs": [],
   "source": []
  }
 ],
 "metadata": {
  "kernelspec": {
   "display_name": "cantera_env",
   "language": "python",
   "name": "cantera_env"
  },
  "language_info": {
   "codemirror_mode": {
    "name": "ipython",
    "version": 3
   },
   "file_extension": ".py",
   "mimetype": "text/x-python",
   "name": "python",
   "nbconvert_exporter": "python",
   "pygments_lexer": "ipython3",
   "version": "3.9.7"
  }
 },
 "nbformat": 4,
 "nbformat_minor": 5
}
