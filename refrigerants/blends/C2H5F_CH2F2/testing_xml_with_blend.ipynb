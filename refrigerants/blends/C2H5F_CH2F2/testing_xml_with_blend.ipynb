{
 "cells": [
  {
   "cell_type": "code",
   "execution_count": 19,
   "id": "2bd5e9aa",
   "metadata": {},
   "outputs": [
    {
     "name": "stdout",
     "output_type": "stream",
     "text": [
      "Running Cantera Version: 2.5.1\n"
     ]
    }
   ],
   "source": [
    "import cantera as ct\n",
    "import numpy as np\n",
    "import pandas as pd\n",
    "\n",
    "\n",
    "print(\"Running Cantera Version: \" + str(ct.__version__))"
   ]
  },
  {
   "cell_type": "code",
   "execution_count": 20,
   "id": "623d2b8c",
   "metadata": {},
   "outputs": [],
   "source": [
    "To = 298\n",
    "Po = 1e5 # ct.one_atm\n",
    "\n",
    "gas = ct.Solution('./chemkin/chem_new.cti')\n",
    "\n",
    "\n",
    "mole_frac_list = np.arange(0.025, 0.25, step=0.025)\n",
    "mole_frac_list\n",
    "\n",
    "mole_frac_list = [0.15]"
   ]
  },
  {
   "cell_type": "code",
   "execution_count": 21,
   "id": "71a80050",
   "metadata": {},
   "outputs": [
    {
     "ename": "ValueError",
     "evalue": "'./data_test_xml/soln_0.125.xml' does not identify CSV or HDF file.",
     "output_type": "error",
     "traceback": [
      "\u001b[0;31m---------------------------------------------------------------------------\u001b[0m",
      "\u001b[0;31mValueError\u001b[0m                                Traceback (most recent call last)",
      "\u001b[0;32m/tmp/ipykernel_49044/1066754704.py\u001b[0m in \u001b[0;36m<module>\u001b[0;34m\u001b[0m\n\u001b[1;32m     16\u001b[0m     \u001b[0mflame\u001b[0m\u001b[0;34m.\u001b[0m\u001b[0mmax_time_step_count\u001b[0m \u001b[0;34m=\u001b[0m \u001b[0;36m900\u001b[0m\u001b[0;34m\u001b[0m\u001b[0;34m\u001b[0m\u001b[0m\n\u001b[1;32m     17\u001b[0m     \u001b[0mloglevel\u001b[0m \u001b[0;34m=\u001b[0m \u001b[0;36m1\u001b[0m\u001b[0;34m\u001b[0m\u001b[0;34m\u001b[0m\u001b[0m\n\u001b[0;32m---> 18\u001b[0;31m     \u001b[0mflame\u001b[0m\u001b[0;34m.\u001b[0m\u001b[0mset_initial_guess\u001b[0m\u001b[0;34m(\u001b[0m\u001b[0mdata\u001b[0m\u001b[0;34m=\u001b[0m\u001b[0;34m'./data_test_xml/soln_0.125.xml'\u001b[0m\u001b[0;34m)\u001b[0m\u001b[0;34m\u001b[0m\u001b[0;34m\u001b[0m\u001b[0m\n\u001b[0m\u001b[1;32m     19\u001b[0m     \u001b[0mflame\u001b[0m\u001b[0;34m.\u001b[0m\u001b[0msolve\u001b[0m\u001b[0;34m(\u001b[0m\u001b[0mloglevel\u001b[0m\u001b[0;34m=\u001b[0m\u001b[0mloglevel\u001b[0m\u001b[0;34m,\u001b[0m \u001b[0mauto\u001b[0m\u001b[0;34m=\u001b[0m\u001b[0;32mTrue\u001b[0m\u001b[0;34m)\u001b[0m\u001b[0;34m\u001b[0m\u001b[0;34m\u001b[0m\u001b[0m\n\u001b[1;32m     20\u001b[0m     \u001b[0mSu\u001b[0m \u001b[0;34m=\u001b[0m \u001b[0mflame\u001b[0m\u001b[0;34m.\u001b[0m\u001b[0mvelocity\u001b[0m\u001b[0;34m[\u001b[0m\u001b[0;36m0\u001b[0m\u001b[0;34m]\u001b[0m\u001b[0;34m\u001b[0m\u001b[0;34m\u001b[0m\u001b[0m\n",
      "\u001b[0;32m~/.conda/envs/cantera_env/lib/python3.9/site-packages/cantera/onedim.py\u001b[0m in \u001b[0;36mset_initial_guess\u001b[0;34m(self, locs, data, group)\u001b[0m\n\u001b[1;32m    801\u001b[0m             \u001b[0mlocation\u001b[0m\u001b[0;34m.\u001b[0m \u001b[0mLocations\u001b[0m \u001b[0mare\u001b[0m \u001b[0mgiven\u001b[0m \u001b[0;32mas\u001b[0m \u001b[0ma\u001b[0m \u001b[0mfraction\u001b[0m \u001b[0mof\u001b[0m \u001b[0mthe\u001b[0m \u001b[0mentire\u001b[0m \u001b[0mdomain\u001b[0m\u001b[0;34m\u001b[0m\u001b[0;34m\u001b[0m\u001b[0m\n\u001b[1;32m    802\u001b[0m         \"\"\"\n\u001b[0;32m--> 803\u001b[0;31m         \u001b[0msuper\u001b[0m\u001b[0;34m(\u001b[0m\u001b[0;34m)\u001b[0m\u001b[0;34m.\u001b[0m\u001b[0mset_initial_guess\u001b[0m\u001b[0;34m(\u001b[0m\u001b[0mdata\u001b[0m\u001b[0;34m=\u001b[0m\u001b[0mdata\u001b[0m\u001b[0;34m,\u001b[0m \u001b[0mgroup\u001b[0m\u001b[0;34m=\u001b[0m\u001b[0mgroup\u001b[0m\u001b[0;34m)\u001b[0m\u001b[0;34m\u001b[0m\u001b[0;34m\u001b[0m\u001b[0m\n\u001b[0m\u001b[1;32m    804\u001b[0m         \u001b[0;32mif\u001b[0m \u001b[0mdata\u001b[0m\u001b[0;34m:\u001b[0m\u001b[0;34m\u001b[0m\u001b[0;34m\u001b[0m\u001b[0m\n\u001b[1;32m    805\u001b[0m             \u001b[0;31m# set fixed temperature\u001b[0m\u001b[0;34m\u001b[0m\u001b[0;34m\u001b[0m\u001b[0m\n",
      "\u001b[0;32m~/.conda/envs/cantera_env/lib/python3.9/site-packages/cantera/onedim.py\u001b[0m in \u001b[0;36mset_initial_guess\u001b[0;34m(self, data, group, *args, **kwargs)\u001b[0m\n\u001b[1;32m    135\u001b[0m \u001b[0;34m\u001b[0m\u001b[0m\n\u001b[1;32m    136\u001b[0m             \u001b[0;32melse\u001b[0m\u001b[0;34m:\u001b[0m\u001b[0;34m\u001b[0m\u001b[0;34m\u001b[0m\u001b[0m\n\u001b[0;32m--> 137\u001b[0;31m                 raise ValueError(\n\u001b[0m\u001b[1;32m    138\u001b[0m                     \u001b[0;34m\"'{}' does not identify CSV or HDF file.\"\u001b[0m\u001b[0;34m.\u001b[0m\u001b[0mformat\u001b[0m\u001b[0;34m(\u001b[0m\u001b[0mdata\u001b[0m\u001b[0;34m)\u001b[0m\u001b[0;34m\u001b[0m\u001b[0;34m\u001b[0m\u001b[0m\n\u001b[1;32m    139\u001b[0m                 )\n",
      "\u001b[0;31mValueError\u001b[0m: './data_test_xml/soln_0.125.xml' does not identify CSV or HDF file."
     ]
    }
   ],
   "source": [
    "#does not include initial guess \n",
    "\n",
    "results = {}\n",
    "\n",
    "for x in mole_frac_list:\n",
    "    # x is mole fraction of fuel, which is 50% each component\n",
    "    norm_ox = (1-x)*.21\n",
    "    mole_frac_dict = {'C2H5F(1)': (x/2/norm_ox), \n",
    "                      'CH2F2(2)': (x/2/norm_ox), \n",
    "                      'O2(3)':((1-x)*.21)/norm_ox, \n",
    "                      'N2':((1-x)*0.79)/norm_ox } \n",
    "    gas.TPX = To, Po, mole_frac_dict\n",
    "    width = 0.08\n",
    "    flame = ct.FreeFlame(gas, width=width)\n",
    "    flame.set_refine_criteria(ratio=3, slope=0.1, curve=0.1) \n",
    "    flame.max_time_step_count = 900\n",
    "    loglevel = 1 \n",
    "    flame.set_initial_guess(data='./data_test_xml/soln_0.125.xml')\n",
    "    flame.solve(loglevel=loglevel, auto=True)\n",
    "    Su = flame.velocity[0]\n",
    "    results[x] = Su\n",
    "    flame.save(filename=f'./data_test_xml/soln_{x}.xml', name=f'solution_{x}', description=u'none')\n",
    "               \n",
    "\n",
    "vol_fracs = list(results.keys())\n",
    "flame_speeds = list(results.values())\n",
    "\n",
    "\n",
    "print(\"volume fractions are:\")\n",
    "print(vol_fracs)\n",
    "\n",
    "print(\"flame speeds are:\")\n",
    "print(flame_speeds)"
   ]
  },
  {
   "cell_type": "code",
   "execution_count": null,
   "id": "9422e902",
   "metadata": {},
   "outputs": [],
   "source": []
  }
 ],
 "metadata": {
  "kernelspec": {
   "display_name": "cantera_env",
   "language": "python",
   "name": "cantera_env"
  },
  "language_info": {
   "codemirror_mode": {
    "name": "ipython",
    "version": 3
   },
   "file_extension": ".py",
   "mimetype": "text/x-python",
   "name": "python",
   "nbconvert_exporter": "python",
   "pygments_lexer": "ipython3",
   "version": "3.9.7"
  }
 },
 "nbformat": 4,
 "nbformat_minor": 5
}
