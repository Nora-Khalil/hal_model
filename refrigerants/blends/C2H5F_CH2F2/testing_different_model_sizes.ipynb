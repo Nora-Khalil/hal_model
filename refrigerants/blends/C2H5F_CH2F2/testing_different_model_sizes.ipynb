{
 "cells": [
  {
   "cell_type": "code",
   "execution_count": null,
   "id": "085fdecf",
   "metadata": {},
   "outputs": [],
   "source": [
    "import cantera as ct\n",
    "import numpy as np\n",
    "import pandas as pd\n",
    "import os \n",
    "import re\n",
    "\n",
    "\n",
    "print(\"Running Cantera Version: \" + str(ct.__version__))"
   ]
  },
  {
   "cell_type": "code",
   "execution_count": null,
   "id": "34e13893",
   "metadata": {},
   "outputs": [],
   "source": [
    "directory ='.'\n",
    "\n",
    "\n",
    "\n",
    "#list_of_inp_files = [file for file in os.listdir(directory) if re.match('chem0([0-9]+)\\.inp', file) ]\n",
    "list_of_inp_files = ['chem0147.inp']\n",
    "print(list_of_inp_files)\n",
    "\n",
    "os.system('source activate ct-env') #if on local\n",
    "#os.system('source activate cantera_env') #if on discovery (will be cantera 2.5)\n",
    "#os.system('cd chemkin')\n",
    "list_of_inp_files = [chem0147.inp]\n",
    "\n",
    "for file in list_of_inp_files: \n",
    "    match = re.match('chem0([0-9]+)\\.inp', file)\n",
    "    print(match.group(1))\n",
    "    try: \n",
    "        os_command1 = f'ck2cti --input={file} --transport=tran.dat'\n",
    "        os.system(os_command1)\n",
    "        print('tried it')\n",
    "    except Exception as e: \n",
    "        print(e)\n",
    "        \n",
    "        \n",
    "       # os.makedirs('../cti', exist_ok=True)\n",
    "       # os_command2 = f'mv chem0{match.group(1)}.cti ../cti/chem0{match.group(1)}.cti'\n",
    "       # os.system(os_command2)\n",
    "    \n",
    "    \n",
    "    \n",
    "\n",
    "\n",
    "\n",
    "\n",
    "\n",
    "\n",
    "#To = 298\n",
    "#Po = 1e5 # ct.one_atm\n",
    "\n",
    "#gas = ct.Solution('./chemkin/chem_new.cti')\n"
   ]
  },
  {
   "cell_type": "code",
   "execution_count": null,
   "id": "70b2b10e",
   "metadata": {},
   "outputs": [],
   "source": [
    "    os.makedirs?\n",
    "    "
   ]
  },
  {
   "cell_type": "code",
   "execution_count": null,
   "id": "602a0b7f",
   "metadata": {},
   "outputs": [],
   "source": []
  }
 ],
 "metadata": {
  "kernelspec": {
   "display_name": "Python 3 (ipykernel)",
   "language": "python",
   "name": "python3"
  },
  "language_info": {
   "codemirror_mode": {
    "name": "ipython",
    "version": 3
   },
   "file_extension": ".py",
   "mimetype": "text/x-python",
   "name": "python",
   "nbconvert_exporter": "python",
   "pygments_lexer": "ipython3",
   "version": "3.9.12"
  }
 },
 "nbformat": 4,
 "nbformat_minor": 5
}
