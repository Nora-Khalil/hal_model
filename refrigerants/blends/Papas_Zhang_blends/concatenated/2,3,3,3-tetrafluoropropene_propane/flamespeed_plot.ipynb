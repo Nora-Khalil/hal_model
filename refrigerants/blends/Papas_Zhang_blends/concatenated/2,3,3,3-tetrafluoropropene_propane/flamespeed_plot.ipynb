{
 "cells": [
  {
   "cell_type": "markdown",
   "id": "fed8180a-d572-4dd0-8c0b-77fe23b84747",
   "metadata": {},
   "source": [
    "MODEL GENERATION COMPLETED\n",
    "\n",
    "The merged model has 247 species and 4411 reactions"
   ]
  },
  {
   "cell_type": "code",
   "execution_count": 1,
   "id": "84ca78c6-1e30-4ad1-9e7a-ba48bc69873f",
   "metadata": {},
   "outputs": [],
   "source": [
    "import matplotlib.pylab as plt\n",
    "import numpy as np\n",
    "import os \n",
    "import re\n",
    "import pandas as pd\n",
    "%matplotlib inline"
   ]
  },
  {
   "cell_type": "code",
   "execution_count": 2,
   "id": "c196f8da-b1c4-4cf4-bc28-d39e16f26a92",
   "metadata": {},
   "outputs": [],
   "source": [
    "list_of_blends = os.listdir('/work/westgroup/nora/Code/projects/halogens/refrigerants/blends/Papas_Zhang_blends/concatenated/2,3,3,3-tetrafluoropropene_propane/')\n"
   ]
  },
  {
   "cell_type": "code",
   "execution_count": 4,
   "id": "293d3ac8-bc9b-4d2b-9594-c0d0a21f62df",
   "metadata": {},
   "outputs": [
    {
     "data": {
      "text/plain": [
       "['0.0.csv',\n",
       " '0.041666666666666664.csv',\n",
       " '0.08333333333333333.csv',\n",
       " '0.125.csv',\n",
       " '0.16666666666666666.csv',\n",
       " '0.20833333333333331.csv',\n",
       " '0.25.csv',\n",
       " '0.29166666666666663.csv',\n",
       " '0.3333333333333333.csv',\n",
       " '0.375.csv',\n",
       " '0.41666666666666663.csv',\n",
       " '0.4583333333333333.csv',\n",
       " '0.5.csv',\n",
       " '0.5416666666666666.csv',\n",
       " '0.5833333333333333.csv',\n",
       " '0.625.csv',\n",
       " '0.6666666666666666.csv',\n",
       " '0.7083333333333333.csv',\n",
       " '0.75.csv',\n",
       " '0.7916666666666666.csv',\n",
       " '0.8333333333333333.csv',\n",
       " '0.875.csv',\n",
       " '0.9166666666666666.csv',\n",
       " '0.9583333333333333.csv',\n",
       " '1.0.csv']"
      ]
     },
     "execution_count": 4,
     "metadata": {},
     "output_type": "execute_result"
    }
   ],
   "source": [
    "list_of_blends[1:26]"
   ]
  },
  {
   "cell_type": "code",
   "execution_count": 12,
   "id": "0db46278-3080-44d8-aaac-9b86cdc59aed",
   "metadata": {},
   "outputs": [],
   "source": [
    "dictionary_of_data = {}\n",
    "\n",
    "for file in list_of_blends[1:26]:\n",
    "    df = pd.read_csv(f'/work/westgroup/nora/Code/projects/halogens/refrigerants/blends/Papas_Zhang_blends/concatenated/2,3,3,3-tetrafluoropropene_propane/{file}')\n",
    "    speed = df['velocity'][0]\n",
    "    match = re.match('(\\S+)\\.csv',file)\n",
    "    fraction = float(match.group(1))\n",
    "    dictionary_of_data[fraction] = speed\n"
   ]
  },
  {
   "cell_type": "code",
   "execution_count": 13,
   "id": "cca822fe-5e04-42e1-ae42-45fe0c2dc8cb",
   "metadata": {},
   "outputs": [],
   "source": [
    "#data for mix\n",
    "\n",
    "fractions = [x for x in dictionary_of_data.keys()]\n",
    "calculated_speeds = np.array([x for x in dictionary_of_data.values()])\n"
   ]
  },
  {
   "cell_type": "code",
   "execution_count": 14,
   "id": "33712188-265d-45ce-8e88-b3ff0552c427",
   "metadata": {},
   "outputs": [
    {
     "data": {
      "text/plain": [
       "[0.5,\n",
       " 0.5416666666666666,\n",
       " 0.5833333333333333,\n",
       " 0.625,\n",
       " 0.6666666666666666,\n",
       " 0.7083333333333333,\n",
       " 0.75,\n",
       " 0.7916666666666666,\n",
       " 0.8333333333333333,\n",
       " 0.875,\n",
       " 0.9166666666666666,\n",
       " 0.9583333333333333,\n",
       " 1.0]"
      ]
     },
     "execution_count": 14,
     "metadata": {},
     "output_type": "execute_result"
    }
   ],
   "source": [
    "fractions[12:]"
   ]
  },
  {
   "cell_type": "code",
   "execution_count": 15,
   "id": "58af9efb-2c53-4e3c-9411-27be28f20f26",
   "metadata": {},
   "outputs": [
    {
     "data": {
      "text/plain": [
       "array([0.1900825 , 0.17705254, 0.16468832, 0.15362113, 0.14344375,\n",
       "       0.13440333, 0.12457625, 0.11656158, 0.10861685, 0.1004934 ,\n",
       "       0.0931222 , 0.08489082, 0.07680872])"
      ]
     },
     "execution_count": 15,
     "metadata": {},
     "output_type": "execute_result"
    }
   ],
   "source": [
    "calculated_speeds[12:]"
   ]
  },
  {
   "cell_type": "code",
   "execution_count": null,
   "id": "ca0b433b-4faa-4265-a761-6ce26952263e",
   "metadata": {},
   "outputs": [],
   "source": [
    "experimental Papas, Zhang. plot experimental!\n",
    "    "
   ]
  },
  {
   "cell_type": "code",
   "execution_count": 10,
   "id": "39ec652e-e634-4079-8b56-f6b31f542726",
   "metadata": {},
   "outputs": [
    {
     "data": {
      "text/plain": [
       "<matplotlib.legend.Legend at 0x2b3292109730>"
      ]
     },
     "execution_count": 10,
     "metadata": {},
     "output_type": "execute_result"
    },
    {
     "data": {
      "image/png": "[encoded data removed]",
      "text/plain": [
       "<Figure size 432x288 with 1 Axes>"
      ]
     },
     "metadata": {
      "needs_background": "light"
     },
     "output_type": "display_data"
    }
   ],
   "source": [
    "\n",
    "#plotting\n",
    "fig = plt.figure()\n",
    "ax1 = fig.add_subplot(111) \n",
    "\n",
    "ax1.plot(fractions[12:], calculated_speeds[12:]*100, '-', c='g', label='concatenated' )\n",
    "# ax1.plot(calculated_fractions, Papas_speeds, '-', c='black', label='Papas' )\n",
    "\n",
    "listOf_Yticks = np.arange(0, 45, 5)\n",
    "plt.yticks(listOf_Yticks)\n",
    "\n",
    "plt.xlabel('Equivalence Ratio')\n",
    "plt.ylabel('Su (cm/s)')\n",
    "plt.title('Flame Speeds of Propane at Increasing Equiv. Ratio')\n",
    "ax1.legend(bbox_to_anchor=(0.5, 0., 0.8, 1))\n"
   ]
  },
  {
   "cell_type": "code",
   "execution_count": null,
   "id": "d388f4fb-a760-4cd0-9ecd-337019fc3b8e",
   "metadata": {},
   "outputs": [],
   "source": [
    "# need to change to [1:26] to get last data point "
   ]
  }
 ],
 "metadata": {
  "kernelspec": {
   "display_name": "Python 3",
   "language": "python",
   "name": "python3"
  },
  "language_info": {
   "codemirror_mode": {
    "name": "ipython",
    "version": 3
   },
   "file_extension": ".py",
   "mimetype": "text/x-python",
   "name": "python",
   "nbconvert_exporter": "python",
   "pygments_lexer": "ipython3",
   "version": "3.8.8"
  }
 },
 "nbformat": 4,
 "nbformat_minor": 5
}
