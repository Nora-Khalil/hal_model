{
 "cells": [
  {
   "cell_type": "markdown",
   "id": "fed8180a-d572-4dd0-8c0b-77fe23b84747",
   "metadata": {},
   "source": [
    "MODEL GENERATION COMPLETED\n",
    "\n",
    "The final model core has 108 species and 1223 reactions"
   ]
  },
  {
   "cell_type": "code",
   "execution_count": 1,
   "id": "84ca78c6-1e30-4ad1-9e7a-ba48bc69873f",
   "metadata": {},
   "outputs": [],
   "source": [
    "import matplotlib.pylab as plt\n",
    "import numpy as np\n",
    "import os \n",
    "import re\n",
    "import pandas as pd\n",
    "%matplotlib inline"
   ]
  },
  {
   "cell_type": "code",
   "execution_count": 2,
   "id": "0db46278-3080-44d8-aaac-9b86cdc59aed",
   "metadata": {},
   "outputs": [],
   "source": [
    "dictionary_of_data = {}\n",
    "\n",
    "list_of_blends = os.listdir('/work/westgroup/nora/Code/projects/halogens/refrigerants/blends/Papas_Zhang_blends/2,3,3,3-tetrafluoropropene_difluoromethane_species_not_in_core/data')\n",
    "for file in list_of_blends[1:]:\n",
    "    df = pd.read_csv(f'/work/westgroup/nora/Code/projects/halogens/refrigerants/blends/Papas_Zhang_blends/2,3,3,3-tetrafluoropropene_difluoromethane_species_not_in_core/data/{file}')\n",
    "    speed = df['velocity'][0]\n",
    "    match = re.match('(\\S+)\\.csv',file)\n",
    "    fraction = float(match.group(1))\n",
    "    dictionary_of_data[fraction] = speed\n"
   ]
  },
  {
   "cell_type": "code",
   "execution_count": 3,
   "id": "cca822fe-5e04-42e1-ae42-45fe0c2dc8cb",
   "metadata": {},
   "outputs": [],
   "source": [
    "#data for propane\n",
    "\n",
    "fractions = [x for x in dictionary_of_data.keys()]\n",
    "calculated_speeds = np.array([x for x in dictionary_of_data.values()])\n"
   ]
  },
  {
   "cell_type": "code",
   "execution_count": 4,
   "id": "c255d568-fadc-407b-9538-5dc901f808ec",
   "metadata": {},
   "outputs": [
    {
     "data": {
      "text/plain": [
       "[0.0,\n",
       " 0.041666666666666664,\n",
       " 0.08333333333333333,\n",
       " 0.125,\n",
       " 0.16666666666666666,\n",
       " 0.20833333333333331,\n",
       " 0.25,\n",
       " 0.29166666666666663,\n",
       " 0.3333333333333333,\n",
       " 0.375,\n",
       " 0.41666666666666663,\n",
       " 0.4583333333333333,\n",
       " 0.5,\n",
       " 0.5416666666666666,\n",
       " 0.5833333333333333,\n",
       " 0.625,\n",
       " 0.6666666666666666,\n",
       " 0.7083333333333333,\n",
       " 0.75,\n",
       " 0.7916666666666666,\n",
       " 0.8333333333333333,\n",
       " 0.875,\n",
       " 0.9166666666666666,\n",
       " 0.9583333333333333,\n",
       " 1.0]"
      ]
     },
     "execution_count": 4,
     "metadata": {},
     "output_type": "execute_result"
    }
   ],
   "source": [
    "fractions"
   ]
  },
  {
   "cell_type": "code",
   "execution_count": 5,
   "id": "33712188-265d-45ce-8e88-b3ff0552c427",
   "metadata": {},
   "outputs": [
    {
     "data": {
      "text/plain": [
       "array([0.08122939, 0.06935301, 0.06077268, 0.05315471, 0.04811685,\n",
       "       0.04440771, 0.0423281 , 0.04042623, 0.03915587, 0.03827818,\n",
       "       0.03771683, 0.03739139, 0.03724487, 0.03724317, 0.03733151,\n",
       "       0.03748353, 0.03721161, 0.0374073 , 0.03759453, 0.03774094,\n",
       "       0.0378491 , 0.03792412, 0.03851314, 0.03863969, 0.03898441])"
      ]
     },
     "execution_count": 5,
     "metadata": {},
     "output_type": "execute_result"
    }
   ],
   "source": [
    "calculated_speeds"
   ]
  },
  {
   "cell_type": "code",
   "execution_count": null,
   "id": "ca0b433b-4faa-4265-a761-6ce26952263e",
   "metadata": {},
   "outputs": [],
   "source": [
    "experimental Papas, Zhang. plot experimental!\n",
    "    "
   ]
  },
  {
   "cell_type": "code",
   "execution_count": 8,
   "id": "39ec652e-e634-4079-8b56-f6b31f542726",
   "metadata": {},
   "outputs": [
    {
     "data": {
      "text/plain": [
       "<matplotlib.legend.Legend at 0x2b4f2cc8a8e0>"
      ]
     },
     "execution_count": 8,
     "metadata": {},
     "output_type": "execute_result"
    },
    {
     "data": {
      "image/png": "[encoded data removed]",
      "text/plain": [
       "<Figure size 432x288 with 1 Axes>"
      ]
     },
     "metadata": {
      "needs_background": "light"
     },
     "output_type": "display_data"
    }
   ],
   "source": [
    "\n",
    "#plotting\n",
    "fig = plt.figure()\n",
    "ax1 = fig.add_subplot(111) \n",
    "\n",
    "ax1.plot(fractions, calculated_speeds*100, '-', c='g', label='RMG model' )\n",
    "# ax1.plot(calculated_fractions, Papas_speeds, '-', c='black', label='Papas' )\n",
    "\n",
    "listOf_Yticks = np.arange(0, 12, 2)\n",
    "plt.yticks(listOf_Yticks)\n",
    "\n",
    "plt.xlabel('Equivalence Ratio')\n",
    "plt.ylabel('Su (cm/s)')\n",
    "plt.title('Flame Speeds of Propane at Increasing Equiv. Ratio')\n",
    "ax1.legend(bbox_to_anchor=(0.5, 0., 0.8, 1))\n"
   ]
  },
  {
   "cell_type": "code",
   "execution_count": null,
   "id": "23eed79f-35c2-44db-a9bc-2df2e906e794",
   "metadata": {},
   "outputs": [],
   "source": [
    "#redone "
   ]
  },
  {
   "cell_type": "code",
   "execution_count": 12,
   "id": "3459c4af-b93d-4b66-baf2-9d051e33b3dc",
   "metadata": {},
   "outputs": [],
   "source": [
    "dictionary_of_data = {}\n",
    "\n",
    "list_of_blends = os.listdir('/work/westgroup/nora/Code/projects/halogens/refrigerants/blends/Papas_Zhang_blends/propane/data/phis')\n",
    "for file in list_of_blends[1:]:\n",
    "    df = pd.read_csv(f'/work/westgroup/nora/Code/projects/halogens/refrigerants/blends/Papas_Zhang_blends/propane/data/phis/{file}')\n",
    "    speed = df['velocity'][0]\n",
    "    match = re.match('(\\S+)\\.csv',file)\n",
    "    fraction = float(match.group(1))\n",
    "    phi = (24.8)*(fraction/(fraction+1+3.76))\n",
    "    dictionary_of_data[phi] = speed\n"
   ]
  },
  {
   "cell_type": "code",
   "execution_count": 13,
   "id": "5cb27bb7-2055-4f03-88e4-c69af703656f",
   "metadata": {},
   "outputs": [],
   "source": [
    "#data for propane\n",
    "\n",
    "calculated_phis = [x for x in dictionary_of_data.keys()]\n",
    "calculated_speeds = np.array([x for x in dictionary_of_data.values()])\n"
   ]
  },
  {
   "cell_type": "code",
   "execution_count": 14,
   "id": "59366374-302b-4096-8d47-b45310807839",
   "metadata": {},
   "outputs": [
    {
     "data": {
      "text/plain": [
       "<matplotlib.legend.Legend at 0x2b3e7a3beb20>"
      ]
     },
     "execution_count": 14,
     "metadata": {},
     "output_type": "execute_result"
    },
    {
     "data": {
      "image/png": "[encoded data removed]",
      "text/plain": [
       "<Figure size 432x288 with 1 Axes>"
      ]
     },
     "metadata": {
      "needs_background": "light"
     },
     "output_type": "display_data"
    }
   ],
   "source": [
    "\n",
    "#plotting\n",
    "fig = plt.figure()\n",
    "ax1 = fig.add_subplot(111) \n",
    "\n",
    "ax1.plot(calculated_phis, calculated_speeds*100, '-', c='g', label='RMG model' )\n",
    "# ax1.plot(calculated_fractions, Papas_speeds, '-', c='black', label='Papas' )\n",
    "\n",
    "plt.xlabel('Equivalence Ratio')\n",
    "plt.ylabel('Su (cm/s)')\n",
    "plt.title('Flame Speeds of Propane at Increasing Equiv. Ratio')\n",
    "ax1.legend(bbox_to_anchor=(0.5, 0., 0.8, 1))\n"
   ]
  },
  {
   "cell_type": "code",
   "execution_count": null,
   "id": "d388f4fb-a760-4cd0-9ecd-337019fc3b8e",
   "metadata": {},
   "outputs": [],
   "source": []
  }
 ],
 "metadata": {
  "kernelspec": {
   "display_name": "Python 3",
   "language": "python",
   "name": "python3"
  },
  "language_info": {
   "codemirror_mode": {
    "name": "ipython",
    "version": 3
   },
   "file_extension": ".py",
   "mimetype": "text/x-python",
   "name": "python",
   "nbconvert_exporter": "python",
   "pygments_lexer": "ipython3",
   "version": "3.8.8"
  }
 },
 "nbformat": 4,
 "nbformat_minor": 5
}
