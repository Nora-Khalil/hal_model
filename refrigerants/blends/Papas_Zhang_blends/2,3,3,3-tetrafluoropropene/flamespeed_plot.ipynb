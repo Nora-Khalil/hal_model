{
 "cells": [
  {
   "cell_type": "markdown",
   "id": "fed8180a-d572-4dd0-8c0b-77fe23b84747",
   "metadata": {},
   "source": [
    "MODEL GENERATION COMPLETED\n",
    "\n",
    "This version of the model core has 168 species and 2343 reactions. \n",
    "This is not the final version of the model, as it is currently running\n"
   ]
  },
  {
   "cell_type": "markdown",
   "id": "91296f09-cbcf-4b83-b3e3-89034b3b9b33",
   "metadata": {},
   "source": [
    "Stoichiometric equation and experimental for 2,3,3,3-tetrafluoropropene is provided by \n",
    "https://www.sciencedirect.com/science/article/pii/S0022113917301586?via%3Dihub  (Babushok, Linteris): \n",
    "\n",
    "\n",
    "Figure 2"
   ]
  },
  {
   "cell_type": "markdown",
   "id": "8df79f24-e7bf-4766-ad57-a2364e7fa9b0",
   "metadata": {},
   "source": [
    "figure 12 in https://reader.elsevier.com/reader/sd/pii/S0304389409012734?token=F0E093C6919AD79A5FDF818EE4D4D8F79FC5B4A45F8783DFDC3CA27BF3BB5936A59DE4B8F853BA004498ECE5D8D33CAE&originRegion=us-east-1&originCreation=20230110155210 was used in above source"
   ]
  },
  {
   "cell_type": "code",
   "execution_count": null,
   "id": "ea08158f-f604-4742-89d4-e90f13618e3a",
   "metadata": {},
   "outputs": [],
   "source": []
  },
  {
   "cell_type": "code",
   "execution_count": 9,
   "id": "13205f04-b3c9-4db2-9c7a-d03805ce62ec",
   "metadata": {},
   "outputs": [],
   "source": [
    "dictionary_of_data = {}\n",
    "\n",
    "list_of_blends= os.listdir('/work/westgroup/nora/Code/projects/halogens/refrigerants/blends/Papas_Zhang_blends/2,3,3,3-tetrafluoropropene/data/')\n",
    "for file in list_of_blends[1:]:\n",
    "    df = pd.read_csv(f'/work/westgroup/nora/Code/projects/halogens/refrigerants/blends/Papas_Zhang_blends/2,3,3,3-tetrafluoropropene/data/{file}')\n",
    "    speed = df['velocity'][0]\n",
    "    match = re.match('(\\S+)\\.csv',file)\n",
    "    fraction = float(match.group(1))\n",
    "    phi = (12.9)*(fraction/(fraction+1+3.76))\n",
    "    dictionary_of_data[phi] = speed"
   ]
  },
  {
   "cell_type": "code",
   "execution_count": 13,
   "id": "0e623680-e097-456b-8283-a894b12d1255",
   "metadata": {},
   "outputs": [],
   "source": [
    "#data for 2,3,3,3-tetrafluoropropene\n",
    "\n",
    "calculated_phis = [x for x in dictionary_of_data.keys()]\n",
    "calculated_speeds = np.array([x for x in dictionary_of_data.values()])"
   ]
  },
  {
   "cell_type": "code",
   "execution_count": 11,
   "id": "84ca78c6-1e30-4ad1-9e7a-ba48bc69873f",
   "metadata": {},
   "outputs": [],
   "source": [
    "import matplotlib.pylab as plt\n",
    "import numpy as np\n",
    "import os \n",
    "import re\n",
    "import pandas as pd\n",
    "%matplotlib inline"
   ]
  },
  {
   "cell_type": "code",
   "execution_count": 17,
   "id": "657d7b70-6d33-4e23-921b-315da85a2bf9",
   "metadata": {},
   "outputs": [
    {
     "name": "stdout",
     "output_type": "stream",
     "text": [
      "0.5201612903225807 0.015352069886044\n",
      "0.6342962507682852 0.0319196480732582\n",
      "0.7463459196102316 0.0500680696764274\n",
      "0.8563669281834642 0.065118450498441\n",
      "0.9644138755980862 0.0734945407570938\n",
      "1.0705394190871371 0.0766318455395214\n",
      "1.1747943595769683 0.0749784542486112\n",
      "1.2708097870910593 0.0206405826157843\n",
      "1.2772277227722773 0.0693193638049457\n",
      "1.3778868360277137 0.0602220053655012\n",
      "1.476817401259302 0.0498927770920971\n",
      "1.5168654546448936 0.0392513350064944\n",
      "1.5740635641316687 0.040252555934285\n",
      "1.6696679797411367 0.0318720540871037\n",
      "1.7485030006348563 0.0576240027580532\n",
      "1.7485030006348568 0.0615237736336324\n",
      "1.763671875 0.0253677221075577\n",
      "1.8561151079136693 0.0202468606655384\n",
      "1.9470362239297476 0.0166311855833007\n",
      "1.9669536401069385 0.0748042458053505\n"
     ]
    }
   ],
   "source": [
    "for i,j in zip(calculated_phis[0:20],calculated_speeds[0:20]):\n",
    "    print(i,j)"
   ]
  },
  {
   "cell_type": "code",
   "execution_count": 21,
   "id": "8bd3f50d-0826-46dd-be5d-b2d80a40ff50",
   "metadata": {},
   "outputs": [],
   "source": [
    "_168_retrieved = [0.5201612903225807,\n",
    " 0.6342962507682852,\n",
    " 0.7463459196102316,\n",
    " 0.8563669281834642,\n",
    " 0.9644138755980862,\n",
    " 1.0705394190871371,\n",
    " 1.1747943595769683,\n",
    " 1.2772277227722773,\n",
    " 1.3778868360277137,\n",
    " 1.476817401259302,\n",
    " 1.5740635641316687,\n",
    " 1.6696679797411367,\n",
    " 1.763671875,\n",
    " 1.8561151079136693,\n",
    " 1.9470362239297476,\n",
    "]\n",
    "\n",
    "_168_speeds_retrieved=np.array([0.01535207, 0.03191965, 0.05006807, 0.06511845, 0.07349454,\n",
    "       0.07663185, 0.07497845, 0.06931936, 0.06022201,\n",
    "       0.04989278, 0.04025256, 0.03187205, 0.02536772, 0.02024686, 0.01663119])"
   ]
  },
  {
   "cell_type": "code",
   "execution_count": 22,
   "id": "39ec652e-e634-4079-8b56-f6b31f542726",
   "metadata": {},
   "outputs": [
    {
     "data": {
      "text/plain": [
       "<matplotlib.legend.Legend at 0x2adb95a3a640>"
      ]
     },
     "execution_count": 22,
     "metadata": {},
     "output_type": "execute_result"
    },
    {
     "data": {
      "image/png": "[encoded data removed]",
      "text/plain": [
       "<Figure size 432x288 with 1 Axes>"
      ]
     },
     "metadata": {
      "needs_background": "light"
     },
     "output_type": "display_data"
    }
   ],
   "source": [
    "\n",
    "#plotting\n",
    "fig = plt.figure()\n",
    "ax1 = fig.add_subplot(111) \n",
    "\n",
    "# ax1.plot(calculated_phis, calculated_speeds*100, '-', c='g', label='RMG model' )\n",
    "ax1.plot(_168_retrieved, _168_speeds_retrieved, '-', c='black', label='Papas' )\n",
    "\n",
    "\n",
    "plt.xlabel('Equivalence Ratio')\n",
    "plt.ylabel('Su (cm/s)')\n",
    "plt.title('Flame Speeds of 2,3,3,3-tetrafluoropropene at Increasing Equiv. Ratio')\n",
    "ax1.legend(bbox_to_anchor=(0.5, 0., 0.8, 1))\n"
   ]
  },
  {
   "cell_type": "code",
   "execution_count": null,
   "id": "5d4ee3ac-34d3-4cc3-9aa2-5cf7972069fc",
   "metadata": {},
   "outputs": [],
   "source": [
    "#conclusion: this is probably correct, all figures just graph as higher equivalence ratios"
   ]
  },
  {
   "cell_type": "code",
   "execution_count": 14,
   "id": "ec09f813-7026-431f-972f-e3ab743b361d",
   "metadata": {},
   "outputs": [
    {
     "data": {
      "text/plain": [
       "[0.8563669281834642,\n",
       " 0.9644138755980862,\n",
       " 1.0705394190871371,\n",
       " 1.1747943595769683,\n",
       " 1.2772277227722773,\n",
       " 1.3778868360277137,\n",
       " 1.476817401259302,\n",
       " 1.5740635641316687]"
      ]
     },
     "execution_count": 14,
     "metadata": {},
     "output_type": "execute_result"
    }
   ],
   "source": [
    "calculated_phis[3:11]\n"
   ]
  },
  {
   "cell_type": "code",
   "execution_count": 16,
   "id": "12cdaefd-f606-4092-8a05-f3133d6a2104",
   "metadata": {},
   "outputs": [
    {
     "data": {
      "text/plain": [
       "array([6.51184505, 7.34945408, 7.66318455, 7.49784542, 6.93193638,\n",
       "       6.02220054, 4.98927771, 4.02525559])"
      ]
     },
     "execution_count": 16,
     "metadata": {},
     "output_type": "execute_result"
    }
   ],
   "source": [
    "calculated_speeds[3:11]*100"
   ]
  },
  {
   "cell_type": "code",
   "execution_count": 6,
   "id": "9de384b2-c6b3-41b4-bf9c-07eb1393b164",
   "metadata": {},
   "outputs": [],
   "source": [
    "#184 species\n",
    "\n",
    "phis_184=[0.5201,\n",
    "          .6343,\n",
    "          .7463,\n",
    "          .8563,\n",
    "          .9644,\n",
    "          1.070,\n",
    "          1.17479,\n",
    "          1.2772, \n",
    "          1.3779,\n",
    "          1.4768,\n",
    "          1.5740,\n",
    "          1.6699\n",
    "         ]\n",
    "speeds_184 = np.array([0.01865402867844926,\n",
    "                       0.03658286109584259,\n",
    "                       0.05762400275805327,\n",
    "                       0.07480424580535054,\n",
    "                       0.08440790680554607,\n",
    "                       0.08590363931595058,\n",
    "                       0.0805087560741039, \n",
    "                       0.06927376074429673,\n",
    "                       0.05387019219217971,\n",
    "                       0.040073882305163074,\n",
    "                       0.03022327777144476,\n",
    "                       0.0238850810820577\n",
    "                       \n",
    "                      ])\n",
    "\n",
    "\n"
   ]
  },
  {
   "cell_type": "code",
   "execution_count": 7,
   "id": "fb58cdaa-5245-4766-ae66-e322498e1e78",
   "metadata": {},
   "outputs": [
    {
     "data": {
      "text/plain": [
       "<matplotlib.legend.Legend at 0x2adb958e4220>"
      ]
     },
     "execution_count": 7,
     "metadata": {},
     "output_type": "execute_result"
    },
    {
     "data": {
      "image/png": "[encoded data removed]",
      "text/plain": [
       "<Figure size 432x288 with 1 Axes>"
      ]
     },
     "metadata": {
      "needs_background": "light"
     },
     "output_type": "display_data"
    }
   ],
   "source": [
    "##### #plotting\n",
    "fig = plt.figure()\n",
    "ax1 = fig.add_subplot(111) \n",
    "#[5:]\n",
    "ax1.plot(phis_184, speeds_184*100, '-', c='g', label='RMG model' )\n",
    "# ax1.plot(calculated_fractions, Papas_speeds, '-', c='black', label='Papas' )\n",
    "\n",
    "\n",
    "plt.xlabel('Equivalence Ratio')\n",
    "plt.ylabel('Su (cm/s)')\n",
    "plt.title('Flame Speeds of 2,3,3,3-tetrafluoropropene at Increasing Equiv. Ratio')\n",
    "ax1.legend(bbox_to_anchor=(0.5, 0., 0.8, 1))\n",
    "\n",
    "#this is 184, dont use"
   ]
  },
  {
   "cell_type": "code",
   "execution_count": null,
   "id": "88717413-d9a2-4885-9ef3-e85cadfcf8e2",
   "metadata": {},
   "outputs": [],
   "source": []
  }
 ],
 "metadata": {
  "kernelspec": {
   "display_name": "Python 3",
   "language": "python",
   "name": "python3"
  },
  "language_info": {
   "codemirror_mode": {
    "name": "ipython",
    "version": 3
   },
   "file_extension": ".py",
   "mimetype": "text/x-python",
   "name": "python",
   "nbconvert_exporter": "python",
   "pygments_lexer": "ipython3",
   "version": "3.8.8"
  }
 },
 "nbformat": 4,
 "nbformat_minor": 5
}
