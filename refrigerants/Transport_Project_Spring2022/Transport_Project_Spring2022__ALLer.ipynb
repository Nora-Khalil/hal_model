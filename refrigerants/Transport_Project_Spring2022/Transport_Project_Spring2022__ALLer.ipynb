{
 "cells": [
  {
   "cell_type": "code",
   "execution_count": 1,
   "id": "30c6cfdf",
   "metadata": {},
   "outputs": [],
   "source": [
    "import sys\n",
    "sys.path.insert(0, '/home/khalil.nor/cantera/build/python')"
   ]
  },
  {
   "cell_type": "code",
   "execution_count": 2,
   "id": "f46f2fe3",
   "metadata": {},
   "outputs": [],
   "source": [
    "import cantera as ct\n",
    "import os"
   ]
  },
  {
   "cell_type": "code",
   "execution_count": 3,
   "id": "69a489a0",
   "metadata": {
    "scrolled": true
   },
   "outputs": [
    {
     "name": "stdout",
     "output_type": "stream",
     "text": [
      "Running Cantera Version: 2.6.0b1\n"
     ]
    }
   ],
   "source": [
    "print(\"Running Cantera Version: \" + str(ct.__version__))"
   ]
  },
  {
   "cell_type": "code",
   "execution_count": null,
   "id": "97ee87bd",
   "metadata": {},
   "outputs": [],
   "source": [
    "###need to specify python path in sbatch script when running over all flame speeds "
   ]
  },
  {
   "cell_type": "code",
   "execution_count": null,
   "id": "37adb964",
   "metadata": {},
   "outputs": [
    {
     "name": "stderr",
     "output_type": "stream",
     "text": [
      "/tmp/ipykernel_3833/1811946274.py:25: DeprecationWarning: XML_Node::build: \n",
      "The CTI and XML input file formats are deprecated and will be removed in\n",
      "Cantera 3.0. Use 'cti2yaml.py' or 'ctml2yaml.py' to convert CTI or XML input\n",
      "files to the YAML format. See https://cantera.org/tutorials/legacy2yaml.html\n",
      "for more information.\n",
      "  gas = ct.Solution(directory)\n"
     ]
    },
    {
     "name": "stdout",
     "output_type": "stream",
     "text": [
      "0.0566\n",
      "\n",
      "************ Solving on 8 point grid with energy equation enabled ************\n",
      "\n",
      "..............................................................................\n",
      "Attempt Newton solution of steady-state problem...    failure. \n",
      "Take 10 timesteps     1.068e-05      4.058\n",
      "Attempt Newton solution of steady-state problem...    failure. \n",
      "Take 10 timesteps     3.421e-05       6.31\n",
      "Attempt Newton solution of steady-state problem...    failure. \n",
      "Take 10 timesteps     2.435e-05      6.216\n",
      "Attempt Newton solution of steady-state problem...    success.\n",
      "\n",
      "Problem solved on [9] point grid(s).\n",
      "\n",
      "..............................................................................\n",
      "grid refinement disabled.\n",
      "\n",
      "******************** Solving with grid refinement enabled ********************\n",
      "\n",
      "..............................................................................\n",
      "Attempt Newton solution of steady-state problem...    success.\n",
      "\n",
      "Problem solved on [9] point grid(s).\n",
      "\n",
      "..............................................................................\n",
      "##############################################################################\n",
      "Refining grid in flame.\n",
      "    New points inserted after grid points 0 1 2 3 4 5 \n",
      "    to resolve C#CC(416) C(4) C2H(21) C2H2(22) C2H3(28) C2H4(29) C2H5(31) C2H5O2(40) C2H6(1) C3H3(2030) C3H4(2022) C3H6(74) C4H6(86) C5H8(794) CCC(41) CH(5) CH2(S)(24) CH2(T)(17) CH2CO(27) CH2O(19) CH2OH(32) CH3(18) CH3O(26) CH3O2(36) CH4(30) CHO2(203) CO(14) CO2(15) H(6) H2(9) H2CC(23) H2O(3) H2O2(13) HCCO(20) HCO(16) HO2(12) N2 O(7) O2(2) OH(8) T velocity \n",
      "##############################################################################\n",
      "\n",
      "..............................................................................\n",
      "Attempt Newton solution of steady-state problem...    failure. \n",
      "Take 10 timesteps     1.688e-05      6.025\n",
      "Attempt Newton solution of steady-state problem...    success.\n",
      "\n",
      "Problem solved on [15] point grid(s).\n",
      "\n",
      "..............................................................................\n",
      "##############################################################################\n",
      "Refining grid in flame.\n",
      "    New points inserted after grid points 3 4 5 6 7 8 12 \n",
      "    to resolve C#CC(416) C(4) C2H(21) C2H2(22) C2H3(28) C2H4(29) C2H5(31) C2H5O(101) C2H5O2(40) C2H6(1) C3H3(2030) C3H4(2022) C3H6(74) C3H7(49) C4H2(6901) C4H6(86) C5H8(794) CCC(41) CH(5) CH2(S)(24) CH2(T)(17) CH2CHO(34) CH2CO(27) CH2O(19) CH2OH(32) CH3(18) CH3O(26) CH3O2(36) CH4(30) CHO2(203) CO(14) CO2(15) H(6) H2(9) H2CC(23) H2O(3) H2O2(13) HCCO(20) HCO(16) HO2(12) N2 O(7) O2(2) OH(8) S(4414) S(640) T point 12 velocity \n",
      "##############################################################################\n",
      "\n",
      "..............................................................................\n",
      "Attempt Newton solution of steady-state problem...    failure. \n",
      "Take 10 timesteps     1.898e-05      5.945\n",
      "Attempt Newton solution of steady-state problem...    success.\n",
      "\n",
      "Problem solved on [22] point grid(s).\n",
      "\n",
      "..............................................................................\n",
      "##############################################################################\n",
      "Refining grid in flame.\n",
      "    New points inserted after grid points 6 7 8 9 10 11 12 \n",
      "    to resolve C#CC(416) C(4) C2H(21) C2H2(22) C2H3(28) C2H4(29) C2H5(31) C2H5O(101) C2H5O2(40) C2H6(1) C3H3(2030) C3H4(2022) C3H5(219) C3H6(74) C3H7(218) C3H7(49) C4H2(6901) C4H4(1657) C4H6(3180) C4H6(86) C4H7(2028) C5H8(794) CCC(41) CH(5) CH2(S)(24) CH2(T)(17) CH2CHO(34) CH2CO(27) CH2O(19) CH2OH(32) CH3(18) CH3O(26) CH3O2(36) CH4(30) CHO2(203) CHO2(212) CO(14) CO2(15) H(6) H2(9) H2CC(23) H2O(3) H2O2(13) HCCO(20) HCO(16) HO2(12) N2 O(7) O2(2) OH(8) S(10004) S(10009) S(4414) S(640) T velocity \n",
      "##############################################################################\n",
      "\n",
      "..............................................................................\n",
      "Attempt Newton solution of steady-state problem...    failure. \n",
      "Take 10 timesteps     1.898e-05      6.055\n",
      "Attempt Newton solution of steady-state problem...    success.\n",
      "\n",
      "Problem solved on [29] point grid(s).\n",
      "\n",
      "..............................................................................\n",
      "##############################################################################\n",
      "Refining grid in flame.\n",
      "    New points inserted after grid points 9 10 11 12 13 14 15 20 \n",
      "    to resolve C#CC(416) C(4) C2H(21) C2H2(22) C2H3(28) C2H4(29) C2H5(31) C2H5O(101) C2H5O2(40) C2H6(1) C3H3(2030) C3H4(2022) C3H5(219) C3H6(74) C3H7(218) C3H7(49) C4H2(6901) C4H3(6904) C4H4(1657) C4H6(3180) C4H6(86) C4H7(2028) C5H8(794) CCC(41) CH(5) CH2(S)(24) CH2(T)(17) CH2CHO(34) CH2CO(27) CH2O(19) CH2OH(32) CH3(18) CH3O(26) CH3O2(36) CH4(30) CHO2(203) CHO2(212) CO(14) CO2(15) H(6) H2(9) H2CC(23) H2O(3) H2O2(13) HCCO(20) HCO(16) HO2(12) N2 O(7) O2(2) OH(8) S(10004) S(10009) S(14103) S(2376) S(4414) S(640) T point 20 velocity \n",
      "##############################################################################\n",
      "\n",
      "..............................................................................\n",
      "Attempt Newton solution of steady-state problem...    failure. \n",
      "Take 10 timesteps     0.0001139      5.307\n",
      "Attempt Newton solution of steady-state problem...    failure. \n",
      "Take 10 timesteps     0.0005767      3.969\n",
      "Attempt Newton solution of steady-state problem...    success.\n",
      "\n",
      "Problem solved on [37] point grid(s).\n",
      "\n",
      "..............................................................................\n",
      "##############################################################################\n",
      "Refining grid in flame.\n",
      "    New points inserted after grid points 12 13 14 15 16 17 18 19 \n",
      "    to resolve C#CC(416) C(4) C2H(21) C2H2(22) C2H3(28) C2H4(29) C2H5(31) C2H5O(101) C2H5O2(40) C2H6(1) C3H3(2030) C3H4(2022) C3H5(219) C3H5(220) C3H6(221) C3H6(74) C3H7(218) C3H7(49) C4H2(6901) C4H2(6902) C4H3(6904) C4H4(1657) C4H5(1658) C4H5(4011) C4H6(3180) C4H6(86) C4H7(2028) C4H7(59) C5H4(8619) C5H8(794) CCC(41) CH(5) CH2(S)(24) CH2(T)(17) CH2CHO(34) CH2CO(27) CH2O(19) CH2OH(32) CH3(18) CH3CO(33) CH3O(26) CH3O2(36) CH4(30) CHO2(203) CHO2(212) CO(14) CO2(15) H(6) H2(9) H2CC(23) H2O(3) H2O2(13) HCCO(20) HCO(16) HO2(12) N2 O(7) O2(2) OH(8) S(10004) S(10009) S(10213) S(14103) S(14104) S(19145) S(2376) S(37678) S(4411) S(4414) S(640) T velocity \n",
      "##############################################################################\n",
      "\n",
      "..............................................................................\n",
      "Attempt Newton solution of steady-state problem..."
     ]
    }
   ],
   "source": [
    "\n",
    "#species and the stoic where equivalence ratio = 1\n",
    "#species = {'C2H6': [0.025,0.1525,0.0566],'CH4': [0.05, 0.1525,0.095] ,'CH2F2': [0.11,0.225,0.174] ,'CH3F': [0.08,.225,0.123],'C2H5F': [0.025,0.150,0.0654],'CH2FCH2F' :[0.0375,0.150,0.0775],'CH2FCHF2' :[0.075,0.150,0.095],'CH3CF3' :[0.07,0.150,0.095],'CH3CHF2':[0.0375, 0.150,0.0775]}\n",
    "\n",
    "\n",
    "\n",
    "species = {'C2H6': [0.025,0.1525,0.0566]}\n",
    "\n",
    "#Constants\n",
    "To = 298\n",
    "Po = ct.one_atm\n",
    "\n",
    "for label,value in species.items():\n",
    "    #find all chem.cti files for each halocarbon/hydrocarbon. Evaluate at their specified equivalence ratios.\n",
    "    directory = f'{label}/cantera/chem.cti'\n",
    "    i = value[0]\n",
    "    mole_frac_list = []\n",
    "    \n",
    "    while i < value[1]: \n",
    "      mole_frac_list.append(i)\n",
    "      i += 0.0025 \n",
    "        \n",
    "    #can use below to only test one vol_frac\n",
    "    mole_frac_list = [0.0566]\n",
    "    \n",
    "    gas = ct.Solution(directory)\n",
    "    \n",
    "    for mole in mole_frac_list: \n",
    "        print(mole)\n",
    "        X_stoic = value[2]\n",
    "        norm_ox = (1-X_stoic)*.21\n",
    "        mole_frac_dict = {'C2H6(1)': (X_stoic/norm_ox), 'O2(2)':((1-X_stoic)*.21)/norm_ox, 'N2':((1-X_stoic)*0.79)/norm_ox }\n",
    "        gas.TPX = To, Po, mole_frac_dict\n",
    "        width = 0.08\n",
    "        flame = ct.FreeFlame(gas, width=width)\n",
    "        flame.set_refine_criteria(ratio=3, slope=0.1, curve=0.1)\n",
    "        flame.max_time_step_count = 900\n",
    "        loglevel = 1\n",
    "    \n",
    "   #Calculate Flame Speeds using 'Mixture-averaged' transport model \n",
    "        flame.transport_model='Mix'\n",
    "        flame.solve(loglevel=loglevel, auto=True)\n",
    "    \n",
    "        print('mixture-averaged flamespeed at volume fraction {0:7f}= {0:7f} m/s'.format(mole,flame.velocity[0]))\n",
    "    '''\n",
    "    Su = flame.u[0]\n",
    "    results[x] = Su\n",
    "    sltn = flame.to_solution_array()\n",
    "    pd = sltn.to_pandas()\n",
    "    pd.to_csv(f'data/test_{x}.csv')\n",
    "\n",
    "vol_fracs = list(results.keys())\n",
    "flame_speeds = list(results.values())\n",
    "    '''\n",
    "\n",
    "\n",
    "\n",
    "\n",
    "    \n",
    "'''\n",
    "\n",
    "\n",
    "i = 0.08\n",
    "mole_frac_list = []\n",
    "\n",
    "while i < 0.225:\n",
    "   mole_frac_list.append(i)\n",
    "   i += 0.0025\n",
    "\n",
    "#can use below to only test one vol_frac\n",
    "#mole_frac_list = [0.123]\n",
    "\n",
    "\n",
    "results = {}\n",
    "\n",
    "for x in mole_frac_list:\n",
    "    norm_ox = (1-x)*.21\n",
    "    mole_frac_dict = {'CH3F(1)': (x/norm_ox), 'O2(2)':((1-x)*.21)/norm_ox, 'N2':((1-x)*0.79)/norm_ox }\n",
    "    gas.TPX = To, Po, mole_frac_dict\n",
    "    width = 0.08\n",
    "    flame = ct.FreeFlame(gas, width=width)\n",
    "    flame.set_refine_criteria(ratio=3, slope=0.1, curve=0.1)\n",
    "    flame.max_time_step_count = 900\n",
    "    loglevel = 1\n",
    "    flame.solve(loglevel=loglevel, auto=True)\n",
    "    Su = flame.u[0]\n",
    "    results[x] = Su\n",
    "    sltn = flame.to_solution_array()\n",
    "    pd = sltn.to_pandas()\n",
    "    pd.to_csv(f'data/test_{x}.csv')\n",
    "\n",
    "vol_fracs = list(results.keys())\n",
    "flame_speeds = list(results.values())\n",
    "\n",
    "\n",
    "print(\"volume fractions are:\")\n",
    "print(vol_fracs)\n",
    "\n",
    "print(\"flame speeds are:\")\n",
    "print(flame_speeds)\n",
    "\n",
    "#print(xresults)\n",
    "print(\"volume fractions list is \" + str(mole_frac_list))\n",
    "'''"
   ]
  },
  {
   "cell_type": "code",
   "execution_count": null,
   "id": "b6efa5d1",
   "metadata": {
    "scrolled": true
   },
   "outputs": [],
   "source": [
    "gas = ct.Solution('C2H6/cantera/chem.cti')"
   ]
  },
  {
   "cell_type": "code",
   "execution_count": 6,
   "id": "b614f7ad",
   "metadata": {},
   "outputs": [
    {
     "name": "stdout",
     "output_type": "stream",
     "text": [
      "mixture-averaged flamespeed = 0.423174 m/s\n"
     ]
    }
   ],
   "source": [
    "print('mixture-averaged flamespeed = {0:7f} m/s'.format(flame.velocity[0]))"
   ]
  },
  {
   "cell_type": "code",
   "execution_count": null,
   "id": "2144a80f",
   "metadata": {},
   "outputs": [],
   "source": [
    "gas.binary_diff_coeffs\n"
   ]
  },
  {
   "cell_type": "code",
   "execution_count": null,
   "id": "ce712f85",
   "metadata": {},
   "outputs": [],
   "source": []
  }
 ],
 "metadata": {
  "kernelspec": {
   "display_name": "proj_transport",
   "language": "python",
   "name": "proj_transport"
  },
  "language_info": {
   "codemirror_mode": {
    "name": "ipython",
    "version": 3
   },
   "file_extension": ".py",
   "mimetype": "text/x-python",
   "name": "python",
   "nbconvert_exporter": "python",
   "pygments_lexer": "ipython3",
   "version": "3.9.12"
  }
 },
 "nbformat": 4,
 "nbformat_minor": 5
}
