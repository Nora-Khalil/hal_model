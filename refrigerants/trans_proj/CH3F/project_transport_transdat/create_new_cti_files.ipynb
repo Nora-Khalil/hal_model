{
 "cells": [
  {
   "cell_type": "code",
   "execution_count": null,
   "id": "eca20392",
   "metadata": {},
   "outputs": [],
   "source": [
    "import os\n",
    "import cantera as ct \n",
    "import re\n",
    "\n",
    "\n",
    "list_of_directories = os.listdir('.')\n",
    "#list of only new .dat files \n",
    "list_of_trandat_files = [file for file in list_of_directories if re.match('tran[0-9]+\\.dat', file)] \n",
    "\n",
    "\n",
    "os.system('source activate cantera_env')\n",
    "\n",
    "#Using the cantera command, create the chem.cti files that cantera will use to calculate flamespeeds\n",
    "for file in list_of_trandat_files: \n",
    "    match = re.match('tran([0-9]+)\\.dat', file)\n",
    "    os_command1 = f'ck2cti --input=chem.inp --transport={file}'\n",
    "    os.system(os_command1)\n",
    "    os_command2 = f'mv chem.cti chem{match.group(1)}\\.cti'\n",
    "    os.system(os_command2)\n",
    "    \n",
    "list_of_directories = os.listdir('.')\n",
    "list_of_cti_files = [file for file in list_of_directories if re.match('chem[0-9]+\\.cti', file)]\n",
    "\n",
    "#move to a new folder\n",
    "for cti in list_of_cti_files:\n",
    "       match = re.match('chem([0-9]+)\\.cti',cti)\n",
    "       os_command3 = f'mv chem{match.group(1)}.cti ../project_transport_cantera'\n",
    "       os.system(os_command3)\n",
    "        \n",
    "        \n",
    "        "
   ]
  },
  {
   "cell_type": "code",
   "execution_count": null,
   "id": "8dc257d8",
   "metadata": {},
   "outputs": [],
   "source": []
  }
 ],
 "metadata": {
  "kernelspec": {
   "display_name": "Python 3 (ipykernel)",
   "language": "python",
   "name": "python3"
  },
  "language_info": {
   "codemirror_mode": {
    "name": "ipython",
    "version": 3
   },
   "file_extension": ".py",
   "mimetype": "text/x-python",
   "name": "python",
   "nbconvert_exporter": "python",
   "pygments_lexer": "ipython3",
   "version": "3.9.12"
  }
 },
 "nbformat": 4,
 "nbformat_minor": 5
}
