{
 "cells": [
  {
   "cell_type": "markdown",
   "id": "548e204d",
   "metadata": {},
   "source": [
    "# Postprocessing flame speed data"
   ]
  },
  {
   "cell_type": "code",
   "execution_count": 19,
   "id": "62edbfbc",
   "metadata": {},
   "outputs": [],
   "source": [
    "import json\n",
    "import matplotlib\n",
    "from matplotlib import pyplot as plt\n",
    "import numpy as np"
   ]
  },
  {
   "cell_type": "markdown",
   "id": "e331331a",
   "metadata": {},
   "source": [
    "Not a good way to load this if it has changed..."
   ]
  },
  {
   "cell_type": "code",
   "execution_count": 16,
   "id": "4c551b15",
   "metadata": {},
   "outputs": [],
   "source": [
    "# %load final.csv\n",
    "flamespeeds = [0.18561866177685424, 0.1856186434742059, 0.1856186617917298, 0.18561858957248645, 0.1856186617962467, 0.18561826646107152, 0.18557447070908958, 0.185618661771624, 0.18561866140907252, 0.18561866176926065, 0.1856186617684281, 0.1856446710712206, 0.18561866179665457, 0.1856186618008524, 0.18561865977942812, 0.1856186617190945, 0.18561866127361432, 0.1856186611615349, 0.18561866178044872, 0.18561882287025863, 0.1856186617830487, 0.18561865523075655]\n",
    "species = ['75', '78', '77', '48', '47', '52', '61', '73', '72', '40', '33', '45', '57', '46', '50', '79', '64', '82', '41', '69', '63', '56']\n",
    "species = [int(i) for i in species]\n"
   ]
  },
  {
   "cell_type": "code",
   "execution_count": 18,
   "id": "07696b6c",
   "metadata": {},
   "outputs": [
    {
     "data": {
      "text/plain": [
       "[<matplotlib.lines.Line2D at 0x2b921243aa90>]"
      ]
     },
     "execution_count": 18,
     "metadata": {},
     "output_type": "execute_result"
    },
    {
     "data": {
      "image/png": "[encoded data removed]",
      "text/plain": [
       "<Figure size 432x288 with 1 Axes>"
      ]
     },
     "metadata": {
      "needs_background": "light"
     },
     "output_type": "display_data"
    }
   ],
   "source": [
    "plt.plot(species,flamespeeds,'*')"
   ]
  },
  {
   "cell_type": "code",
   "execution_count": 20,
   "id": "08b303be",
   "metadata": {},
   "outputs": [],
   "source": [
    "mean = np.average(flamespeeds)"
   ]
  },
  {
   "cell_type": "code",
   "execution_count": 25,
   "id": "583fdfc1",
   "metadata": {},
   "outputs": [
    {
     "name": "stdout",
     "output_type": "stream",
     "text": [
      "Species 75 caused a +0.000% change\n",
      "Species 78 caused a +0.000% change\n",
      "Species 77 caused a +0.000% change\n",
      "Species 48 caused a +0.000% change\n",
      "Species 47 caused a +0.000% change\n",
      "Species 52 caused a +0.000% change\n",
      "Species 61 caused a -0.023% change\n",
      "Species 73 caused a +0.000% change\n",
      "Species 72 caused a +0.000% change\n",
      "Species 40 caused a +0.000% change\n",
      "Species 33 caused a +0.000% change\n",
      "Species 45 caused a +0.014% change\n",
      "Species 57 caused a +0.000% change\n",
      "Species 46 caused a +0.000% change\n",
      "Species 50 caused a +0.000% change\n",
      "Species 79 caused a +0.000% change\n",
      "Species 64 caused a +0.000% change\n",
      "Species 82 caused a +0.000% change\n",
      "Species 41 caused a +0.000% change\n",
      "Species 69 caused a +0.001% change\n",
      "Species 63 caused a +0.000% change\n",
      "Species 56 caused a +0.000% change\n"
     ]
    }
   ],
   "source": [
    "for s, f in zip(species, flamespeeds):\n",
    "    print(f\"Species {s} caused a {100*(f-mean)/mean:+.3f}% change\")"
   ]
  },
  {
   "cell_type": "code",
   "execution_count": null,
   "id": "eb56ceea",
   "metadata": {},
   "outputs": [],
   "source": []
  }
 ],
 "metadata": {
  "kernelspec": {
   "display_name": "Python 3",
   "language": "python",
   "name": "python3"
  },
  "language_info": {
   "codemirror_mode": {
    "name": "ipython",
    "version": 3
   },
   "file_extension": ".py",
   "mimetype": "text/x-python",
   "name": "python",
   "nbconvert_exporter": "python",
   "pygments_lexer": "ipython3",
   "version": "3.8.8"
  }
 },
 "nbformat": 4,
 "nbformat_minor": 5
}
