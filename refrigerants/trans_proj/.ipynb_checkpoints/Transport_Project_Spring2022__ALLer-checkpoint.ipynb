{
 "cells": [
  {
   "cell_type": "code",
   "execution_count": 2,
   "id": "30c6cfdf",
   "metadata": {},
   "outputs": [],
   "source": [
    "import sys\n",
    "sys.path.insert(0, '/home/khalil.nor/cantera/build/python')"
   ]
  },
  {
   "cell_type": "code",
   "execution_count": 3,
   "id": "f46f2fe3",
   "metadata": {},
   "outputs": [],
   "source": [
    "import cantera as ct\n",
    "import os"
   ]
  },
  {
   "cell_type": "code",
   "execution_count": 4,
   "id": "69a489a0",
   "metadata": {
    "scrolled": true
   },
   "outputs": [
    {
     "name": "stdout",
     "output_type": "stream",
     "text": [
      "Running Cantera Version: 2.6.0b1\n"
     ]
    }
   ],
   "source": [
    "print(\"Running Cantera Version: \" + str(ct.__version__))"
   ]
  },
  {
   "cell_type": "code",
   "execution_count": null,
   "id": "97ee87bd",
   "metadata": {},
   "outputs": [],
   "source": [
    "###need to specify python path in sbatch script when running over all flame speeds "
   ]
  },
  {
   "cell_type": "code",
   "execution_count": 5,
   "id": "37adb964",
   "metadata": {},
   "outputs": [
    {
     "ename": "NameError",
     "evalue": "name 'values' is not defined",
     "output_type": "error",
     "traceback": [
      "\u001b[0;31m---------------------------------------------------------------------------\u001b[0m",
      "\u001b[0;31mNameError\u001b[0m                                 Traceback (most recent call last)",
      "Input \u001b[0;32mIn [5]\u001b[0m, in \u001b[0;36m<cell line: 12>\u001b[0;34m()\u001b[0m\n\u001b[1;32m     15\u001b[0m i \u001b[38;5;241m=\u001b[39m value[\u001b[38;5;241m0\u001b[39m]\n\u001b[1;32m     16\u001b[0m mole_frac_list \u001b[38;5;241m=\u001b[39m []\n\u001b[0;32m---> 18\u001b[0m \u001b[38;5;28;01mwhile\u001b[39;00m i \u001b[38;5;241m<\u001b[39m \u001b[43mvalues\u001b[49m[\u001b[38;5;241m1\u001b[39m]: \n\u001b[1;32m     19\u001b[0m   mole_frac_list\u001b[38;5;241m.\u001b[39mappend(i)\n\u001b[1;32m     20\u001b[0m   i \u001b[38;5;241m+\u001b[39m\u001b[38;5;241m=\u001b[39m \u001b[38;5;241m0.0025\u001b[39m \n",
      "\u001b[0;31mNameError\u001b[0m: name 'values' is not defined"
     ]
    }
   ],
   "source": [
    "\n",
    "#species and the stoic where equivalence ratio = 1\n",
    "#species = {'C2H6': [0.025,0.1525,0.0566],'CH4': [0.05, 0.1525,0.095] ,'CH2F2': [0.11,0.225,0.174] ,'CH3F': [0.08,.225,0.123],'C2H5F': [0.025,0.150,0.0654],'CH2FCH2F' :[0.0375,0.150,0.0775],'CH2FCHF2' :[0.075,0.150,0.095],'CH3CF3' :[0.07,0.150,0.095],'CH3CHF2':[0.0375, 0.150,0.0775]}\n",
    "\n",
    "\n",
    "\n",
    "species = {'C2H6': [0.025,0.1525,0.0566]}\n",
    "\n",
    "#Constants\n",
    "To = 298\n",
    "Po = ct.one_atm\n",
    "\n",
    "for label,value in species.items():\n",
    "    #find all chem.cti files for each halocarbon/hydrocarbon. Evaluate at their specified equivalence ratios.\n",
    "    directory = f'{label}/cantera/chem.cti'\n",
    "    i = value[0]\n",
    "    mole_frac_list = []\n",
    "    \n",
    "    while i < value[1]: \n",
    "      mole_frac_list.append(i)\n",
    "      i += 0.0025 \n",
    "        \n",
    "    #can use below to only test one vol_frac\n",
    "    #mole_frac_list = [***equiv_rat_1***]\n",
    "    \n",
    "    gas = ct.Solution(directory)\n",
    "    \n",
    "    for mole in mole_frac_list: \n",
    "        print(mole)\n",
    "        X_stoic = value[2]\n",
    "        norm_ox = (1-X_stoic)*.21\n",
    "        mole_frac_dict = {'C2H6(1)': (X_stoic/norm_ox), 'O2(2)':((1-X_stoic)*.21)/norm_ox, 'N2':((1-X_stoic)*0.79)/norm_ox }\n",
    "        gas.TPX = To, Po, mole_frac_dict\n",
    "        width = 0.08\n",
    "        flame = ct.FreeFlame(gas, width=width)\n",
    "        flame.set_refine_criteria(ratio=3, slope=0.1, curve=0.1)\n",
    "        flame.max_time_step_count = 900\n",
    "        loglevel = 1\n",
    "    \n",
    "   #Calculate Flame Speeds using 'Mixture-averaged' transport model \n",
    "        flame.transport_model='Mix'\n",
    "        flame.solve(loglevel=loglevel, auto=True)\n",
    "    \n",
    "        print('mixture-averaged flamespeed at volume fraction {0:7f}= {0:7f} m/s'.format(mole,flame.velocity[0]))\n",
    "    '''\n",
    "    Su = flame.u[0]\n",
    "    results[x] = Su\n",
    "    sltn = flame.to_solution_array()\n",
    "    pd = sltn.to_pandas()\n",
    "    pd.to_csv(f'data/test_{x}.csv')\n",
    "\n",
    "vol_fracs = list(results.keys())\n",
    "flame_speeds = list(results.values())\n",
    "    '''\n",
    "\n",
    "\n",
    "\n",
    "\n",
    "    \n",
    "'''\n",
    "\n",
    "\n",
    "i = 0.08\n",
    "mole_frac_list = []\n",
    "\n",
    "while i < 0.225:\n",
    "   mole_frac_list.append(i)\n",
    "   i += 0.0025\n",
    "\n",
    "#can use below to only test one vol_frac\n",
    "#mole_frac_list = [0.123]\n",
    "\n",
    "\n",
    "results = {}\n",
    "\n",
    "for x in mole_frac_list:\n",
    "    norm_ox = (1-x)*.21\n",
    "    mole_frac_dict = {'CH3F(1)': (x/norm_ox), 'O2(2)':((1-x)*.21)/norm_ox, 'N2':((1-x)*0.79)/norm_ox }\n",
    "    gas.TPX = To, Po, mole_frac_dict\n",
    "    width = 0.08\n",
    "    flame = ct.FreeFlame(gas, width=width)\n",
    "    flame.set_refine_criteria(ratio=3, slope=0.1, curve=0.1)\n",
    "    flame.max_time_step_count = 900\n",
    "    loglevel = 1\n",
    "    flame.solve(loglevel=loglevel, auto=True)\n",
    "    Su = flame.u[0]\n",
    "    results[x] = Su\n",
    "    sltn = flame.to_solution_array()\n",
    "    pd = sltn.to_pandas()\n",
    "    pd.to_csv(f'data/test_{x}.csv')\n",
    "\n",
    "vol_fracs = list(results.keys())\n",
    "flame_speeds = list(results.values())\n",
    "\n",
    "\n",
    "print(\"volume fractions are:\")\n",
    "print(vol_fracs)\n",
    "\n",
    "print(\"flame speeds are:\")\n",
    "print(flame_speeds)\n",
    "\n",
    "#print(xresults)\n",
    "print(\"volume fractions list is \" + str(mole_frac_list))\n",
    "'''"
   ]
  },
  {
   "cell_type": "code",
   "execution_count": null,
   "id": "b6efa5d1",
   "metadata": {
    "scrolled": true
   },
   "outputs": [],
   "source": [
    "gas = ct.Solution('C2H6/cantera/chem.cti')"
   ]
  },
  {
   "cell_type": "code",
   "execution_count": 6,
   "id": "b614f7ad",
   "metadata": {},
   "outputs": [
    {
     "name": "stdout",
     "output_type": "stream",
     "text": [
      "mixture-averaged flamespeed = 0.423174 m/s\n"
     ]
    }
   ],
   "source": [
    "print('mixture-averaged flamespeed = {0:7f} m/s'.format(flame.velocity[0]))"
   ]
  },
  {
   "cell_type": "code",
   "execution_count": null,
   "id": "2144a80f",
   "metadata": {},
   "outputs": [],
   "source": []
  }
 ],
 "metadata": {
  "kernelspec": {
   "display_name": "proj_transport",
   "language": "python",
   "name": "proj_transport"
  },
  "language_info": {
   "codemirror_mode": {
    "name": "ipython",
    "version": 3
   },
   "file_extension": ".py",
   "mimetype": "text/x-python",
   "name": "python",
   "nbconvert_exporter": "python",
   "pygments_lexer": "ipython3",
   "version": "3.9.12"
  }
 },
 "nbformat": 4,
 "nbformat_minor": 5
}
